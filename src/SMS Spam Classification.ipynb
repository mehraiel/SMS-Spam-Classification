{
  "cells": [
    {
      "cell_type": "markdown",
      "metadata": {
        "id": "eduI1Kbxyjyq"
      },
      "source": [
        "### Objective:\n",
        "- The objective from this task is to use your NLP skills to build a ML model can <b>classify the news categories</b>.\n",
        "- Try hard to get the maximum value of the preferable evaluation metric using any technique.\n",
        "- <b>Concat headlines and short descriptions</b> and use them in classification. "
      ]
    },
    {
      "cell_type": "markdown",
      "metadata": {
        "id": "eUiqMpPqyjyu"
      },
      "source": [
        "### Time:\n",
        "- This task mustn't take more than <b>3 hours</b>.\n",
        "    - Load Data and EDA : 30 minutes\n",
        "    - Cleaning and Preprocessing : 60 Minutes\n",
        "    - Modelling and Enhancement : 60 Minutes\n",
        "    - Extratime : 30 minutes"
      ]
    },
    {
      "cell_type": "markdown",
      "source": [
        "### Fixed Rules:\n",
        "- train test split 80% : 20%\n",
        "- all random seeds = 42"
      ],
      "metadata": {
        "id": "DilHGxwO426N"
      }
    },
    {
      "cell_type": "markdown",
      "source": [
        "# Delivery:\n",
        "## Through this [form](https://forms.gle/PshJQw2bTa48Ligz7)"
      ],
      "metadata": {
        "id": "ewUHzJdO3ZSX"
      }
    },
    {
      "cell_type": "markdown",
      "source": [
        "> ### Take a deep breath, read the instructions again, and then start"
      ],
      "metadata": {
        "id": "74XgKj5-5M3I"
      }
    },
    {
      "cell_type": "markdown",
      "source": [
        "## Load Libraries"
      ],
      "metadata": {
        "id": "u-PT_N_B5zlJ"
      }
    },
    {
      "cell_type": "code",
      "source": [
        "# !pip install Unidecode"
      ],
      "metadata": {
        "id": "a7PbDuob3Xqo"
      },
      "execution_count": null,
      "outputs": []
    },
    {
      "cell_type": "code",
      "source": [
        "import pandas as pd\n",
        "import numpy as np\n",
        "from sklearn.feature_extraction.text import TfidfVectorizer\n",
        "import random\n",
        "import re\n",
        "from sklearn import svm\n",
        "from sklearn.ensemble import RandomForestClassifier\n",
        "from sklearn.model_selection import train_test_split\n",
        "from sklearn.metrics import confusion_matrix\n",
        "from sklearn.metrics import accuracy_score , precision_score , recall_score , f1_score\n",
        "import matplotlib.pyplot as plt\n",
        "import seaborn as sns\n",
        "# from unidecode import unidecode\n",
        "from tqdm import tqdm\n",
        "\n",
        "import nltk\n",
        "nltk.download('wordnet')\n",
        "nltk.download('stopwords')\n",
        "nltk.download('omw-1.4')\n",
        "from nltk.stem import WordNetLemmatizer \n",
        "from nltk.corpus import stopwords\n",
        "\n",
        "\n",
        "import tensorflow as tf\n",
        "from tensorflow.keras import models\n",
        "from tensorflow.keras import layers\n",
        "from tensorflow.keras import losses\n",
        "from tensorflow.keras import metrics\n",
        "from tensorflow.keras import optimizers\n",
        "from tensorflow.keras.callbacks import EarlyStopping\n",
        "from tensorflow.keras.preprocessing.sequence import pad_sequences\n",
        "from tensorflow.keras.preprocessing.text import Tokenizer\n",
        "from tensorflow.keras.models import Sequential\n",
        "from tensorflow.keras.layers import Dense, Embedding, LSTM, Conv1D, MaxPool1D , Bidirectional\n",
        "from sklearn.model_selection import train_test_split\n",
        "from sklearn.metrics import classification_report, accuracy_score\n",
        "from tensorflow.keras.layers import Dense, Flatten, Embedding, LSTM, GRU , Bidirectional , Dropout\n",
        "\n"
      ],
      "metadata": {
        "id": "N3gYPAtE52Lx",
        "colab": {
          "base_uri": "https://localhost:8080/"
        },
        "outputId": "8d3c32f9-ac5d-4db2-97b0-63898dce4551"
      },
      "execution_count": 1,
      "outputs": [
        {
          "output_type": "stream",
          "name": "stderr",
          "text": [
            "[nltk_data] Downloading package wordnet to /root/nltk_data...\n",
            "[nltk_data]   Package wordnet is already up-to-date!\n",
            "[nltk_data] Downloading package stopwords to /root/nltk_data...\n",
            "[nltk_data]   Package stopwords is already up-to-date!\n",
            "[nltk_data] Downloading package omw-1.4 to /root/nltk_data...\n",
            "[nltk_data]   Package omw-1.4 is already up-to-date!\n"
          ]
        }
      ]
    },
    {
      "cell_type": "markdown",
      "source": [
        "## Load Dataset"
      ],
      "metadata": {
        "id": "MGy_FvHj52cp"
      }
    },
    {
      "cell_type": "code",
      "source": [
        "dataset = pd.read_json('/content/Dataset.json',lines=True)\n",
        "dataset"
      ],
      "metadata": {
        "id": "LlCwFrw654CY",
        "colab": {
          "base_uri": "https://localhost:8080/",
          "height": 468
        },
        "outputId": "025960a8-8369-4fac-ec28-ccd199b2fd7a"
      },
      "execution_count": 2,
      "outputs": [
        {
          "output_type": "execute_result",
          "data": {
            "text/plain": [
              "             category                                           headline  \\\n",
              "0               CRIME  There Were 2 Mass Shootings In Texas Last Week...   \n",
              "1       ENTERTAINMENT  Will Smith Joins Diplo And Nicky Jam For The 2...   \n",
              "2       ENTERTAINMENT    Hugh Grant Marries For The First Time At Age 57   \n",
              "3       ENTERTAINMENT  Jim Carrey Blasts 'Castrato' Adam Schiff And D...   \n",
              "4       ENTERTAINMENT  Julianna Margulies Uses Donald Trump Poop Bags...   \n",
              "...               ...                                                ...   \n",
              "200848           TECH  RIM CEO Thorsten Heins' 'Significant' Plans Fo...   \n",
              "200849         SPORTS  Maria Sharapova Stunned By Victoria Azarenka I...   \n",
              "200850         SPORTS  Giants Over Patriots, Jets Over Colts Among  M...   \n",
              "200851         SPORTS  Aldon Smith Arrested: 49ers Linebacker Busted ...   \n",
              "200852         SPORTS  Dwight Howard Rips Teammates After Magic Loss ...   \n",
              "\n",
              "                 authors                                               link  \\\n",
              "0        Melissa Jeltsen  https://www.huffingtonpost.com/entry/texas-ama...   \n",
              "1          Andy McDonald  https://www.huffingtonpost.com/entry/will-smit...   \n",
              "2             Ron Dicker  https://www.huffingtonpost.com/entry/hugh-gran...   \n",
              "3             Ron Dicker  https://www.huffingtonpost.com/entry/jim-carre...   \n",
              "4             Ron Dicker  https://www.huffingtonpost.com/entry/julianna-...   \n",
              "...                  ...                                                ...   \n",
              "200848  Reuters, Reuters  https://www.huffingtonpost.com/entry/rim-ceo-t...   \n",
              "200849                    https://www.huffingtonpost.com/entry/maria-sha...   \n",
              "200850                    https://www.huffingtonpost.com/entry/super-bow...   \n",
              "200851                    https://www.huffingtonpost.com/entry/aldon-smi...   \n",
              "200852                    https://www.huffingtonpost.com/entry/dwight-ho...   \n",
              "\n",
              "                                        short_description       date  \n",
              "0       She left her husband. He killed their children... 2018-05-26  \n",
              "1                                Of course it has a song. 2018-05-26  \n",
              "2       The actor and his longtime girlfriend Anna Ebe... 2018-05-26  \n",
              "3       The actor gives Dems an ass-kicking for not fi... 2018-05-26  \n",
              "4       The \"Dietland\" actress said using the bags is ... 2018-05-26  \n",
              "...                                                   ...        ...  \n",
              "200848  Verizon Wireless and AT&T are already promotin... 2012-01-28  \n",
              "200849  Afterward, Azarenka, more effusive with the pr... 2012-01-28  \n",
              "200850  Leading up to Super Bowl XLVI, the most talked... 2012-01-28  \n",
              "200851  CORRECTION: An earlier version of this story i... 2012-01-28  \n",
              "200852  The five-time all-star center tore into his te... 2012-01-28  \n",
              "\n",
              "[200853 rows x 6 columns]"
            ],
            "text/html": [
              "\n",
              "  <div id=\"df-8e415dd9-7360-4826-b670-3e1c81cf21dc\">\n",
              "    <div class=\"colab-df-container\">\n",
              "      <div>\n",
              "<style scoped>\n",
              "    .dataframe tbody tr th:only-of-type {\n",
              "        vertical-align: middle;\n",
              "    }\n",
              "\n",
              "    .dataframe tbody tr th {\n",
              "        vertical-align: top;\n",
              "    }\n",
              "\n",
              "    .dataframe thead th {\n",
              "        text-align: right;\n",
              "    }\n",
              "</style>\n",
              "<table border=\"1\" class=\"dataframe\">\n",
              "  <thead>\n",
              "    <tr style=\"text-align: right;\">\n",
              "      <th></th>\n",
              "      <th>category</th>\n",
              "      <th>headline</th>\n",
              "      <th>authors</th>\n",
              "      <th>link</th>\n",
              "      <th>short_description</th>\n",
              "      <th>date</th>\n",
              "    </tr>\n",
              "  </thead>\n",
              "  <tbody>\n",
              "    <tr>\n",
              "      <th>0</th>\n",
              "      <td>CRIME</td>\n",
              "      <td>There Were 2 Mass Shootings In Texas Last Week...</td>\n",
              "      <td>Melissa Jeltsen</td>\n",
              "      <td>https://www.huffingtonpost.com/entry/texas-ama...</td>\n",
              "      <td>She left her husband. He killed their children...</td>\n",
              "      <td>2018-05-26</td>\n",
              "    </tr>\n",
              "    <tr>\n",
              "      <th>1</th>\n",
              "      <td>ENTERTAINMENT</td>\n",
              "      <td>Will Smith Joins Diplo And Nicky Jam For The 2...</td>\n",
              "      <td>Andy McDonald</td>\n",
              "      <td>https://www.huffingtonpost.com/entry/will-smit...</td>\n",
              "      <td>Of course it has a song.</td>\n",
              "      <td>2018-05-26</td>\n",
              "    </tr>\n",
              "    <tr>\n",
              "      <th>2</th>\n",
              "      <td>ENTERTAINMENT</td>\n",
              "      <td>Hugh Grant Marries For The First Time At Age 57</td>\n",
              "      <td>Ron Dicker</td>\n",
              "      <td>https://www.huffingtonpost.com/entry/hugh-gran...</td>\n",
              "      <td>The actor and his longtime girlfriend Anna Ebe...</td>\n",
              "      <td>2018-05-26</td>\n",
              "    </tr>\n",
              "    <tr>\n",
              "      <th>3</th>\n",
              "      <td>ENTERTAINMENT</td>\n",
              "      <td>Jim Carrey Blasts 'Castrato' Adam Schiff And D...</td>\n",
              "      <td>Ron Dicker</td>\n",
              "      <td>https://www.huffingtonpost.com/entry/jim-carre...</td>\n",
              "      <td>The actor gives Dems an ass-kicking for not fi...</td>\n",
              "      <td>2018-05-26</td>\n",
              "    </tr>\n",
              "    <tr>\n",
              "      <th>4</th>\n",
              "      <td>ENTERTAINMENT</td>\n",
              "      <td>Julianna Margulies Uses Donald Trump Poop Bags...</td>\n",
              "      <td>Ron Dicker</td>\n",
              "      <td>https://www.huffingtonpost.com/entry/julianna-...</td>\n",
              "      <td>The \"Dietland\" actress said using the bags is ...</td>\n",
              "      <td>2018-05-26</td>\n",
              "    </tr>\n",
              "    <tr>\n",
              "      <th>...</th>\n",
              "      <td>...</td>\n",
              "      <td>...</td>\n",
              "      <td>...</td>\n",
              "      <td>...</td>\n",
              "      <td>...</td>\n",
              "      <td>...</td>\n",
              "    </tr>\n",
              "    <tr>\n",
              "      <th>200848</th>\n",
              "      <td>TECH</td>\n",
              "      <td>RIM CEO Thorsten Heins' 'Significant' Plans Fo...</td>\n",
              "      <td>Reuters, Reuters</td>\n",
              "      <td>https://www.huffingtonpost.com/entry/rim-ceo-t...</td>\n",
              "      <td>Verizon Wireless and AT&amp;T are already promotin...</td>\n",
              "      <td>2012-01-28</td>\n",
              "    </tr>\n",
              "    <tr>\n",
              "      <th>200849</th>\n",
              "      <td>SPORTS</td>\n",
              "      <td>Maria Sharapova Stunned By Victoria Azarenka I...</td>\n",
              "      <td></td>\n",
              "      <td>https://www.huffingtonpost.com/entry/maria-sha...</td>\n",
              "      <td>Afterward, Azarenka, more effusive with the pr...</td>\n",
              "      <td>2012-01-28</td>\n",
              "    </tr>\n",
              "    <tr>\n",
              "      <th>200850</th>\n",
              "      <td>SPORTS</td>\n",
              "      <td>Giants Over Patriots, Jets Over Colts Among  M...</td>\n",
              "      <td></td>\n",
              "      <td>https://www.huffingtonpost.com/entry/super-bow...</td>\n",
              "      <td>Leading up to Super Bowl XLVI, the most talked...</td>\n",
              "      <td>2012-01-28</td>\n",
              "    </tr>\n",
              "    <tr>\n",
              "      <th>200851</th>\n",
              "      <td>SPORTS</td>\n",
              "      <td>Aldon Smith Arrested: 49ers Linebacker Busted ...</td>\n",
              "      <td></td>\n",
              "      <td>https://www.huffingtonpost.com/entry/aldon-smi...</td>\n",
              "      <td>CORRECTION: An earlier version of this story i...</td>\n",
              "      <td>2012-01-28</td>\n",
              "    </tr>\n",
              "    <tr>\n",
              "      <th>200852</th>\n",
              "      <td>SPORTS</td>\n",
              "      <td>Dwight Howard Rips Teammates After Magic Loss ...</td>\n",
              "      <td></td>\n",
              "      <td>https://www.huffingtonpost.com/entry/dwight-ho...</td>\n",
              "      <td>The five-time all-star center tore into his te...</td>\n",
              "      <td>2012-01-28</td>\n",
              "    </tr>\n",
              "  </tbody>\n",
              "</table>\n",
              "<p>200853 rows × 6 columns</p>\n",
              "</div>\n",
              "      <button class=\"colab-df-convert\" onclick=\"convertToInteractive('df-8e415dd9-7360-4826-b670-3e1c81cf21dc')\"\n",
              "              title=\"Convert this dataframe to an interactive table.\"\n",
              "              style=\"display:none;\">\n",
              "        \n",
              "  <svg xmlns=\"http://www.w3.org/2000/svg\" height=\"24px\"viewBox=\"0 0 24 24\"\n",
              "       width=\"24px\">\n",
              "    <path d=\"M0 0h24v24H0V0z\" fill=\"none\"/>\n",
              "    <path d=\"M18.56 5.44l.94 2.06.94-2.06 2.06-.94-2.06-.94-.94-2.06-.94 2.06-2.06.94zm-11 1L8.5 8.5l.94-2.06 2.06-.94-2.06-.94L8.5 2.5l-.94 2.06-2.06.94zm10 10l.94 2.06.94-2.06 2.06-.94-2.06-.94-.94-2.06-.94 2.06-2.06.94z\"/><path d=\"M17.41 7.96l-1.37-1.37c-.4-.4-.92-.59-1.43-.59-.52 0-1.04.2-1.43.59L10.3 9.45l-7.72 7.72c-.78.78-.78 2.05 0 2.83L4 21.41c.39.39.9.59 1.41.59.51 0 1.02-.2 1.41-.59l7.78-7.78 2.81-2.81c.8-.78.8-2.07 0-2.86zM5.41 20L4 18.59l7.72-7.72 1.47 1.35L5.41 20z\"/>\n",
              "  </svg>\n",
              "      </button>\n",
              "      \n",
              "  <style>\n",
              "    .colab-df-container {\n",
              "      display:flex;\n",
              "      flex-wrap:wrap;\n",
              "      gap: 12px;\n",
              "    }\n",
              "\n",
              "    .colab-df-convert {\n",
              "      background-color: #E8F0FE;\n",
              "      border: none;\n",
              "      border-radius: 50%;\n",
              "      cursor: pointer;\n",
              "      display: none;\n",
              "      fill: #1967D2;\n",
              "      height: 32px;\n",
              "      padding: 0 0 0 0;\n",
              "      width: 32px;\n",
              "    }\n",
              "\n",
              "    .colab-df-convert:hover {\n",
              "      background-color: #E2EBFA;\n",
              "      box-shadow: 0px 1px 2px rgba(60, 64, 67, 0.3), 0px 1px 3px 1px rgba(60, 64, 67, 0.15);\n",
              "      fill: #174EA6;\n",
              "    }\n",
              "\n",
              "    [theme=dark] .colab-df-convert {\n",
              "      background-color: #3B4455;\n",
              "      fill: #D2E3FC;\n",
              "    }\n",
              "\n",
              "    [theme=dark] .colab-df-convert:hover {\n",
              "      background-color: #434B5C;\n",
              "      box-shadow: 0px 1px 3px 1px rgba(0, 0, 0, 0.15);\n",
              "      filter: drop-shadow(0px 1px 2px rgba(0, 0, 0, 0.3));\n",
              "      fill: #FFFFFF;\n",
              "    }\n",
              "  </style>\n",
              "\n",
              "      <script>\n",
              "        const buttonEl =\n",
              "          document.querySelector('#df-8e415dd9-7360-4826-b670-3e1c81cf21dc button.colab-df-convert');\n",
              "        buttonEl.style.display =\n",
              "          google.colab.kernel.accessAllowed ? 'block' : 'none';\n",
              "\n",
              "        async function convertToInteractive(key) {\n",
              "          const element = document.querySelector('#df-8e415dd9-7360-4826-b670-3e1c81cf21dc');\n",
              "          const dataTable =\n",
              "            await google.colab.kernel.invokeFunction('convertToInteractive',\n",
              "                                                     [key], {});\n",
              "          if (!dataTable) return;\n",
              "\n",
              "          const docLinkHtml = 'Like what you see? Visit the ' +\n",
              "            '<a target=\"_blank\" href=https://colab.research.google.com/notebooks/data_table.ipynb>data table notebook</a>'\n",
              "            + ' to learn more about interactive tables.';\n",
              "          element.innerHTML = '';\n",
              "          dataTable['output_type'] = 'display_data';\n",
              "          await google.colab.output.renderOutput(dataTable, element);\n",
              "          const docLink = document.createElement('div');\n",
              "          docLink.innerHTML = docLinkHtml;\n",
              "          element.appendChild(docLink);\n",
              "        }\n",
              "      </script>\n",
              "    </div>\n",
              "  </div>\n",
              "  "
            ]
          },
          "metadata": {},
          "execution_count": 2
        }
      ]
    },
    {
      "cell_type": "code",
      "source": [
        ""
      ],
      "metadata": {
        "id": "_3HZkssgo4Vq"
      },
      "execution_count": null,
      "outputs": []
    },
    {
      "cell_type": "code",
      "source": [
        ""
      ],
      "metadata": {
        "id": "kzY8-P4jo4cf"
      },
      "execution_count": null,
      "outputs": []
    },
    {
      "cell_type": "markdown",
      "source": [
        "## EDA"
      ],
      "metadata": {
        "id": "qynzn9N355a9"
      }
    },
    {
      "cell_type": "code",
      "source": [
        "dataset.shape"
      ],
      "metadata": {
        "colab": {
          "base_uri": "https://localhost:8080/"
        },
        "id": "dow8HS4OiFKv",
        "outputId": "eff849ae-d1a9-4c8e-e605-5ba2c17c815c"
      },
      "execution_count": 4,
      "outputs": [
        {
          "output_type": "execute_result",
          "data": {
            "text/plain": [
              "(200853, 6)"
            ]
          },
          "metadata": {},
          "execution_count": 4
        }
      ]
    },
    {
      "cell_type": "code",
      "source": [
        "dataset.info()"
      ],
      "metadata": {
        "id": "wpr2Gg8B548V",
        "colab": {
          "base_uri": "https://localhost:8080/"
        },
        "outputId": "f155e706-4f64-45e2-e97d-bee3ef80d80c"
      },
      "execution_count": 5,
      "outputs": [
        {
          "output_type": "stream",
          "name": "stdout",
          "text": [
            "<class 'pandas.core.frame.DataFrame'>\n",
            "RangeIndex: 200853 entries, 0 to 200852\n",
            "Data columns (total 6 columns):\n",
            " #   Column             Non-Null Count   Dtype         \n",
            "---  ------             --------------   -----         \n",
            " 0   category           200853 non-null  object        \n",
            " 1   headline           200853 non-null  object        \n",
            " 2   authors            200853 non-null  object        \n",
            " 3   link               200853 non-null  object        \n",
            " 4   short_description  200853 non-null  object        \n",
            " 5   date               200853 non-null  datetime64[ns]\n",
            "dtypes: datetime64[ns](1), object(5)\n",
            "memory usage: 9.2+ MB\n"
          ]
        }
      ]
    },
    {
      "cell_type": "code",
      "source": [
        "dataset.isnull().sum()"
      ],
      "metadata": {
        "colab": {
          "base_uri": "https://localhost:8080/"
        },
        "id": "2yDlqXmwov7g",
        "outputId": "b22b098b-e6ce-4266-ab51-ea90acae84e8"
      },
      "execution_count": 6,
      "outputs": [
        {
          "output_type": "execute_result",
          "data": {
            "text/plain": [
              "category             0\n",
              "headline             0\n",
              "authors              0\n",
              "link                 0\n",
              "short_description    0\n",
              "date                 0\n",
              "dtype: int64"
            ]
          },
          "metadata": {},
          "execution_count": 6
        }
      ]
    },
    {
      "cell_type": "code",
      "source": [
        "dataset.duplicated().sum()\n"
      ],
      "metadata": {
        "colab": {
          "base_uri": "https://localhost:8080/"
        },
        "id": "L6Fu2Ijnov-Y",
        "outputId": "b02017a8-fd17-4821-c69c-6c38ba27cc3d"
      },
      "execution_count": 7,
      "outputs": [
        {
          "output_type": "execute_result",
          "data": {
            "text/plain": [
              "13"
            ]
          },
          "metadata": {},
          "execution_count": 7
        }
      ]
    },
    {
      "cell_type": "code",
      "source": [
        "dataset[dataset.duplicated()]"
      ],
      "metadata": {
        "colab": {
          "base_uri": "https://localhost:8080/",
          "height": 457
        },
        "id": "CckxC0pFrQhi",
        "outputId": "f9149ad9-d90a-4c66-fb09-fc2b258ba201"
      },
      "execution_count": 8,
      "outputs": [
        {
          "output_type": "execute_result",
          "data": {
            "text/plain": [
              "              category                                           headline  \\\n",
              "59003         POLITICS  On Facebook, Trump's Longtime Butler Calls For...   \n",
              "59249             TECH  Former Facebook Workers: We Routinely Suppress...   \n",
              "61565            WOMEN        On Equal Pay Day, The Gap Is Still Too Wide   \n",
              "131156        WELLNESS                The World's Most Dangerous Workout?   \n",
              "135735        WELLNESS  Some People Call It 'The Best Anti-Smoking Ad ...   \n",
              "136468     ENVIRONMENT  10 Cities That Could Run Out Of Water - Weathe...   \n",
              "169481            TECH  Google Is Attacking Apple From The Inside Out ...   \n",
              "178655        WELLNESS                      Eating For Health, Not Weight   \n",
              "185922            TECH  Apple Removes Green EPEAT Electronics Certific...   \n",
              "185924            TECH  Microsoft's $6.2 Billion Writedown Shows It's ...   \n",
              "198448  STYLE & BEAUTY  Versace Atelier Worker Reflects On The Glory &...   \n",
              "198534  STYLE & BEAUTY  Behind-The-Scenes Look At Prada's Workshop (VI...   \n",
              "198644  STYLE & BEAUTY  Gucci's Frida Giannini Reveals Fashion Week Di...   \n",
              "\n",
              "       authors                                               link  \\\n",
              "59003           https://www.huffingtonpost.comhttp://www.mothe...   \n",
              "59249           https://www.huffingtonpost.comhttp://gizmodo.c...   \n",
              "61565           https://www.huffingtonpost.comhttp://www.cnbc....   \n",
              "131156          https://www.huffingtonpost.comhttp://www.cnn.c...   \n",
              "135735          https://www.huffingtonpost.comhttp://www.upwor...   \n",
              "136468          https://www.huffingtonpost.comhttp://www.weath...   \n",
              "169481          https://www.huffingtonpost.comhttp://www.busin...   \n",
              "178655          https://www.huffingtonpost.comhttp://www.nytim...   \n",
              "185922          https://www.huffingtonpost.comhttp://blogs.wsj...   \n",
              "185924          https://www.huffingtonpost.comhttp://www.theda...   \n",
              "198448          https://www.huffingtonpost.comhttp://d.repubbl...   \n",
              "198534          https://www.huffingtonpost.comhttp://d.repubbl...   \n",
              "198644          https://www.huffingtonpost.comhttp://d.repubbl...   \n",
              "\n",
              "                                        short_description       date  \n",
              "59003   Anthony Senecal, who worked as Donald Trump's ... 2016-05-12  \n",
              "59249   Facebook workers routinely suppressed news sto... 2016-05-09  \n",
              "61565   Equal Pay Day falls on April 12 in 2016. It's ... 2016-04-12  \n",
              "131156  Is the \"sport of fitness\" the world's most dan... 2014-02-10  \n",
              "135735  Almost all smokers know cigarettes are bad for... 2013-12-22  \n",
              "136468  Securing access to plentiful, renewable source... 2013-12-15  \n",
              "169481  After years of hammering away at Apple's share... 2013-01-01  \n",
              "178655  Almost half of Americans are on a diet -- not ... 2012-09-23  \n",
              "185922  Apple has pulled its products off the U.S. gov... 2012-07-07  \n",
              "185924  Fighting for online advertising dominance with... 2012-07-07  \n",
              "198448  Twenty-four hours before the fashion show, Don... 2012-02-23  \n",
              "198534  Exclusive worldwide and for the first time in ... 2012-02-22  \n",
              "198644  Frida Giannini reveals in this worldwide exclu... 2012-02-21  "
            ],
            "text/html": [
              "\n",
              "  <div id=\"df-5be7870b-363c-462f-81ec-75236488208d\">\n",
              "    <div class=\"colab-df-container\">\n",
              "      <div>\n",
              "<style scoped>\n",
              "    .dataframe tbody tr th:only-of-type {\n",
              "        vertical-align: middle;\n",
              "    }\n",
              "\n",
              "    .dataframe tbody tr th {\n",
              "        vertical-align: top;\n",
              "    }\n",
              "\n",
              "    .dataframe thead th {\n",
              "        text-align: right;\n",
              "    }\n",
              "</style>\n",
              "<table border=\"1\" class=\"dataframe\">\n",
              "  <thead>\n",
              "    <tr style=\"text-align: right;\">\n",
              "      <th></th>\n",
              "      <th>category</th>\n",
              "      <th>headline</th>\n",
              "      <th>authors</th>\n",
              "      <th>link</th>\n",
              "      <th>short_description</th>\n",
              "      <th>date</th>\n",
              "    </tr>\n",
              "  </thead>\n",
              "  <tbody>\n",
              "    <tr>\n",
              "      <th>59003</th>\n",
              "      <td>POLITICS</td>\n",
              "      <td>On Facebook, Trump's Longtime Butler Calls For...</td>\n",
              "      <td></td>\n",
              "      <td>https://www.huffingtonpost.comhttp://www.mothe...</td>\n",
              "      <td>Anthony Senecal, who worked as Donald Trump's ...</td>\n",
              "      <td>2016-05-12</td>\n",
              "    </tr>\n",
              "    <tr>\n",
              "      <th>59249</th>\n",
              "      <td>TECH</td>\n",
              "      <td>Former Facebook Workers: We Routinely Suppress...</td>\n",
              "      <td></td>\n",
              "      <td>https://www.huffingtonpost.comhttp://gizmodo.c...</td>\n",
              "      <td>Facebook workers routinely suppressed news sto...</td>\n",
              "      <td>2016-05-09</td>\n",
              "    </tr>\n",
              "    <tr>\n",
              "      <th>61565</th>\n",
              "      <td>WOMEN</td>\n",
              "      <td>On Equal Pay Day, The Gap Is Still Too Wide</td>\n",
              "      <td></td>\n",
              "      <td>https://www.huffingtonpost.comhttp://www.cnbc....</td>\n",
              "      <td>Equal Pay Day falls on April 12 in 2016. It's ...</td>\n",
              "      <td>2016-04-12</td>\n",
              "    </tr>\n",
              "    <tr>\n",
              "      <th>131156</th>\n",
              "      <td>WELLNESS</td>\n",
              "      <td>The World's Most Dangerous Workout?</td>\n",
              "      <td></td>\n",
              "      <td>https://www.huffingtonpost.comhttp://www.cnn.c...</td>\n",
              "      <td>Is the \"sport of fitness\" the world's most dan...</td>\n",
              "      <td>2014-02-10</td>\n",
              "    </tr>\n",
              "    <tr>\n",
              "      <th>135735</th>\n",
              "      <td>WELLNESS</td>\n",
              "      <td>Some People Call It 'The Best Anti-Smoking Ad ...</td>\n",
              "      <td></td>\n",
              "      <td>https://www.huffingtonpost.comhttp://www.upwor...</td>\n",
              "      <td>Almost all smokers know cigarettes are bad for...</td>\n",
              "      <td>2013-12-22</td>\n",
              "    </tr>\n",
              "    <tr>\n",
              "      <th>136468</th>\n",
              "      <td>ENVIRONMENT</td>\n",
              "      <td>10 Cities That Could Run Out Of Water - Weathe...</td>\n",
              "      <td></td>\n",
              "      <td>https://www.huffingtonpost.comhttp://www.weath...</td>\n",
              "      <td>Securing access to plentiful, renewable source...</td>\n",
              "      <td>2013-12-15</td>\n",
              "    </tr>\n",
              "    <tr>\n",
              "      <th>169481</th>\n",
              "      <td>TECH</td>\n",
              "      <td>Google Is Attacking Apple From The Inside Out ...</td>\n",
              "      <td></td>\n",
              "      <td>https://www.huffingtonpost.comhttp://www.busin...</td>\n",
              "      <td>After years of hammering away at Apple's share...</td>\n",
              "      <td>2013-01-01</td>\n",
              "    </tr>\n",
              "    <tr>\n",
              "      <th>178655</th>\n",
              "      <td>WELLNESS</td>\n",
              "      <td>Eating For Health, Not Weight</td>\n",
              "      <td></td>\n",
              "      <td>https://www.huffingtonpost.comhttp://www.nytim...</td>\n",
              "      <td>Almost half of Americans are on a diet -- not ...</td>\n",
              "      <td>2012-09-23</td>\n",
              "    </tr>\n",
              "    <tr>\n",
              "      <th>185922</th>\n",
              "      <td>TECH</td>\n",
              "      <td>Apple Removes Green EPEAT Electronics Certific...</td>\n",
              "      <td></td>\n",
              "      <td>https://www.huffingtonpost.comhttp://blogs.wsj...</td>\n",
              "      <td>Apple has pulled its products off the U.S. gov...</td>\n",
              "      <td>2012-07-07</td>\n",
              "    </tr>\n",
              "    <tr>\n",
              "      <th>185924</th>\n",
              "      <td>TECH</td>\n",
              "      <td>Microsoft's $6.2 Billion Writedown Shows It's ...</td>\n",
              "      <td></td>\n",
              "      <td>https://www.huffingtonpost.comhttp://www.theda...</td>\n",
              "      <td>Fighting for online advertising dominance with...</td>\n",
              "      <td>2012-07-07</td>\n",
              "    </tr>\n",
              "    <tr>\n",
              "      <th>198448</th>\n",
              "      <td>STYLE &amp; BEAUTY</td>\n",
              "      <td>Versace Atelier Worker Reflects On The Glory &amp;...</td>\n",
              "      <td></td>\n",
              "      <td>https://www.huffingtonpost.comhttp://d.repubbl...</td>\n",
              "      <td>Twenty-four hours before the fashion show, Don...</td>\n",
              "      <td>2012-02-23</td>\n",
              "    </tr>\n",
              "    <tr>\n",
              "      <th>198534</th>\n",
              "      <td>STYLE &amp; BEAUTY</td>\n",
              "      <td>Behind-The-Scenes Look At Prada's Workshop (VI...</td>\n",
              "      <td></td>\n",
              "      <td>https://www.huffingtonpost.comhttp://d.repubbl...</td>\n",
              "      <td>Exclusive worldwide and for the first time in ...</td>\n",
              "      <td>2012-02-22</td>\n",
              "    </tr>\n",
              "    <tr>\n",
              "      <th>198644</th>\n",
              "      <td>STYLE &amp; BEAUTY</td>\n",
              "      <td>Gucci's Frida Giannini Reveals Fashion Week Di...</td>\n",
              "      <td></td>\n",
              "      <td>https://www.huffingtonpost.comhttp://d.repubbl...</td>\n",
              "      <td>Frida Giannini reveals in this worldwide exclu...</td>\n",
              "      <td>2012-02-21</td>\n",
              "    </tr>\n",
              "  </tbody>\n",
              "</table>\n",
              "</div>\n",
              "      <button class=\"colab-df-convert\" onclick=\"convertToInteractive('df-5be7870b-363c-462f-81ec-75236488208d')\"\n",
              "              title=\"Convert this dataframe to an interactive table.\"\n",
              "              style=\"display:none;\">\n",
              "        \n",
              "  <svg xmlns=\"http://www.w3.org/2000/svg\" height=\"24px\"viewBox=\"0 0 24 24\"\n",
              "       width=\"24px\">\n",
              "    <path d=\"M0 0h24v24H0V0z\" fill=\"none\"/>\n",
              "    <path d=\"M18.56 5.44l.94 2.06.94-2.06 2.06-.94-2.06-.94-.94-2.06-.94 2.06-2.06.94zm-11 1L8.5 8.5l.94-2.06 2.06-.94-2.06-.94L8.5 2.5l-.94 2.06-2.06.94zm10 10l.94 2.06.94-2.06 2.06-.94-2.06-.94-.94-2.06-.94 2.06-2.06.94z\"/><path d=\"M17.41 7.96l-1.37-1.37c-.4-.4-.92-.59-1.43-.59-.52 0-1.04.2-1.43.59L10.3 9.45l-7.72 7.72c-.78.78-.78 2.05 0 2.83L4 21.41c.39.39.9.59 1.41.59.51 0 1.02-.2 1.41-.59l7.78-7.78 2.81-2.81c.8-.78.8-2.07 0-2.86zM5.41 20L4 18.59l7.72-7.72 1.47 1.35L5.41 20z\"/>\n",
              "  </svg>\n",
              "      </button>\n",
              "      \n",
              "  <style>\n",
              "    .colab-df-container {\n",
              "      display:flex;\n",
              "      flex-wrap:wrap;\n",
              "      gap: 12px;\n",
              "    }\n",
              "\n",
              "    .colab-df-convert {\n",
              "      background-color: #E8F0FE;\n",
              "      border: none;\n",
              "      border-radius: 50%;\n",
              "      cursor: pointer;\n",
              "      display: none;\n",
              "      fill: #1967D2;\n",
              "      height: 32px;\n",
              "      padding: 0 0 0 0;\n",
              "      width: 32px;\n",
              "    }\n",
              "\n",
              "    .colab-df-convert:hover {\n",
              "      background-color: #E2EBFA;\n",
              "      box-shadow: 0px 1px 2px rgba(60, 64, 67, 0.3), 0px 1px 3px 1px rgba(60, 64, 67, 0.15);\n",
              "      fill: #174EA6;\n",
              "    }\n",
              "\n",
              "    [theme=dark] .colab-df-convert {\n",
              "      background-color: #3B4455;\n",
              "      fill: #D2E3FC;\n",
              "    }\n",
              "\n",
              "    [theme=dark] .colab-df-convert:hover {\n",
              "      background-color: #434B5C;\n",
              "      box-shadow: 0px 1px 3px 1px rgba(0, 0, 0, 0.15);\n",
              "      filter: drop-shadow(0px 1px 2px rgba(0, 0, 0, 0.3));\n",
              "      fill: #FFFFFF;\n",
              "    }\n",
              "  </style>\n",
              "\n",
              "      <script>\n",
              "        const buttonEl =\n",
              "          document.querySelector('#df-5be7870b-363c-462f-81ec-75236488208d button.colab-df-convert');\n",
              "        buttonEl.style.display =\n",
              "          google.colab.kernel.accessAllowed ? 'block' : 'none';\n",
              "\n",
              "        async function convertToInteractive(key) {\n",
              "          const element = document.querySelector('#df-5be7870b-363c-462f-81ec-75236488208d');\n",
              "          const dataTable =\n",
              "            await google.colab.kernel.invokeFunction('convertToInteractive',\n",
              "                                                     [key], {});\n",
              "          if (!dataTable) return;\n",
              "\n",
              "          const docLinkHtml = 'Like what you see? Visit the ' +\n",
              "            '<a target=\"_blank\" href=https://colab.research.google.com/notebooks/data_table.ipynb>data table notebook</a>'\n",
              "            + ' to learn more about interactive tables.';\n",
              "          element.innerHTML = '';\n",
              "          dataTable['output_type'] = 'display_data';\n",
              "          await google.colab.output.renderOutput(dataTable, element);\n",
              "          const docLink = document.createElement('div');\n",
              "          docLink.innerHTML = docLinkHtml;\n",
              "          element.appendChild(docLink);\n",
              "        }\n",
              "      </script>\n",
              "    </div>\n",
              "  </div>\n",
              "  "
            ]
          },
          "metadata": {},
          "execution_count": 8
        }
      ]
    },
    {
      "cell_type": "code",
      "source": [
        "print(\"number of unique categories : \",dataset.category.value_counts().count())"
      ],
      "metadata": {
        "colab": {
          "base_uri": "https://localhost:8080/"
        },
        "id": "MBuizDIfp0fP",
        "outputId": "9799a21a-d043-406e-e863-e3ec9c12b23d"
      },
      "execution_count": 11,
      "outputs": [
        {
          "output_type": "stream",
          "name": "stdout",
          "text": [
            "number of unique categories :  41\n"
          ]
        }
      ]
    },
    {
      "cell_type": "code",
      "source": [
        "dataset.category.value_counts()\n"
      ],
      "metadata": {
        "colab": {
          "base_uri": "https://localhost:8080/"
        },
        "id": "pj3zM2RXowBE",
        "outputId": "3cba9601-39e1-465f-e827-d437b9099fb2"
      },
      "execution_count": 12,
      "outputs": [
        {
          "output_type": "execute_result",
          "data": {
            "text/plain": [
              "POLITICS          32739\n",
              "WELLNESS          17827\n",
              "ENTERTAINMENT     16058\n",
              "TRAVEL             9887\n",
              "STYLE & BEAUTY     9649\n",
              "PARENTING          8677\n",
              "HEALTHY LIVING     6694\n",
              "QUEER VOICES       6314\n",
              "FOOD & DRINK       6226\n",
              "BUSINESS           5937\n",
              "COMEDY             5175\n",
              "SPORTS             4884\n",
              "BLACK VOICES       4528\n",
              "HOME & LIVING      4195\n",
              "PARENTS            3955\n",
              "THE WORLDPOST      3664\n",
              "WEDDINGS           3651\n",
              "WOMEN              3490\n",
              "IMPACT             3459\n",
              "DIVORCE            3426\n",
              "CRIME              3405\n",
              "MEDIA              2815\n",
              "WEIRD NEWS         2670\n",
              "GREEN              2622\n",
              "WORLDPOST          2579\n",
              "RELIGION           2556\n",
              "STYLE              2254\n",
              "SCIENCE            2178\n",
              "WORLD NEWS         2177\n",
              "TASTE              2096\n",
              "TECH               2082\n",
              "MONEY              1707\n",
              "ARTS               1509\n",
              "FIFTY              1401\n",
              "GOOD NEWS          1398\n",
              "ARTS & CULTURE     1339\n",
              "ENVIRONMENT        1323\n",
              "COLLEGE            1144\n",
              "LATINO VOICES      1129\n",
              "CULTURE & ARTS     1030\n",
              "EDUCATION          1004\n",
              "Name: category, dtype: int64"
            ]
          },
          "metadata": {},
          "execution_count": 12
        }
      ]
    },
    {
      "cell_type": "code",
      "source": [
        "dataset.category.value_counts().plot(kind='pie',figsize=(15, 15))"
      ],
      "metadata": {
        "colab": {
          "base_uri": "https://localhost:8080/",
          "height": 863
        },
        "id": "M2LUk8haowEg",
        "outputId": "102ce656-168b-4cc8-8d28-569ea2f5978f"
      },
      "execution_count": 18,
      "outputs": [
        {
          "output_type": "execute_result",
          "data": {
            "text/plain": [
              "<matplotlib.axes._subplots.AxesSubplot at 0x7f8a2ee2b6d0>"
            ]
          },
          "metadata": {},
          "execution_count": 18
        },
        {
          "output_type": "display_data",
          "data": {
            "text/plain": [
              "<Figure size 1080x1080 with 1 Axes>"
            ],
            "image/png": "[encoded data removed]"
          },
          "metadata": {}
        }
      ]
    },
    {
      "cell_type": "code",
      "source": [
        "dataset.category.value_counts().plot(kind='bar',figsize=(15, 10))"
      ],
      "metadata": {
        "colab": {
          "base_uri": "https://localhost:8080/",
          "height": 685
        },
        "id": "tndwD6zxwn5b",
        "outputId": "100b5390-b348-4d67-9b8d-c065aa87f65c"
      },
      "execution_count": 20,
      "outputs": [
        {
          "output_type": "execute_result",
          "data": {
            "text/plain": [
              "<matplotlib.axes._subplots.AxesSubplot at 0x7f8a2ed49610>"
            ]
          },
          "metadata": {},
          "execution_count": 20
        },
        {
          "output_type": "display_data",
          "data": {
            "text/plain": [
              "<Figure size 1080x720 with 1 Axes>"
            ],
            "image/png": "[encoded data removed]"
          },
          "metadata": {
            "needs_background": "light"
          }
        }
      ]
    },
    {
      "cell_type": "code",
      "source": [
        "for i in range(15):\n",
        "  ctr = random.randint(0,31961)\n",
        "  print(dataset['headline'].iloc[ctr])\n",
        "  print(dataset['short_description'].iloc[ctr])\n",
        "  print(\"*\"*50)"
      ],
      "metadata": {
        "id": "Qvw_IKKK56YX",
        "colab": {
          "base_uri": "https://localhost:8080/"
        },
        "outputId": "f5bd9a67-6414-49f8-bddf-59c379d026ba"
      },
      "execution_count": 21,
      "outputs": [
        {
          "output_type": "stream",
          "name": "stdout",
          "text": [
            "Nunavut’s Capital Aims To Curb Alcoholism By Liberalizing Access\n",
            "Opening a beer and wine store isn’t an obvious approach to addressing a community’s devastating relationship with drinking\n",
            "**************************************************\n",
            "Only About A Third Of Republicans Believe Voting Should Be As Easy As Possible\n",
            "There's also a gap in attitudes toward voter access along racial lines.\n",
            "**************************************************\n",
            "'Despacito' Is Officially The Most Streamed Song Of All Time\n",
            "This song is taking over the world, des-pa-citooo.\n",
            "**************************************************\n",
            "See Juliette Binoche In 'Let The Sunshine In,' The French Version Of A Nancy Meyers Movie\n",
            "Claire Denis directed this romance about a dissatisfied artist seeking love.\n",
            "**************************************************\n",
            "Kris Kobach Just Got Torched By A Federal Judge In Kansas Vote Trial\n",
            "At the trial over requiring proof of citizenship to vote, the state official's missteps on evidence draw rebuke.\n",
            "**************************************************\n",
            "Portrait Series Celebrates Diversity in Transgender Community\n",
            "Having friends and colleagues who are transgender, transgender rights have always been important to me, but especially today\n",
            "**************************************************\n",
            "Javier Bardem Defends Woody Allen, Says He Has 'Doubts' About Allegations\n",
            "The actor added that had the film director been found guilty, he would've stopped working with him.\n",
            "**************************************************\n",
            "Loved Ones Are The 'Silver Bullet' To Prisoners' Success During And After Incarceration\n",
            "But we're often seen as inconsequential.\n",
            "**************************************************\n",
            "James Comey Basks In The Glow Of Michael Flynn's Downfall\n",
            "The former FBI director tweeted a Bible verse just after Flynn pleaded guilty.\n",
            "**************************************************\n",
            "Warplane Reportedly Bombs Site Of Deadly Gas Attack Following U.S. Incursion In Syria\n",
            "The jet struck at around 11 a.m. local time, causing damage but no known casualties.\n",
            "**************************************************\n",
            "Women Of The Internet Band Together To Protect 'S**tty Media Men' Author\n",
            "They're taking to Twitter with an \"I am Spartacus\" movement.\n",
            "**************************************************\n",
            "Suspected ISIS Fighter Identified As Runaway German Teen\n",
            "She had been missing since last July.\n",
            "**************************************************\n",
            "Utah Physician Says She'll Happily Do The Job Jason Chaffetz Won't\n",
            "\"Medical help is on the way\" for Utah's 3rd Congressional District, Democratic hopeful Kathryn Allen said.\n",
            "**************************************************\n",
            "Guy In Bear Costume Has No Problem Voting In Russian Election\n",
            "Even though he could barely fit into the voting booth.\n",
            "**************************************************\n",
            "Queen Elizabeth II Visits Manchester Bombing Victims In Children's Hospital\n",
            "\"It's very interesting how everybody has united here.\"\n",
            "**************************************************\n"
          ]
        }
      ]
    },
    {
      "cell_type": "code",
      "source": [
        ""
      ],
      "metadata": {
        "id": "jy-vSQvl57Sd"
      },
      "execution_count": null,
      "outputs": []
    },
    {
      "cell_type": "markdown",
      "source": [
        "## Cleaning & Preprocessing"
      ],
      "metadata": {
        "id": "PgIWPomC562t"
      }
    },
    {
      "cell_type": "markdown",
      "source": [
        "#### prepare Dataset"
      ],
      "metadata": {
        "id": "huDzVdpZyMdm"
      }
    },
    {
      "cell_type": "markdown",
      "source": [
        "- concat 2 columns (headlines and short_description ) to create feature column (text)\n"
      ],
      "metadata": {
        "id": "rn4fOojntXRy"
      }
    },
    {
      "cell_type": "code",
      "source": [
        "dataset['text'] = dataset['headline'] + ' ' +  dataset['short_description']\n",
        "dataset"
      ],
      "metadata": {
        "id": "cJRjq_tq5-fT",
        "colab": {
          "base_uri": "https://localhost:8080/",
          "height": 641
        },
        "outputId": "0bd482bf-6243-46ca-f6fb-9606f9cfb3fa"
      },
      "execution_count": 3,
      "outputs": [
        {
          "output_type": "execute_result",
          "data": {
            "text/plain": [
              "             category                                           headline  \\\n",
              "0               CRIME  There Were 2 Mass Shootings In Texas Last Week...   \n",
              "1       ENTERTAINMENT  Will Smith Joins Diplo And Nicky Jam For The 2...   \n",
              "2       ENTERTAINMENT    Hugh Grant Marries For The First Time At Age 57   \n",
              "3       ENTERTAINMENT  Jim Carrey Blasts 'Castrato' Adam Schiff And D...   \n",
              "4       ENTERTAINMENT  Julianna Margulies Uses Donald Trump Poop Bags...   \n",
              "...               ...                                                ...   \n",
              "200848           TECH  RIM CEO Thorsten Heins' 'Significant' Plans Fo...   \n",
              "200849         SPORTS  Maria Sharapova Stunned By Victoria Azarenka I...   \n",
              "200850         SPORTS  Giants Over Patriots, Jets Over Colts Among  M...   \n",
              "200851         SPORTS  Aldon Smith Arrested: 49ers Linebacker Busted ...   \n",
              "200852         SPORTS  Dwight Howard Rips Teammates After Magic Loss ...   \n",
              "\n",
              "                 authors                                               link  \\\n",
              "0        Melissa Jeltsen  https://www.huffingtonpost.com/entry/texas-ama...   \n",
              "1          Andy McDonald  https://www.huffingtonpost.com/entry/will-smit...   \n",
              "2             Ron Dicker  https://www.huffingtonpost.com/entry/hugh-gran...   \n",
              "3             Ron Dicker  https://www.huffingtonpost.com/entry/jim-carre...   \n",
              "4             Ron Dicker  https://www.huffingtonpost.com/entry/julianna-...   \n",
              "...                  ...                                                ...   \n",
              "200848  Reuters, Reuters  https://www.huffingtonpost.com/entry/rim-ceo-t...   \n",
              "200849                    https://www.huffingtonpost.com/entry/maria-sha...   \n",
              "200850                    https://www.huffingtonpost.com/entry/super-bow...   \n",
              "200851                    https://www.huffingtonpost.com/entry/aldon-smi...   \n",
              "200852                    https://www.huffingtonpost.com/entry/dwight-ho...   \n",
              "\n",
              "                                        short_description       date  \\\n",
              "0       She left her husband. He killed their children... 2018-05-26   \n",
              "1                                Of course it has a song. 2018-05-26   \n",
              "2       The actor and his longtime girlfriend Anna Ebe... 2018-05-26   \n",
              "3       The actor gives Dems an ass-kicking for not fi... 2018-05-26   \n",
              "4       The \"Dietland\" actress said using the bags is ... 2018-05-26   \n",
              "...                                                   ...        ...   \n",
              "200848  Verizon Wireless and AT&T are already promotin... 2012-01-28   \n",
              "200849  Afterward, Azarenka, more effusive with the pr... 2012-01-28   \n",
              "200850  Leading up to Super Bowl XLVI, the most talked... 2012-01-28   \n",
              "200851  CORRECTION: An earlier version of this story i... 2012-01-28   \n",
              "200852  The five-time all-star center tore into his te... 2012-01-28   \n",
              "\n",
              "                                                     text  \n",
              "0       There Were 2 Mass Shootings In Texas Last Week...  \n",
              "1       Will Smith Joins Diplo And Nicky Jam For The 2...  \n",
              "2       Hugh Grant Marries For The First Time At Age 5...  \n",
              "3       Jim Carrey Blasts 'Castrato' Adam Schiff And D...  \n",
              "4       Julianna Margulies Uses Donald Trump Poop Bags...  \n",
              "...                                                   ...  \n",
              "200848  RIM CEO Thorsten Heins' 'Significant' Plans Fo...  \n",
              "200849  Maria Sharapova Stunned By Victoria Azarenka I...  \n",
              "200850  Giants Over Patriots, Jets Over Colts Among  M...  \n",
              "200851  Aldon Smith Arrested: 49ers Linebacker Busted ...  \n",
              "200852  Dwight Howard Rips Teammates After Magic Loss ...  \n",
              "\n",
              "[200853 rows x 7 columns]"
            ],
            "text/html": [
              "\n",
              "  <div id=\"df-85160801-6ddf-43f5-a0c6-bc7ca1bebfa7\">\n",
              "    <div class=\"colab-df-container\">\n",
              "      <div>\n",
              "<style scoped>\n",
              "    .dataframe tbody tr th:only-of-type {\n",
              "        vertical-align: middle;\n",
              "    }\n",
              "\n",
              "    .dataframe tbody tr th {\n",
              "        vertical-align: top;\n",
              "    }\n",
              "\n",
              "    .dataframe thead th {\n",
              "        text-align: right;\n",
              "    }\n",
              "</style>\n",
              "<table border=\"1\" class=\"dataframe\">\n",
              "  <thead>\n",
              "    <tr style=\"text-align: right;\">\n",
              "      <th></th>\n",
              "      <th>category</th>\n",
              "      <th>headline</th>\n",
              "      <th>authors</th>\n",
              "      <th>link</th>\n",
              "      <th>short_description</th>\n",
              "      <th>date</th>\n",
              "      <th>text</th>\n",
              "    </tr>\n",
              "  </thead>\n",
              "  <tbody>\n",
              "    <tr>\n",
              "      <th>0</th>\n",
              "      <td>CRIME</td>\n",
              "      <td>There Were 2 Mass Shootings In Texas Last Week...</td>\n",
              "      <td>Melissa Jeltsen</td>\n",
              "      <td>https://www.huffingtonpost.com/entry/texas-ama...</td>\n",
              "      <td>She left her husband. He killed their children...</td>\n",
              "      <td>2018-05-26</td>\n",
              "      <td>There Were 2 Mass Shootings In Texas Last Week...</td>\n",
              "    </tr>\n",
              "    <tr>\n",
              "      <th>1</th>\n",
              "      <td>ENTERTAINMENT</td>\n",
              "      <td>Will Smith Joins Diplo And Nicky Jam For The 2...</td>\n",
              "      <td>Andy McDonald</td>\n",
              "      <td>https://www.huffingtonpost.com/entry/will-smit...</td>\n",
              "      <td>Of course it has a song.</td>\n",
              "      <td>2018-05-26</td>\n",
              "      <td>Will Smith Joins Diplo And Nicky Jam For The 2...</td>\n",
              "    </tr>\n",
              "    <tr>\n",
              "      <th>2</th>\n",
              "      <td>ENTERTAINMENT</td>\n",
              "      <td>Hugh Grant Marries For The First Time At Age 57</td>\n",
              "      <td>Ron Dicker</td>\n",
              "      <td>https://www.huffingtonpost.com/entry/hugh-gran...</td>\n",
              "      <td>The actor and his longtime girlfriend Anna Ebe...</td>\n",
              "      <td>2018-05-26</td>\n",
              "      <td>Hugh Grant Marries For The First Time At Age 5...</td>\n",
              "    </tr>\n",
              "    <tr>\n",
              "      <th>3</th>\n",
              "      <td>ENTERTAINMENT</td>\n",
              "      <td>Jim Carrey Blasts 'Castrato' Adam Schiff And D...</td>\n",
              "      <td>Ron Dicker</td>\n",
              "      <td>https://www.huffingtonpost.com/entry/jim-carre...</td>\n",
              "      <td>The actor gives Dems an ass-kicking for not fi...</td>\n",
              "      <td>2018-05-26</td>\n",
              "      <td>Jim Carrey Blasts 'Castrato' Adam Schiff And D...</td>\n",
              "    </tr>\n",
              "    <tr>\n",
              "      <th>4</th>\n",
              "      <td>ENTERTAINMENT</td>\n",
              "      <td>Julianna Margulies Uses Donald Trump Poop Bags...</td>\n",
              "      <td>Ron Dicker</td>\n",
              "      <td>https://www.huffingtonpost.com/entry/julianna-...</td>\n",
              "      <td>The \"Dietland\" actress said using the bags is ...</td>\n",
              "      <td>2018-05-26</td>\n",
              "      <td>Julianna Margulies Uses Donald Trump Poop Bags...</td>\n",
              "    </tr>\n",
              "    <tr>\n",
              "      <th>...</th>\n",
              "      <td>...</td>\n",
              "      <td>...</td>\n",
              "      <td>...</td>\n",
              "      <td>...</td>\n",
              "      <td>...</td>\n",
              "      <td>...</td>\n",
              "      <td>...</td>\n",
              "    </tr>\n",
              "    <tr>\n",
              "      <th>200848</th>\n",
              "      <td>TECH</td>\n",
              "      <td>RIM CEO Thorsten Heins' 'Significant' Plans Fo...</td>\n",
              "      <td>Reuters, Reuters</td>\n",
              "      <td>https://www.huffingtonpost.com/entry/rim-ceo-t...</td>\n",
              "      <td>Verizon Wireless and AT&amp;T are already promotin...</td>\n",
              "      <td>2012-01-28</td>\n",
              "      <td>RIM CEO Thorsten Heins' 'Significant' Plans Fo...</td>\n",
              "    </tr>\n",
              "    <tr>\n",
              "      <th>200849</th>\n",
              "      <td>SPORTS</td>\n",
              "      <td>Maria Sharapova Stunned By Victoria Azarenka I...</td>\n",
              "      <td></td>\n",
              "      <td>https://www.huffingtonpost.com/entry/maria-sha...</td>\n",
              "      <td>Afterward, Azarenka, more effusive with the pr...</td>\n",
              "      <td>2012-01-28</td>\n",
              "      <td>Maria Sharapova Stunned By Victoria Azarenka I...</td>\n",
              "    </tr>\n",
              "    <tr>\n",
              "      <th>200850</th>\n",
              "      <td>SPORTS</td>\n",
              "      <td>Giants Over Patriots, Jets Over Colts Among  M...</td>\n",
              "      <td></td>\n",
              "      <td>https://www.huffingtonpost.com/entry/super-bow...</td>\n",
              "      <td>Leading up to Super Bowl XLVI, the most talked...</td>\n",
              "      <td>2012-01-28</td>\n",
              "      <td>Giants Over Patriots, Jets Over Colts Among  M...</td>\n",
              "    </tr>\n",
              "    <tr>\n",
              "      <th>200851</th>\n",
              "      <td>SPORTS</td>\n",
              "      <td>Aldon Smith Arrested: 49ers Linebacker Busted ...</td>\n",
              "      <td></td>\n",
              "      <td>https://www.huffingtonpost.com/entry/aldon-smi...</td>\n",
              "      <td>CORRECTION: An earlier version of this story i...</td>\n",
              "      <td>2012-01-28</td>\n",
              "      <td>Aldon Smith Arrested: 49ers Linebacker Busted ...</td>\n",
              "    </tr>\n",
              "    <tr>\n",
              "      <th>200852</th>\n",
              "      <td>SPORTS</td>\n",
              "      <td>Dwight Howard Rips Teammates After Magic Loss ...</td>\n",
              "      <td></td>\n",
              "      <td>https://www.huffingtonpost.com/entry/dwight-ho...</td>\n",
              "      <td>The five-time all-star center tore into his te...</td>\n",
              "      <td>2012-01-28</td>\n",
              "      <td>Dwight Howard Rips Teammates After Magic Loss ...</td>\n",
              "    </tr>\n",
              "  </tbody>\n",
              "</table>\n",
              "<p>200853 rows × 7 columns</p>\n",
              "</div>\n",
              "      <button class=\"colab-df-convert\" onclick=\"convertToInteractive('df-85160801-6ddf-43f5-a0c6-bc7ca1bebfa7')\"\n",
              "              title=\"Convert this dataframe to an interactive table.\"\n",
              "              style=\"display:none;\">\n",
              "        \n",
              "  <svg xmlns=\"http://www.w3.org/2000/svg\" height=\"24px\"viewBox=\"0 0 24 24\"\n",
              "       width=\"24px\">\n",
              "    <path d=\"M0 0h24v24H0V0z\" fill=\"none\"/>\n",
              "    <path d=\"M18.56 5.44l.94 2.06.94-2.06 2.06-.94-2.06-.94-.94-2.06-.94 2.06-2.06.94zm-11 1L8.5 8.5l.94-2.06 2.06-.94-2.06-.94L8.5 2.5l-.94 2.06-2.06.94zm10 10l.94 2.06.94-2.06 2.06-.94-2.06-.94-.94-2.06-.94 2.06-2.06.94z\"/><path d=\"M17.41 7.96l-1.37-1.37c-.4-.4-.92-.59-1.43-.59-.52 0-1.04.2-1.43.59L10.3 9.45l-7.72 7.72c-.78.78-.78 2.05 0 2.83L4 21.41c.39.39.9.59 1.41.59.51 0 1.02-.2 1.41-.59l7.78-7.78 2.81-2.81c.8-.78.8-2.07 0-2.86zM5.41 20L4 18.59l7.72-7.72 1.47 1.35L5.41 20z\"/>\n",
              "  </svg>\n",
              "      </button>\n",
              "      \n",
              "  <style>\n",
              "    .colab-df-container {\n",
              "      display:flex;\n",
              "      flex-wrap:wrap;\n",
              "      gap: 12px;\n",
              "    }\n",
              "\n",
              "    .colab-df-convert {\n",
              "      background-color: #E8F0FE;\n",
              "      border: none;\n",
              "      border-radius: 50%;\n",
              "      cursor: pointer;\n",
              "      display: none;\n",
              "      fill: #1967D2;\n",
              "      height: 32px;\n",
              "      padding: 0 0 0 0;\n",
              "      width: 32px;\n",
              "    }\n",
              "\n",
              "    .colab-df-convert:hover {\n",
              "      background-color: #E2EBFA;\n",
              "      box-shadow: 0px 1px 2px rgba(60, 64, 67, 0.3), 0px 1px 3px 1px rgba(60, 64, 67, 0.15);\n",
              "      fill: #174EA6;\n",
              "    }\n",
              "\n",
              "    [theme=dark] .colab-df-convert {\n",
              "      background-color: #3B4455;\n",
              "      fill: #D2E3FC;\n",
              "    }\n",
              "\n",
              "    [theme=dark] .colab-df-convert:hover {\n",
              "      background-color: #434B5C;\n",
              "      box-shadow: 0px 1px 3px 1px rgba(0, 0, 0, 0.15);\n",
              "      filter: drop-shadow(0px 1px 2px rgba(0, 0, 0, 0.3));\n",
              "      fill: #FFFFFF;\n",
              "    }\n",
              "  </style>\n",
              "\n",
              "      <script>\n",
              "        const buttonEl =\n",
              "          document.querySelector('#df-85160801-6ddf-43f5-a0c6-bc7ca1bebfa7 button.colab-df-convert');\n",
              "        buttonEl.style.display =\n",
              "          google.colab.kernel.accessAllowed ? 'block' : 'none';\n",
              "\n",
              "        async function convertToInteractive(key) {\n",
              "          const element = document.querySelector('#df-85160801-6ddf-43f5-a0c6-bc7ca1bebfa7');\n",
              "          const dataTable =\n",
              "            await google.colab.kernel.invokeFunction('convertToInteractive',\n",
              "                                                     [key], {});\n",
              "          if (!dataTable) return;\n",
              "\n",
              "          const docLinkHtml = 'Like what you see? Visit the ' +\n",
              "            '<a target=\"_blank\" href=https://colab.research.google.com/notebooks/data_table.ipynb>data table notebook</a>'\n",
              "            + ' to learn more about interactive tables.';\n",
              "          element.innerHTML = '';\n",
              "          dataTable['output_type'] = 'display_data';\n",
              "          await google.colab.output.renderOutput(dataTable, element);\n",
              "          const docLink = document.createElement('div');\n",
              "          docLink.innerHTML = docLinkHtml;\n",
              "          element.appendChild(docLink);\n",
              "        }\n",
              "      </script>\n",
              "    </div>\n",
              "  </div>\n",
              "  "
            ]
          },
          "metadata": {},
          "execution_count": 3
        }
      ]
    },
    {
      "cell_type": "markdown",
      "source": [
        "- double check that 2 columns concat correctly"
      ],
      "metadata": {
        "id": "y34f2j2Mxx4k"
      }
    },
    {
      "cell_type": "code",
      "source": [
        "for i in range(5):\n",
        "  ctr = random.randint(0,31961)\n",
        "  print(dataset['headline'].iloc[ctr])\n",
        "  print(dataset['short_description'].iloc[ctr])\n",
        "  print(dataset['text'].iloc[ctr])\n",
        "  print(\"*\"*50)"
      ],
      "metadata": {
        "id": "MLgiJR9n5_H-",
        "colab": {
          "base_uri": "https://localhost:8080/"
        },
        "outputId": "3828ad97-8a28-4047-9f78-597e35e79897"
      },
      "execution_count": 23,
      "outputs": [
        {
          "output_type": "stream",
          "name": "stdout",
          "text": [
            "What Will We Do? A Faithful Response To Poverty In Advent\n",
            "Did you ever have one of those bracelets that said “What Would Jesus Do?” Maybe a bumper sticker? Did you get the T-shirt\n",
            "What Will We Do? A Faithful Response To Poverty In Advent Did you ever have one of those bracelets that said “What Would Jesus Do?” Maybe a bumper sticker? Did you get the T-shirt\n",
            "**************************************************\n",
            "Tuesday's Morning Email: Inside Trump's Rollback Of Obama's Climate Change Legacy\n",
            "Environmentalists vowed to fight the policy reversal.\n",
            "Tuesday's Morning Email: Inside Trump's Rollback Of Obama's Climate Change Legacy Environmentalists vowed to fight the policy reversal.\n",
            "**************************************************\n",
            "The Rainbow Letters: Sharing The Stories Of LGBTQ Families\n",
            "I wish I had known more families like my own — been reassured from someone that everything would be better than okay in a few years.\n",
            "The Rainbow Letters: Sharing The Stories Of LGBTQ Families I wish I had known more families like my own — been reassured from someone that everything would be better than okay in a few years.\n",
            "**************************************************\n",
            "Families Of Americans Imprisoned In Egypt Pin Their Hopes On ... Mike Pence?\n",
            "The vice president stops in Cairo this week. Advocates for two detainees have reached out to the National Security Council 11 times this year without a response.\n",
            "Families Of Americans Imprisoned In Egypt Pin Their Hopes On ... Mike Pence? The vice president stops in Cairo this week. Advocates for two detainees have reached out to the National Security Council 11 times this year without a response.\n",
            "**************************************************\n",
            "Changing The Political Climate\n",
            "For months, activists, especially nonprofit and philanthropic leaders have been worrying about how they can best operate\n",
            "Changing The Political Climate For months, activists, especially nonprofit and philanthropic leaders have been worrying about how they can best operate\n",
            "**************************************************\n"
          ]
        }
      ]
    },
    {
      "cell_type": "code",
      "source": [
        "df = dataset[['category','text']].copy()"
      ],
      "metadata": {
        "id": "XAXtVK2ntmpI"
      },
      "execution_count": 5,
      "outputs": []
    },
    {
      "cell_type": "markdown",
      "source": [
        "- explore dataset"
      ],
      "metadata": {
        "id": "s9UNH52jx7KR"
      }
    },
    {
      "cell_type": "code",
      "source": [
        "for i in range(15):\n",
        "  ctr = random.randint(0,31961)\n",
        "  print(df['text'].iloc[ctr])\n",
        "  print(\"*\"*50)"
      ],
      "metadata": {
        "colab": {
          "base_uri": "https://localhost:8080/"
        },
        "id": "jnh9NEGutBRf",
        "outputId": "9aeb44e0-5556-46cc-ab2d-f578b4539f38"
      },
      "execution_count": 25,
      "outputs": [
        {
          "output_type": "stream",
          "name": "stdout",
          "text": [
            "She Was The First Woman To Go Public About Nassar. Read Her Statement In Full. Rachael Denhollander publicly accused Nassar in 2016. In court on Wednesday, she was the last survivor to address him.\n",
            "**************************************************\n",
            "Netflix Acquires Seth Rogen's Mind And Body In April Fools' Gag \"I should have read this before I signed it,\" the actor said.\n",
            "**************************************************\n",
            "Walk A Mile In A White Woman’s Shoes Tucker Carlson's simple avatar of oppressed whites in America is embarrassing.\n",
            "**************************************************\n",
            "Alton Sterling's Family Seeks Release Of Controversial Video, Evidence Court documents say one of the unreleased videos shows an officer involved in Sterling's fatal shooting shouting, \"I'll kill you, b***h.\"\n",
            "**************************************************\n",
            "Texas Babysitter Coerced 4-Year-Old Boy To Perform Sex Acts On Her: Police Esmeralda Medellin, 18, has been arrested and charged with aggravated sexual assault.\n",
            "**************************************************\n",
            "50,000 Petitioners Say Betsy DeVos Has No Place At HBCU Commencement People plan to continue protesting while DeVos speaks at Bethune-Cookman University's graduation ceremonies.\n",
            "**************************************************\n",
            "How A Houston Mosque Became A Harvey Disaster Relief Command Center As we keep our eyes peeled on the latest track of Hurricane Irma and hope for the best, I want to take you back to what played\n",
            "**************************************************\n",
            "Australians Joyously Celebrate ‘Yes’ Vote For Same-Sex Marriage The photos tell the story of the reactions to the nationwide poll.\n",
            "**************************************************\n",
            "Morgan Griffith's Lame Defense Of TrumpCare I recently read Congressman Morgan Griffith’s letter to the editor in the Martinsville Bulletin – his substitute for a town\n",
            "**************************************************\n",
            "Donald Trump's Hometown Newspaper Just Burned Him With A Savage Nickname New York Daily News comes out swinging over Comey's claim that the president was \"obsessed\" with the alleged \"pee tape.\"\n",
            "**************************************************\n",
            "Zika Virus Could One Day Help Treat A Deadly Form Of Brain Cancer Zika's most damaging quality could be weaponized against brain tumor cells.\n",
            "**************************************************\n",
            "This Comedian's Parenting Tweets Are LOL-Worthy Michael Ian Black does not hold back.\n",
            "**************************************************\n",
            "The Unthinkable (Twenty-First Century Versions) Cross-posted from TomDispatch.com Once upon a time, long ago in another universe, the end of the world was left in the hands\n",
            "**************************************************\n",
            "Eric Holder 'Disturbed' By Jeff Sessions' Silence In The Face Of Trump's DOJ Attacks The former attorney general said Justice Department and FBI officials \"need to be defended.\"\n",
            "**************************************************\n",
            "Hard-To-Find Trump/Comey Recording Gets 8.3 From Pitchfork \"Full of tension and sadness\"\n",
            "**************************************************\n"
          ]
        }
      ]
    },
    {
      "cell_type": "code",
      "source": [
        "def check_tag(text):\n",
        "  ctr = 0\n",
        "  check = re.findall(r'@\\S+', text, flags=re.MULTILINE)\n",
        "  if len(check) == 1:\n",
        "    ctr += 1 \n",
        "  return ctr\n",
        "\n",
        "counter =  df['text'].apply(check_tag)\n",
        "counter.sum()"
      ],
      "metadata": {
        "colab": {
          "base_uri": "https://localhost:8080/"
        },
        "id": "XuMgTIw00BWt",
        "outputId": "bed808d2-1a48-4b70-a6c7-a879c62e6dfe"
      },
      "execution_count": 52,
      "outputs": [
        {
          "output_type": "execute_result",
          "data": {
            "text/plain": [
              "672"
            ]
          },
          "metadata": {},
          "execution_count": 52
        }
      ]
    },
    {
      "cell_type": "code",
      "source": [
        "def check_url(text):\n",
        "  ctr = 0\n",
        "  check = re.findall(r'^https?:\\/\\/.[\\r\\n]', text, flags=re.MULTILINE)\n",
        "  if len(check) == 1:\n",
        "    ctr += 1 \n",
        "  return ctr\n",
        "\n",
        "counter =  df['text'].apply(check_url)\n",
        "counter.sum()"
      ],
      "metadata": {
        "colab": {
          "base_uri": "https://localhost:8080/"
        },
        "id": "yeyPw8Et0BZc",
        "outputId": "ccec27d4-9d20-4a48-ebbe-1afd027cabc1"
      },
      "execution_count": 43,
      "outputs": [
        {
          "output_type": "execute_result",
          "data": {
            "text/plain": [
              "0"
            ]
          },
          "metadata": {},
          "execution_count": 43
        }
      ]
    },
    {
      "cell_type": "code",
      "source": [
        "def check_hastag(text):\n",
        "  ctr = 0\n",
        "  check = re.findall(r'#', text, flags=re.MULTILINE)\n",
        "  if len(check) == 1:\n",
        "    ctr += 1 \n",
        "  return ctr\n",
        "\n",
        "counter =  df['text'].apply(check_hastag)\n",
        "counter.sum()"
      ],
      "metadata": {
        "colab": {
          "base_uri": "https://localhost:8080/"
        },
        "id": "dtkqXca80Bce",
        "outputId": "94e4e558-9b1b-4d87-b08e-6314791522e7"
      },
      "execution_count": 44,
      "outputs": [
        {
          "output_type": "execute_result",
          "data": {
            "text/plain": [
              "1202"
            ]
          },
          "metadata": {},
          "execution_count": 44
        }
      ]
    },
    {
      "cell_type": "code",
      "source": [
        "def check_punc(text):\n",
        "  ctr = 0\n",
        "  check = re.findall(r'[^\\w\\s]+', text, flags=re.MULTILINE)\n",
        "  if len(check) == 1:\n",
        "    ctr += 1 \n",
        "  return ctr\n",
        "\n",
        "counter =  df['text'].apply(check_punc)\n",
        "counter.sum()"
      ],
      "metadata": {
        "colab": {
          "base_uri": "https://localhost:8080/"
        },
        "id": "H6g25mEp0Bf6",
        "outputId": "e0dde126-9f28-4736-f01d-63ebe289e69c"
      },
      "execution_count": 45,
      "outputs": [
        {
          "output_type": "execute_result",
          "data": {
            "text/plain": [
              "16737"
            ]
          },
          "metadata": {},
          "execution_count": 45
        }
      ]
    },
    {
      "cell_type": "markdown",
      "source": [
        "----"
      ],
      "metadata": {
        "id": "MRJ_WDk2tUjV"
      }
    },
    {
      "cell_type": "markdown",
      "source": [
        "#### prepare & clean Dataset"
      ],
      "metadata": {
        "id": "a2Xp8aeqyEvp"
      }
    },
    {
      "cell_type": "markdown",
      "source": [
        "- 1 remove duplicates\n",
        "- 2 lower case\n",
        "- 3 remove stop words\n",
        "- 4 remove numbers\n",
        "- 5 remove @ tag\n",
        "- 6 remove hashtag\n",
        "- 7 Lemmatizer"
      ],
      "metadata": {
        "id": "LMFcwun_3hMU"
      }
    },
    {
      "cell_type": "markdown",
      "source": [
        "- remove duplicates"
      ],
      "metadata": {
        "id": "mjJf0nVa39GE"
      }
    },
    {
      "cell_type": "code",
      "source": [
        "df = df.drop_duplicates()\n",
        "\n",
        "# for double check \n",
        "df.duplicated().sum()"
      ],
      "metadata": {
        "colab": {
          "base_uri": "https://localhost:8080/"
        },
        "id": "XkmXOxnI37bl",
        "outputId": "55f59d66-402e-462f-b103-a5d8378b58b1"
      },
      "execution_count": 6,
      "outputs": [
        {
          "output_type": "execute_result",
          "data": {
            "text/plain": [
              "0"
            ]
          },
          "metadata": {},
          "execution_count": 6
        }
      ]
    },
    {
      "cell_type": "markdown",
      "source": [
        "- make all words lowercase"
      ],
      "metadata": {
        "id": "xZEjO44Vtb0X"
      }
    },
    {
      "cell_type": "code",
      "source": [
        "df['text_cleaned'] = df['text'].apply(str.lower)\n",
        "df"
      ],
      "metadata": {
        "colab": {
          "base_uri": "https://localhost:8080/",
          "height": 424
        },
        "id": "SKzu7xFitcHU",
        "outputId": "ff802a20-4f62-4d00-e05c-ba5482382799"
      },
      "execution_count": 11,
      "outputs": [
        {
          "output_type": "execute_result",
          "data": {
            "text/plain": [
              "             category                                               text  \\\n",
              "0               CRIME  There Were 2 Mass Shootings In Texas Last Week...   \n",
              "1       ENTERTAINMENT  Will Smith Joins Diplo And Nicky Jam For The 2...   \n",
              "2       ENTERTAINMENT  Hugh Grant Marries For The First Time At Age 5...   \n",
              "3       ENTERTAINMENT  Jim Carrey Blasts 'Castrato' Adam Schiff And D...   \n",
              "4       ENTERTAINMENT  Julianna Margulies Uses Donald Trump Poop Bags...   \n",
              "...               ...                                                ...   \n",
              "200848           TECH  RIM CEO Thorsten Heins' 'Significant' Plans Fo...   \n",
              "200849         SPORTS  Maria Sharapova Stunned By Victoria Azarenka I...   \n",
              "200850         SPORTS  Giants Over Patriots, Jets Over Colts Among  M...   \n",
              "200851         SPORTS  Aldon Smith Arrested: 49ers Linebacker Busted ...   \n",
              "200852         SPORTS  Dwight Howard Rips Teammates After Magic Loss ...   \n",
              "\n",
              "                                             text_cleaned  \n",
              "0       there were 2 mass shootings in texas last week...  \n",
              "1       will smith joins diplo and nicky jam for the 2...  \n",
              "2       hugh grant marries for the first time at age 5...  \n",
              "3       jim carrey blasts 'castrato' adam schiff and d...  \n",
              "4       julianna margulies uses donald trump poop bags...  \n",
              "...                                                   ...  \n",
              "200848  rim ceo thorsten heins' 'significant' plans fo...  \n",
              "200849  maria sharapova stunned by victoria azarenka i...  \n",
              "200850  giants over patriots, jets over colts among  m...  \n",
              "200851  aldon smith arrested: 49ers linebacker busted ...  \n",
              "200852  dwight howard rips teammates after magic loss ...  \n",
              "\n",
              "[200383 rows x 3 columns]"
            ],
            "text/html": [
              "\n",
              "  <div id=\"df-bf751152-2cd3-40ec-905d-633d6bcddd9c\">\n",
              "    <div class=\"colab-df-container\">\n",
              "      <div>\n",
              "<style scoped>\n",
              "    .dataframe tbody tr th:only-of-type {\n",
              "        vertical-align: middle;\n",
              "    }\n",
              "\n",
              "    .dataframe tbody tr th {\n",
              "        vertical-align: top;\n",
              "    }\n",
              "\n",
              "    .dataframe thead th {\n",
              "        text-align: right;\n",
              "    }\n",
              "</style>\n",
              "<table border=\"1\" class=\"dataframe\">\n",
              "  <thead>\n",
              "    <tr style=\"text-align: right;\">\n",
              "      <th></th>\n",
              "      <th>category</th>\n",
              "      <th>text</th>\n",
              "      <th>text_cleaned</th>\n",
              "    </tr>\n",
              "  </thead>\n",
              "  <tbody>\n",
              "    <tr>\n",
              "      <th>0</th>\n",
              "      <td>CRIME</td>\n",
              "      <td>There Were 2 Mass Shootings In Texas Last Week...</td>\n",
              "      <td>there were 2 mass shootings in texas last week...</td>\n",
              "    </tr>\n",
              "    <tr>\n",
              "      <th>1</th>\n",
              "      <td>ENTERTAINMENT</td>\n",
              "      <td>Will Smith Joins Diplo And Nicky Jam For The 2...</td>\n",
              "      <td>will smith joins diplo and nicky jam for the 2...</td>\n",
              "    </tr>\n",
              "    <tr>\n",
              "      <th>2</th>\n",
              "      <td>ENTERTAINMENT</td>\n",
              "      <td>Hugh Grant Marries For The First Time At Age 5...</td>\n",
              "      <td>hugh grant marries for the first time at age 5...</td>\n",
              "    </tr>\n",
              "    <tr>\n",
              "      <th>3</th>\n",
              "      <td>ENTERTAINMENT</td>\n",
              "      <td>Jim Carrey Blasts 'Castrato' Adam Schiff And D...</td>\n",
              "      <td>jim carrey blasts 'castrato' adam schiff and d...</td>\n",
              "    </tr>\n",
              "    <tr>\n",
              "      <th>4</th>\n",
              "      <td>ENTERTAINMENT</td>\n",
              "      <td>Julianna Margulies Uses Donald Trump Poop Bags...</td>\n",
              "      <td>julianna margulies uses donald trump poop bags...</td>\n",
              "    </tr>\n",
              "    <tr>\n",
              "      <th>...</th>\n",
              "      <td>...</td>\n",
              "      <td>...</td>\n",
              "      <td>...</td>\n",
              "    </tr>\n",
              "    <tr>\n",
              "      <th>200848</th>\n",
              "      <td>TECH</td>\n",
              "      <td>RIM CEO Thorsten Heins' 'Significant' Plans Fo...</td>\n",
              "      <td>rim ceo thorsten heins' 'significant' plans fo...</td>\n",
              "    </tr>\n",
              "    <tr>\n",
              "      <th>200849</th>\n",
              "      <td>SPORTS</td>\n",
              "      <td>Maria Sharapova Stunned By Victoria Azarenka I...</td>\n",
              "      <td>maria sharapova stunned by victoria azarenka i...</td>\n",
              "    </tr>\n",
              "    <tr>\n",
              "      <th>200850</th>\n",
              "      <td>SPORTS</td>\n",
              "      <td>Giants Over Patriots, Jets Over Colts Among  M...</td>\n",
              "      <td>giants over patriots, jets over colts among  m...</td>\n",
              "    </tr>\n",
              "    <tr>\n",
              "      <th>200851</th>\n",
              "      <td>SPORTS</td>\n",
              "      <td>Aldon Smith Arrested: 49ers Linebacker Busted ...</td>\n",
              "      <td>aldon smith arrested: 49ers linebacker busted ...</td>\n",
              "    </tr>\n",
              "    <tr>\n",
              "      <th>200852</th>\n",
              "      <td>SPORTS</td>\n",
              "      <td>Dwight Howard Rips Teammates After Magic Loss ...</td>\n",
              "      <td>dwight howard rips teammates after magic loss ...</td>\n",
              "    </tr>\n",
              "  </tbody>\n",
              "</table>\n",
              "<p>200383 rows × 3 columns</p>\n",
              "</div>\n",
              "      <button class=\"colab-df-convert\" onclick=\"convertToInteractive('df-bf751152-2cd3-40ec-905d-633d6bcddd9c')\"\n",
              "              title=\"Convert this dataframe to an interactive table.\"\n",
              "              style=\"display:none;\">\n",
              "        \n",
              "  <svg xmlns=\"http://www.w3.org/2000/svg\" height=\"24px\"viewBox=\"0 0 24 24\"\n",
              "       width=\"24px\">\n",
              "    <path d=\"M0 0h24v24H0V0z\" fill=\"none\"/>\n",
              "    <path d=\"M18.56 5.44l.94 2.06.94-2.06 2.06-.94-2.06-.94-.94-2.06-.94 2.06-2.06.94zm-11 1L8.5 8.5l.94-2.06 2.06-.94-2.06-.94L8.5 2.5l-.94 2.06-2.06.94zm10 10l.94 2.06.94-2.06 2.06-.94-2.06-.94-.94-2.06-.94 2.06-2.06.94z\"/><path d=\"M17.41 7.96l-1.37-1.37c-.4-.4-.92-.59-1.43-.59-.52 0-1.04.2-1.43.59L10.3 9.45l-7.72 7.72c-.78.78-.78 2.05 0 2.83L4 21.41c.39.39.9.59 1.41.59.51 0 1.02-.2 1.41-.59l7.78-7.78 2.81-2.81c.8-.78.8-2.07 0-2.86zM5.41 20L4 18.59l7.72-7.72 1.47 1.35L5.41 20z\"/>\n",
              "  </svg>\n",
              "      </button>\n",
              "      \n",
              "  <style>\n",
              "    .colab-df-container {\n",
              "      display:flex;\n",
              "      flex-wrap:wrap;\n",
              "      gap: 12px;\n",
              "    }\n",
              "\n",
              "    .colab-df-convert {\n",
              "      background-color: #E8F0FE;\n",
              "      border: none;\n",
              "      border-radius: 50%;\n",
              "      cursor: pointer;\n",
              "      display: none;\n",
              "      fill: #1967D2;\n",
              "      height: 32px;\n",
              "      padding: 0 0 0 0;\n",
              "      width: 32px;\n",
              "    }\n",
              "\n",
              "    .colab-df-convert:hover {\n",
              "      background-color: #E2EBFA;\n",
              "      box-shadow: 0px 1px 2px rgba(60, 64, 67, 0.3), 0px 1px 3px 1px rgba(60, 64, 67, 0.15);\n",
              "      fill: #174EA6;\n",
              "    }\n",
              "\n",
              "    [theme=dark] .colab-df-convert {\n",
              "      background-color: #3B4455;\n",
              "      fill: #D2E3FC;\n",
              "    }\n",
              "\n",
              "    [theme=dark] .colab-df-convert:hover {\n",
              "      background-color: #434B5C;\n",
              "      box-shadow: 0px 1px 3px 1px rgba(0, 0, 0, 0.15);\n",
              "      filter: drop-shadow(0px 1px 2px rgba(0, 0, 0, 0.3));\n",
              "      fill: #FFFFFF;\n",
              "    }\n",
              "  </style>\n",
              "\n",
              "      <script>\n",
              "        const buttonEl =\n",
              "          document.querySelector('#df-bf751152-2cd3-40ec-905d-633d6bcddd9c button.colab-df-convert');\n",
              "        buttonEl.style.display =\n",
              "          google.colab.kernel.accessAllowed ? 'block' : 'none';\n",
              "\n",
              "        async function convertToInteractive(key) {\n",
              "          const element = document.querySelector('#df-bf751152-2cd3-40ec-905d-633d6bcddd9c');\n",
              "          const dataTable =\n",
              "            await google.colab.kernel.invokeFunction('convertToInteractive',\n",
              "                                                     [key], {});\n",
              "          if (!dataTable) return;\n",
              "\n",
              "          const docLinkHtml = 'Like what you see? Visit the ' +\n",
              "            '<a target=\"_blank\" href=https://colab.research.google.com/notebooks/data_table.ipynb>data table notebook</a>'\n",
              "            + ' to learn more about interactive tables.';\n",
              "          element.innerHTML = '';\n",
              "          dataTable['output_type'] = 'display_data';\n",
              "          await google.colab.output.renderOutput(dataTable, element);\n",
              "          const docLink = document.createElement('div');\n",
              "          docLink.innerHTML = docLinkHtml;\n",
              "          element.appendChild(docLink);\n",
              "        }\n",
              "      </script>\n",
              "    </div>\n",
              "  </div>\n",
              "  "
            ]
          },
          "metadata": {},
          "execution_count": 11
        }
      ]
    },
    {
      "cell_type": "markdown",
      "source": [
        "- remove numbers"
      ],
      "metadata": {
        "id": "A_iAPNiLyhd6"
      }
    },
    {
      "cell_type": "code",
      "source": [
        "def remove_numbers(text):\n",
        "  text = re.sub(r'[0123456789]', '', text, flags=re.MULTILINE)\n",
        "  return text\n",
        "\n",
        "df['text_cleaned'] = df['text_cleaned'].apply(remove_numbers)\n",
        "df"
      ],
      "metadata": {
        "colab": {
          "base_uri": "https://localhost:8080/",
          "height": 424
        },
        "id": "8sXvyEh6tcKK",
        "outputId": "57ef5069-a870-4a73-fde6-8885f23a1803"
      },
      "execution_count": 12,
      "outputs": [
        {
          "output_type": "execute_result",
          "data": {
            "text/plain": [
              "             category                                               text  \\\n",
              "0               CRIME  There Were 2 Mass Shootings In Texas Last Week...   \n",
              "1       ENTERTAINMENT  Will Smith Joins Diplo And Nicky Jam For The 2...   \n",
              "2       ENTERTAINMENT  Hugh Grant Marries For The First Time At Age 5...   \n",
              "3       ENTERTAINMENT  Jim Carrey Blasts 'Castrato' Adam Schiff And D...   \n",
              "4       ENTERTAINMENT  Julianna Margulies Uses Donald Trump Poop Bags...   \n",
              "...               ...                                                ...   \n",
              "200848           TECH  RIM CEO Thorsten Heins' 'Significant' Plans Fo...   \n",
              "200849         SPORTS  Maria Sharapova Stunned By Victoria Azarenka I...   \n",
              "200850         SPORTS  Giants Over Patriots, Jets Over Colts Among  M...   \n",
              "200851         SPORTS  Aldon Smith Arrested: 49ers Linebacker Busted ...   \n",
              "200852         SPORTS  Dwight Howard Rips Teammates After Magic Loss ...   \n",
              "\n",
              "                                             text_cleaned  \n",
              "0       there were  mass shootings in texas last week,...  \n",
              "1       will smith joins diplo and nicky jam for the  ...  \n",
              "2       hugh grant marries for the first time at age  ...  \n",
              "3       jim carrey blasts 'castrato' adam schiff and d...  \n",
              "4       julianna margulies uses donald trump poop bags...  \n",
              "...                                                   ...  \n",
              "200848  rim ceo thorsten heins' 'significant' plans fo...  \n",
              "200849  maria sharapova stunned by victoria azarenka i...  \n",
              "200850  giants over patriots, jets over colts among  m...  \n",
              "200851  aldon smith arrested: ers linebacker busted fo...  \n",
              "200852  dwight howard rips teammates after magic loss ...  \n",
              "\n",
              "[200383 rows x 3 columns]"
            ],
            "text/html": [
              "\n",
              "  <div id=\"df-993bd758-6b51-4c62-be89-62ce00c1746e\">\n",
              "    <div class=\"colab-df-container\">\n",
              "      <div>\n",
              "<style scoped>\n",
              "    .dataframe tbody tr th:only-of-type {\n",
              "        vertical-align: middle;\n",
              "    }\n",
              "\n",
              "    .dataframe tbody tr th {\n",
              "        vertical-align: top;\n",
              "    }\n",
              "\n",
              "    .dataframe thead th {\n",
              "        text-align: right;\n",
              "    }\n",
              "</style>\n",
              "<table border=\"1\" class=\"dataframe\">\n",
              "  <thead>\n",
              "    <tr style=\"text-align: right;\">\n",
              "      <th></th>\n",
              "      <th>category</th>\n",
              "      <th>text</th>\n",
              "      <th>text_cleaned</th>\n",
              "    </tr>\n",
              "  </thead>\n",
              "  <tbody>\n",
              "    <tr>\n",
              "      <th>0</th>\n",
              "      <td>CRIME</td>\n",
              "      <td>There Were 2 Mass Shootings In Texas Last Week...</td>\n",
              "      <td>there were  mass shootings in texas last week,...</td>\n",
              "    </tr>\n",
              "    <tr>\n",
              "      <th>1</th>\n",
              "      <td>ENTERTAINMENT</td>\n",
              "      <td>Will Smith Joins Diplo And Nicky Jam For The 2...</td>\n",
              "      <td>will smith joins diplo and nicky jam for the  ...</td>\n",
              "    </tr>\n",
              "    <tr>\n",
              "      <th>2</th>\n",
              "      <td>ENTERTAINMENT</td>\n",
              "      <td>Hugh Grant Marries For The First Time At Age 5...</td>\n",
              "      <td>hugh grant marries for the first time at age  ...</td>\n",
              "    </tr>\n",
              "    <tr>\n",
              "      <th>3</th>\n",
              "      <td>ENTERTAINMENT</td>\n",
              "      <td>Jim Carrey Blasts 'Castrato' Adam Schiff And D...</td>\n",
              "      <td>jim carrey blasts 'castrato' adam schiff and d...</td>\n",
              "    </tr>\n",
              "    <tr>\n",
              "      <th>4</th>\n",
              "      <td>ENTERTAINMENT</td>\n",
              "      <td>Julianna Margulies Uses Donald Trump Poop Bags...</td>\n",
              "      <td>julianna margulies uses donald trump poop bags...</td>\n",
              "    </tr>\n",
              "    <tr>\n",
              "      <th>...</th>\n",
              "      <td>...</td>\n",
              "      <td>...</td>\n",
              "      <td>...</td>\n",
              "    </tr>\n",
              "    <tr>\n",
              "      <th>200848</th>\n",
              "      <td>TECH</td>\n",
              "      <td>RIM CEO Thorsten Heins' 'Significant' Plans Fo...</td>\n",
              "      <td>rim ceo thorsten heins' 'significant' plans fo...</td>\n",
              "    </tr>\n",
              "    <tr>\n",
              "      <th>200849</th>\n",
              "      <td>SPORTS</td>\n",
              "      <td>Maria Sharapova Stunned By Victoria Azarenka I...</td>\n",
              "      <td>maria sharapova stunned by victoria azarenka i...</td>\n",
              "    </tr>\n",
              "    <tr>\n",
              "      <th>200850</th>\n",
              "      <td>SPORTS</td>\n",
              "      <td>Giants Over Patriots, Jets Over Colts Among  M...</td>\n",
              "      <td>giants over patriots, jets over colts among  m...</td>\n",
              "    </tr>\n",
              "    <tr>\n",
              "      <th>200851</th>\n",
              "      <td>SPORTS</td>\n",
              "      <td>Aldon Smith Arrested: 49ers Linebacker Busted ...</td>\n",
              "      <td>aldon smith arrested: ers linebacker busted fo...</td>\n",
              "    </tr>\n",
              "    <tr>\n",
              "      <th>200852</th>\n",
              "      <td>SPORTS</td>\n",
              "      <td>Dwight Howard Rips Teammates After Magic Loss ...</td>\n",
              "      <td>dwight howard rips teammates after magic loss ...</td>\n",
              "    </tr>\n",
              "  </tbody>\n",
              "</table>\n",
              "<p>200383 rows × 3 columns</p>\n",
              "</div>\n",
              "      <button class=\"colab-df-convert\" onclick=\"convertToInteractive('df-993bd758-6b51-4c62-be89-62ce00c1746e')\"\n",
              "              title=\"Convert this dataframe to an interactive table.\"\n",
              "              style=\"display:none;\">\n",
              "        \n",
              "  <svg xmlns=\"http://www.w3.org/2000/svg\" height=\"24px\"viewBox=\"0 0 24 24\"\n",
              "       width=\"24px\">\n",
              "    <path d=\"M0 0h24v24H0V0z\" fill=\"none\"/>\n",
              "    <path d=\"M18.56 5.44l.94 2.06.94-2.06 2.06-.94-2.06-.94-.94-2.06-.94 2.06-2.06.94zm-11 1L8.5 8.5l.94-2.06 2.06-.94-2.06-.94L8.5 2.5l-.94 2.06-2.06.94zm10 10l.94 2.06.94-2.06 2.06-.94-2.06-.94-.94-2.06-.94 2.06-2.06.94z\"/><path d=\"M17.41 7.96l-1.37-1.37c-.4-.4-.92-.59-1.43-.59-.52 0-1.04.2-1.43.59L10.3 9.45l-7.72 7.72c-.78.78-.78 2.05 0 2.83L4 21.41c.39.39.9.59 1.41.59.51 0 1.02-.2 1.41-.59l7.78-7.78 2.81-2.81c.8-.78.8-2.07 0-2.86zM5.41 20L4 18.59l7.72-7.72 1.47 1.35L5.41 20z\"/>\n",
              "  </svg>\n",
              "      </button>\n",
              "      \n",
              "  <style>\n",
              "    .colab-df-container {\n",
              "      display:flex;\n",
              "      flex-wrap:wrap;\n",
              "      gap: 12px;\n",
              "    }\n",
              "\n",
              "    .colab-df-convert {\n",
              "      background-color: #E8F0FE;\n",
              "      border: none;\n",
              "      border-radius: 50%;\n",
              "      cursor: pointer;\n",
              "      display: none;\n",
              "      fill: #1967D2;\n",
              "      height: 32px;\n",
              "      padding: 0 0 0 0;\n",
              "      width: 32px;\n",
              "    }\n",
              "\n",
              "    .colab-df-convert:hover {\n",
              "      background-color: #E2EBFA;\n",
              "      box-shadow: 0px 1px 2px rgba(60, 64, 67, 0.3), 0px 1px 3px 1px rgba(60, 64, 67, 0.15);\n",
              "      fill: #174EA6;\n",
              "    }\n",
              "\n",
              "    [theme=dark] .colab-df-convert {\n",
              "      background-color: #3B4455;\n",
              "      fill: #D2E3FC;\n",
              "    }\n",
              "\n",
              "    [theme=dark] .colab-df-convert:hover {\n",
              "      background-color: #434B5C;\n",
              "      box-shadow: 0px 1px 3px 1px rgba(0, 0, 0, 0.15);\n",
              "      filter: drop-shadow(0px 1px 2px rgba(0, 0, 0, 0.3));\n",
              "      fill: #FFFFFF;\n",
              "    }\n",
              "  </style>\n",
              "\n",
              "      <script>\n",
              "        const buttonEl =\n",
              "          document.querySelector('#df-993bd758-6b51-4c62-be89-62ce00c1746e button.colab-df-convert');\n",
              "        buttonEl.style.display =\n",
              "          google.colab.kernel.accessAllowed ? 'block' : 'none';\n",
              "\n",
              "        async function convertToInteractive(key) {\n",
              "          const element = document.querySelector('#df-993bd758-6b51-4c62-be89-62ce00c1746e');\n",
              "          const dataTable =\n",
              "            await google.colab.kernel.invokeFunction('convertToInteractive',\n",
              "                                                     [key], {});\n",
              "          if (!dataTable) return;\n",
              "\n",
              "          const docLinkHtml = 'Like what you see? Visit the ' +\n",
              "            '<a target=\"_blank\" href=https://colab.research.google.com/notebooks/data_table.ipynb>data table notebook</a>'\n",
              "            + ' to learn more about interactive tables.';\n",
              "          element.innerHTML = '';\n",
              "          dataTable['output_type'] = 'display_data';\n",
              "          await google.colab.output.renderOutput(dataTable, element);\n",
              "          const docLink = document.createElement('div');\n",
              "          docLink.innerHTML = docLinkHtml;\n",
              "          element.appendChild(docLink);\n",
              "        }\n",
              "      </script>\n",
              "    </div>\n",
              "  </div>\n",
              "  "
            ]
          },
          "metadata": {},
          "execution_count": 12
        }
      ]
    },
    {
      "cell_type": "markdown",
      "source": [
        "- remove @ tag"
      ],
      "metadata": {
        "id": "E2ZMMdP24U62"
      }
    },
    {
      "cell_type": "code",
      "source": [
        "def remove_tag(text):\n",
        "  text = re.sub(r'@\\S+', '', text, flags=re.MULTILINE)\n",
        "  return text\n",
        "\n",
        "df['text_cleaned'] = df['text_cleaned'].apply(remove_tag)\n",
        "df"
      ],
      "metadata": {
        "colab": {
          "base_uri": "https://localhost:8080/",
          "height": 424
        },
        "id": "ZG7JGM8itcN4",
        "outputId": "3eaae868-b985-4e79-d3b8-8c2c29f9cd80"
      },
      "execution_count": 13,
      "outputs": [
        {
          "output_type": "execute_result",
          "data": {
            "text/plain": [
              "             category                                               text  \\\n",
              "0               CRIME  There Were 2 Mass Shootings In Texas Last Week...   \n",
              "1       ENTERTAINMENT  Will Smith Joins Diplo And Nicky Jam For The 2...   \n",
              "2       ENTERTAINMENT  Hugh Grant Marries For The First Time At Age 5...   \n",
              "3       ENTERTAINMENT  Jim Carrey Blasts 'Castrato' Adam Schiff And D...   \n",
              "4       ENTERTAINMENT  Julianna Margulies Uses Donald Trump Poop Bags...   \n",
              "...               ...                                                ...   \n",
              "200848           TECH  RIM CEO Thorsten Heins' 'Significant' Plans Fo...   \n",
              "200849         SPORTS  Maria Sharapova Stunned By Victoria Azarenka I...   \n",
              "200850         SPORTS  Giants Over Patriots, Jets Over Colts Among  M...   \n",
              "200851         SPORTS  Aldon Smith Arrested: 49ers Linebacker Busted ...   \n",
              "200852         SPORTS  Dwight Howard Rips Teammates After Magic Loss ...   \n",
              "\n",
              "                                             text_cleaned  \n",
              "0       there were  mass shootings in texas last week,...  \n",
              "1       will smith joins diplo and nicky jam for the  ...  \n",
              "2       hugh grant marries for the first time at age  ...  \n",
              "3       jim carrey blasts 'castrato' adam schiff and d...  \n",
              "4       julianna margulies uses donald trump poop bags...  \n",
              "...                                                   ...  \n",
              "200848  rim ceo thorsten heins' 'significant' plans fo...  \n",
              "200849  maria sharapova stunned by victoria azarenka i...  \n",
              "200850  giants over patriots, jets over colts among  m...  \n",
              "200851  aldon smith arrested: ers linebacker busted fo...  \n",
              "200852  dwight howard rips teammates after magic loss ...  \n",
              "\n",
              "[200383 rows x 3 columns]"
            ],
            "text/html": [
              "\n",
              "  <div id=\"df-28fd1b38-79bd-4787-9bbc-cb6494b04708\">\n",
              "    <div class=\"colab-df-container\">\n",
              "      <div>\n",
              "<style scoped>\n",
              "    .dataframe tbody tr th:only-of-type {\n",
              "        vertical-align: middle;\n",
              "    }\n",
              "\n",
              "    .dataframe tbody tr th {\n",
              "        vertical-align: top;\n",
              "    }\n",
              "\n",
              "    .dataframe thead th {\n",
              "        text-align: right;\n",
              "    }\n",
              "</style>\n",
              "<table border=\"1\" class=\"dataframe\">\n",
              "  <thead>\n",
              "    <tr style=\"text-align: right;\">\n",
              "      <th></th>\n",
              "      <th>category</th>\n",
              "      <th>text</th>\n",
              "      <th>text_cleaned</th>\n",
              "    </tr>\n",
              "  </thead>\n",
              "  <tbody>\n",
              "    <tr>\n",
              "      <th>0</th>\n",
              "      <td>CRIME</td>\n",
              "      <td>There Were 2 Mass Shootings In Texas Last Week...</td>\n",
              "      <td>there were  mass shootings in texas last week,...</td>\n",
              "    </tr>\n",
              "    <tr>\n",
              "      <th>1</th>\n",
              "      <td>ENTERTAINMENT</td>\n",
              "      <td>Will Smith Joins Diplo And Nicky Jam For The 2...</td>\n",
              "      <td>will smith joins diplo and nicky jam for the  ...</td>\n",
              "    </tr>\n",
              "    <tr>\n",
              "      <th>2</th>\n",
              "      <td>ENTERTAINMENT</td>\n",
              "      <td>Hugh Grant Marries For The First Time At Age 5...</td>\n",
              "      <td>hugh grant marries for the first time at age  ...</td>\n",
              "    </tr>\n",
              "    <tr>\n",
              "      <th>3</th>\n",
              "      <td>ENTERTAINMENT</td>\n",
              "      <td>Jim Carrey Blasts 'Castrato' Adam Schiff And D...</td>\n",
              "      <td>jim carrey blasts 'castrato' adam schiff and d...</td>\n",
              "    </tr>\n",
              "    <tr>\n",
              "      <th>4</th>\n",
              "      <td>ENTERTAINMENT</td>\n",
              "      <td>Julianna Margulies Uses Donald Trump Poop Bags...</td>\n",
              "      <td>julianna margulies uses donald trump poop bags...</td>\n",
              "    </tr>\n",
              "    <tr>\n",
              "      <th>...</th>\n",
              "      <td>...</td>\n",
              "      <td>...</td>\n",
              "      <td>...</td>\n",
              "    </tr>\n",
              "    <tr>\n",
              "      <th>200848</th>\n",
              "      <td>TECH</td>\n",
              "      <td>RIM CEO Thorsten Heins' 'Significant' Plans Fo...</td>\n",
              "      <td>rim ceo thorsten heins' 'significant' plans fo...</td>\n",
              "    </tr>\n",
              "    <tr>\n",
              "      <th>200849</th>\n",
              "      <td>SPORTS</td>\n",
              "      <td>Maria Sharapova Stunned By Victoria Azarenka I...</td>\n",
              "      <td>maria sharapova stunned by victoria azarenka i...</td>\n",
              "    </tr>\n",
              "    <tr>\n",
              "      <th>200850</th>\n",
              "      <td>SPORTS</td>\n",
              "      <td>Giants Over Patriots, Jets Over Colts Among  M...</td>\n",
              "      <td>giants over patriots, jets over colts among  m...</td>\n",
              "    </tr>\n",
              "    <tr>\n",
              "      <th>200851</th>\n",
              "      <td>SPORTS</td>\n",
              "      <td>Aldon Smith Arrested: 49ers Linebacker Busted ...</td>\n",
              "      <td>aldon smith arrested: ers linebacker busted fo...</td>\n",
              "    </tr>\n",
              "    <tr>\n",
              "      <th>200852</th>\n",
              "      <td>SPORTS</td>\n",
              "      <td>Dwight Howard Rips Teammates After Magic Loss ...</td>\n",
              "      <td>dwight howard rips teammates after magic loss ...</td>\n",
              "    </tr>\n",
              "  </tbody>\n",
              "</table>\n",
              "<p>200383 rows × 3 columns</p>\n",
              "</div>\n",
              "      <button class=\"colab-df-convert\" onclick=\"convertToInteractive('df-28fd1b38-79bd-4787-9bbc-cb6494b04708')\"\n",
              "              title=\"Convert this dataframe to an interactive table.\"\n",
              "              style=\"display:none;\">\n",
              "        \n",
              "  <svg xmlns=\"http://www.w3.org/2000/svg\" height=\"24px\"viewBox=\"0 0 24 24\"\n",
              "       width=\"24px\">\n",
              "    <path d=\"M0 0h24v24H0V0z\" fill=\"none\"/>\n",
              "    <path d=\"M18.56 5.44l.94 2.06.94-2.06 2.06-.94-2.06-.94-.94-2.06-.94 2.06-2.06.94zm-11 1L8.5 8.5l.94-2.06 2.06-.94-2.06-.94L8.5 2.5l-.94 2.06-2.06.94zm10 10l.94 2.06.94-2.06 2.06-.94-2.06-.94-.94-2.06-.94 2.06-2.06.94z\"/><path d=\"M17.41 7.96l-1.37-1.37c-.4-.4-.92-.59-1.43-.59-.52 0-1.04.2-1.43.59L10.3 9.45l-7.72 7.72c-.78.78-.78 2.05 0 2.83L4 21.41c.39.39.9.59 1.41.59.51 0 1.02-.2 1.41-.59l7.78-7.78 2.81-2.81c.8-.78.8-2.07 0-2.86zM5.41 20L4 18.59l7.72-7.72 1.47 1.35L5.41 20z\"/>\n",
              "  </svg>\n",
              "      </button>\n",
              "      \n",
              "  <style>\n",
              "    .colab-df-container {\n",
              "      display:flex;\n",
              "      flex-wrap:wrap;\n",
              "      gap: 12px;\n",
              "    }\n",
              "\n",
              "    .colab-df-convert {\n",
              "      background-color: #E8F0FE;\n",
              "      border: none;\n",
              "      border-radius: 50%;\n",
              "      cursor: pointer;\n",
              "      display: none;\n",
              "      fill: #1967D2;\n",
              "      height: 32px;\n",
              "      padding: 0 0 0 0;\n",
              "      width: 32px;\n",
              "    }\n",
              "\n",
              "    .colab-df-convert:hover {\n",
              "      background-color: #E2EBFA;\n",
              "      box-shadow: 0px 1px 2px rgba(60, 64, 67, 0.3), 0px 1px 3px 1px rgba(60, 64, 67, 0.15);\n",
              "      fill: #174EA6;\n",
              "    }\n",
              "\n",
              "    [theme=dark] .colab-df-convert {\n",
              "      background-color: #3B4455;\n",
              "      fill: #D2E3FC;\n",
              "    }\n",
              "\n",
              "    [theme=dark] .colab-df-convert:hover {\n",
              "      background-color: #434B5C;\n",
              "      box-shadow: 0px 1px 3px 1px rgba(0, 0, 0, 0.15);\n",
              "      filter: drop-shadow(0px 1px 2px rgba(0, 0, 0, 0.3));\n",
              "      fill: #FFFFFF;\n",
              "    }\n",
              "  </style>\n",
              "\n",
              "      <script>\n",
              "        const buttonEl =\n",
              "          document.querySelector('#df-28fd1b38-79bd-4787-9bbc-cb6494b04708 button.colab-df-convert');\n",
              "        buttonEl.style.display =\n",
              "          google.colab.kernel.accessAllowed ? 'block' : 'none';\n",
              "\n",
              "        async function convertToInteractive(key) {\n",
              "          const element = document.querySelector('#df-28fd1b38-79bd-4787-9bbc-cb6494b04708');\n",
              "          const dataTable =\n",
              "            await google.colab.kernel.invokeFunction('convertToInteractive',\n",
              "                                                     [key], {});\n",
              "          if (!dataTable) return;\n",
              "\n",
              "          const docLinkHtml = 'Like what you see? Visit the ' +\n",
              "            '<a target=\"_blank\" href=https://colab.research.google.com/notebooks/data_table.ipynb>data table notebook</a>'\n",
              "            + ' to learn more about interactive tables.';\n",
              "          element.innerHTML = '';\n",
              "          dataTable['output_type'] = 'display_data';\n",
              "          await google.colab.output.renderOutput(dataTable, element);\n",
              "          const docLink = document.createElement('div');\n",
              "          docLink.innerHTML = docLinkHtml;\n",
              "          element.appendChild(docLink);\n",
              "        }\n",
              "      </script>\n",
              "    </div>\n",
              "  </div>\n",
              "  "
            ]
          },
          "metadata": {},
          "execution_count": 13
        }
      ]
    },
    {
      "cell_type": "code",
      "source": [
        "# for double check only \n",
        "counter =  df['text_cleaned'].apply(check_tag)\n",
        "counter.sum()"
      ],
      "metadata": {
        "colab": {
          "base_uri": "https://localhost:8080/"
        },
        "id": "8WtvwUu0tcQs",
        "outputId": "89201e06-214c-4641-ec8d-39653f727dc5"
      },
      "execution_count": 53,
      "outputs": [
        {
          "output_type": "execute_result",
          "data": {
            "text/plain": [
              "0"
            ]
          },
          "metadata": {},
          "execution_count": 53
        }
      ]
    },
    {
      "cell_type": "markdown",
      "source": [
        "- remove hashtag"
      ],
      "metadata": {
        "id": "a8KBv25t5Bkx"
      }
    },
    {
      "cell_type": "code",
      "source": [
        "def remove_hashtag(text):\n",
        "  text = re.sub(r'#', '', text, flags=re.MULTILINE)\n",
        "  return text\n",
        "\n",
        "df['text_cleaned'] = df['text_cleaned'].apply(remove_hashtag)\n",
        "df"
      ],
      "metadata": {
        "colab": {
          "base_uri": "https://localhost:8080/",
          "height": 424
        },
        "id": "IDR7PaWmtcTX",
        "outputId": "83b97505-0255-4476-b685-36deb152eeb1"
      },
      "execution_count": 14,
      "outputs": [
        {
          "output_type": "execute_result",
          "data": {
            "text/plain": [
              "             category                                               text  \\\n",
              "0               CRIME  There Were 2 Mass Shootings In Texas Last Week...   \n",
              "1       ENTERTAINMENT  Will Smith Joins Diplo And Nicky Jam For The 2...   \n",
              "2       ENTERTAINMENT  Hugh Grant Marries For The First Time At Age 5...   \n",
              "3       ENTERTAINMENT  Jim Carrey Blasts 'Castrato' Adam Schiff And D...   \n",
              "4       ENTERTAINMENT  Julianna Margulies Uses Donald Trump Poop Bags...   \n",
              "...               ...                                                ...   \n",
              "200848           TECH  RIM CEO Thorsten Heins' 'Significant' Plans Fo...   \n",
              "200849         SPORTS  Maria Sharapova Stunned By Victoria Azarenka I...   \n",
              "200850         SPORTS  Giants Over Patriots, Jets Over Colts Among  M...   \n",
              "200851         SPORTS  Aldon Smith Arrested: 49ers Linebacker Busted ...   \n",
              "200852         SPORTS  Dwight Howard Rips Teammates After Magic Loss ...   \n",
              "\n",
              "                                             text_cleaned  \n",
              "0       there were  mass shootings in texas last week,...  \n",
              "1       will smith joins diplo and nicky jam for the  ...  \n",
              "2       hugh grant marries for the first time at age  ...  \n",
              "3       jim carrey blasts 'castrato' adam schiff and d...  \n",
              "4       julianna margulies uses donald trump poop bags...  \n",
              "...                                                   ...  \n",
              "200848  rim ceo thorsten heins' 'significant' plans fo...  \n",
              "200849  maria sharapova stunned by victoria azarenka i...  \n",
              "200850  giants over patriots, jets over colts among  m...  \n",
              "200851  aldon smith arrested: ers linebacker busted fo...  \n",
              "200852  dwight howard rips teammates after magic loss ...  \n",
              "\n",
              "[200383 rows x 3 columns]"
            ],
            "text/html": [
              "\n",
              "  <div id=\"df-53f0b6ec-734d-473d-8ea8-0f112c4b7796\">\n",
              "    <div class=\"colab-df-container\">\n",
              "      <div>\n",
              "<style scoped>\n",
              "    .dataframe tbody tr th:only-of-type {\n",
              "        vertical-align: middle;\n",
              "    }\n",
              "\n",
              "    .dataframe tbody tr th {\n",
              "        vertical-align: top;\n",
              "    }\n",
              "\n",
              "    .dataframe thead th {\n",
              "        text-align: right;\n",
              "    }\n",
              "</style>\n",
              "<table border=\"1\" class=\"dataframe\">\n",
              "  <thead>\n",
              "    <tr style=\"text-align: right;\">\n",
              "      <th></th>\n",
              "      <th>category</th>\n",
              "      <th>text</th>\n",
              "      <th>text_cleaned</th>\n",
              "    </tr>\n",
              "  </thead>\n",
              "  <tbody>\n",
              "    <tr>\n",
              "      <th>0</th>\n",
              "      <td>CRIME</td>\n",
              "      <td>There Were 2 Mass Shootings In Texas Last Week...</td>\n",
              "      <td>there were  mass shootings in texas last week,...</td>\n",
              "    </tr>\n",
              "    <tr>\n",
              "      <th>1</th>\n",
              "      <td>ENTERTAINMENT</td>\n",
              "      <td>Will Smith Joins Diplo And Nicky Jam For The 2...</td>\n",
              "      <td>will smith joins diplo and nicky jam for the  ...</td>\n",
              "    </tr>\n",
              "    <tr>\n",
              "      <th>2</th>\n",
              "      <td>ENTERTAINMENT</td>\n",
              "      <td>Hugh Grant Marries For The First Time At Age 5...</td>\n",
              "      <td>hugh grant marries for the first time at age  ...</td>\n",
              "    </tr>\n",
              "    <tr>\n",
              "      <th>3</th>\n",
              "      <td>ENTERTAINMENT</td>\n",
              "      <td>Jim Carrey Blasts 'Castrato' Adam Schiff And D...</td>\n",
              "      <td>jim carrey blasts 'castrato' adam schiff and d...</td>\n",
              "    </tr>\n",
              "    <tr>\n",
              "      <th>4</th>\n",
              "      <td>ENTERTAINMENT</td>\n",
              "      <td>Julianna Margulies Uses Donald Trump Poop Bags...</td>\n",
              "      <td>julianna margulies uses donald trump poop bags...</td>\n",
              "    </tr>\n",
              "    <tr>\n",
              "      <th>...</th>\n",
              "      <td>...</td>\n",
              "      <td>...</td>\n",
              "      <td>...</td>\n",
              "    </tr>\n",
              "    <tr>\n",
              "      <th>200848</th>\n",
              "      <td>TECH</td>\n",
              "      <td>RIM CEO Thorsten Heins' 'Significant' Plans Fo...</td>\n",
              "      <td>rim ceo thorsten heins' 'significant' plans fo...</td>\n",
              "    </tr>\n",
              "    <tr>\n",
              "      <th>200849</th>\n",
              "      <td>SPORTS</td>\n",
              "      <td>Maria Sharapova Stunned By Victoria Azarenka I...</td>\n",
              "      <td>maria sharapova stunned by victoria azarenka i...</td>\n",
              "    </tr>\n",
              "    <tr>\n",
              "      <th>200850</th>\n",
              "      <td>SPORTS</td>\n",
              "      <td>Giants Over Patriots, Jets Over Colts Among  M...</td>\n",
              "      <td>giants over patriots, jets over colts among  m...</td>\n",
              "    </tr>\n",
              "    <tr>\n",
              "      <th>200851</th>\n",
              "      <td>SPORTS</td>\n",
              "      <td>Aldon Smith Arrested: 49ers Linebacker Busted ...</td>\n",
              "      <td>aldon smith arrested: ers linebacker busted fo...</td>\n",
              "    </tr>\n",
              "    <tr>\n",
              "      <th>200852</th>\n",
              "      <td>SPORTS</td>\n",
              "      <td>Dwight Howard Rips Teammates After Magic Loss ...</td>\n",
              "      <td>dwight howard rips teammates after magic loss ...</td>\n",
              "    </tr>\n",
              "  </tbody>\n",
              "</table>\n",
              "<p>200383 rows × 3 columns</p>\n",
              "</div>\n",
              "      <button class=\"colab-df-convert\" onclick=\"convertToInteractive('df-53f0b6ec-734d-473d-8ea8-0f112c4b7796')\"\n",
              "              title=\"Convert this dataframe to an interactive table.\"\n",
              "              style=\"display:none;\">\n",
              "        \n",
              "  <svg xmlns=\"http://www.w3.org/2000/svg\" height=\"24px\"viewBox=\"0 0 24 24\"\n",
              "       width=\"24px\">\n",
              "    <path d=\"M0 0h24v24H0V0z\" fill=\"none\"/>\n",
              "    <path d=\"M18.56 5.44l.94 2.06.94-2.06 2.06-.94-2.06-.94-.94-2.06-.94 2.06-2.06.94zm-11 1L8.5 8.5l.94-2.06 2.06-.94-2.06-.94L8.5 2.5l-.94 2.06-2.06.94zm10 10l.94 2.06.94-2.06 2.06-.94-2.06-.94-.94-2.06-.94 2.06-2.06.94z\"/><path d=\"M17.41 7.96l-1.37-1.37c-.4-.4-.92-.59-1.43-.59-.52 0-1.04.2-1.43.59L10.3 9.45l-7.72 7.72c-.78.78-.78 2.05 0 2.83L4 21.41c.39.39.9.59 1.41.59.51 0 1.02-.2 1.41-.59l7.78-7.78 2.81-2.81c.8-.78.8-2.07 0-2.86zM5.41 20L4 18.59l7.72-7.72 1.47 1.35L5.41 20z\"/>\n",
              "  </svg>\n",
              "      </button>\n",
              "      \n",
              "  <style>\n",
              "    .colab-df-container {\n",
              "      display:flex;\n",
              "      flex-wrap:wrap;\n",
              "      gap: 12px;\n",
              "    }\n",
              "\n",
              "    .colab-df-convert {\n",
              "      background-color: #E8F0FE;\n",
              "      border: none;\n",
              "      border-radius: 50%;\n",
              "      cursor: pointer;\n",
              "      display: none;\n",
              "      fill: #1967D2;\n",
              "      height: 32px;\n",
              "      padding: 0 0 0 0;\n",
              "      width: 32px;\n",
              "    }\n",
              "\n",
              "    .colab-df-convert:hover {\n",
              "      background-color: #E2EBFA;\n",
              "      box-shadow: 0px 1px 2px rgba(60, 64, 67, 0.3), 0px 1px 3px 1px rgba(60, 64, 67, 0.15);\n",
              "      fill: #174EA6;\n",
              "    }\n",
              "\n",
              "    [theme=dark] .colab-df-convert {\n",
              "      background-color: #3B4455;\n",
              "      fill: #D2E3FC;\n",
              "    }\n",
              "\n",
              "    [theme=dark] .colab-df-convert:hover {\n",
              "      background-color: #434B5C;\n",
              "      box-shadow: 0px 1px 3px 1px rgba(0, 0, 0, 0.15);\n",
              "      filter: drop-shadow(0px 1px 2px rgba(0, 0, 0, 0.3));\n",
              "      fill: #FFFFFF;\n",
              "    }\n",
              "  </style>\n",
              "\n",
              "      <script>\n",
              "        const buttonEl =\n",
              "          document.querySelector('#df-53f0b6ec-734d-473d-8ea8-0f112c4b7796 button.colab-df-convert');\n",
              "        buttonEl.style.display =\n",
              "          google.colab.kernel.accessAllowed ? 'block' : 'none';\n",
              "\n",
              "        async function convertToInteractive(key) {\n",
              "          const element = document.querySelector('#df-53f0b6ec-734d-473d-8ea8-0f112c4b7796');\n",
              "          const dataTable =\n",
              "            await google.colab.kernel.invokeFunction('convertToInteractive',\n",
              "                                                     [key], {});\n",
              "          if (!dataTable) return;\n",
              "\n",
              "          const docLinkHtml = 'Like what you see? Visit the ' +\n",
              "            '<a target=\"_blank\" href=https://colab.research.google.com/notebooks/data_table.ipynb>data table notebook</a>'\n",
              "            + ' to learn more about interactive tables.';\n",
              "          element.innerHTML = '';\n",
              "          dataTable['output_type'] = 'display_data';\n",
              "          await google.colab.output.renderOutput(dataTable, element);\n",
              "          const docLink = document.createElement('div');\n",
              "          docLink.innerHTML = docLinkHtml;\n",
              "          element.appendChild(docLink);\n",
              "        }\n",
              "      </script>\n",
              "    </div>\n",
              "  </div>\n",
              "  "
            ]
          },
          "metadata": {},
          "execution_count": 14
        }
      ]
    },
    {
      "cell_type": "code",
      "source": [
        "# for double check only \n",
        "counter =  df['text_cleaned'].apply(check_hastag)\n",
        "counter.sum()"
      ],
      "metadata": {
        "colab": {
          "base_uri": "https://localhost:8080/"
        },
        "id": "avVDhz6ktcV9",
        "outputId": "f4d47002-73eb-4606-c1c7-2657faa98db7"
      },
      "execution_count": 55,
      "outputs": [
        {
          "output_type": "execute_result",
          "data": {
            "text/plain": [
              "0"
            ]
          },
          "metadata": {},
          "execution_count": 55
        }
      ]
    },
    {
      "cell_type": "code",
      "source": [
        "df['text_cleaned']  = df['text_cleaned'].apply(lambda x: x.split())"
      ],
      "metadata": {
        "id": "GEB8Z0XH6qJm"
      },
      "execution_count": 15,
      "outputs": []
    },
    {
      "cell_type": "markdown",
      "source": [
        "- remove stopwords"
      ],
      "metadata": {
        "id": "d_FwEAoBHqjd"
      }
    },
    {
      "cell_type": "code",
      "source": [
        "stop_words = stopwords.words('english')\n",
        "def remove_stopwords(words):\n",
        "    return [word for word in words if word not in stop_words]\n",
        "\n",
        "df['text_cleaned'] = df['text_cleaned'].apply(remove_stopwords)\n",
        "df"
      ],
      "metadata": {
        "colab": {
          "base_uri": "https://localhost:8080/",
          "height": 424
        },
        "id": "eqkQ7IcsHl5O",
        "outputId": "48ed3ca2-ae41-40ee-d698-78f06f748fcc"
      },
      "execution_count": 16,
      "outputs": [
        {
          "output_type": "execute_result",
          "data": {
            "text/plain": [
              "             category                                               text  \\\n",
              "0               CRIME  There Were 2 Mass Shootings In Texas Last Week...   \n",
              "1       ENTERTAINMENT  Will Smith Joins Diplo And Nicky Jam For The 2...   \n",
              "2       ENTERTAINMENT  Hugh Grant Marries For The First Time At Age 5...   \n",
              "3       ENTERTAINMENT  Jim Carrey Blasts 'Castrato' Adam Schiff And D...   \n",
              "4       ENTERTAINMENT  Julianna Margulies Uses Donald Trump Poop Bags...   \n",
              "...               ...                                                ...   \n",
              "200848           TECH  RIM CEO Thorsten Heins' 'Significant' Plans Fo...   \n",
              "200849         SPORTS  Maria Sharapova Stunned By Victoria Azarenka I...   \n",
              "200850         SPORTS  Giants Over Patriots, Jets Over Colts Among  M...   \n",
              "200851         SPORTS  Aldon Smith Arrested: 49ers Linebacker Busted ...   \n",
              "200852         SPORTS  Dwight Howard Rips Teammates After Magic Loss ...   \n",
              "\n",
              "                                             text_cleaned  \n",
              "0       [mass, shootings, texas, last, week,, tv, left...  \n",
              "1       [smith, joins, diplo, nicky, jam, world, cup's...  \n",
              "2       [hugh, grant, marries, first, time, age, actor...  \n",
              "3       [jim, carrey, blasts, 'castrato', adam, schiff...  \n",
              "4       [julianna, margulies, uses, donald, trump, poo...  \n",
              "...                                                   ...  \n",
              "200848  [rim, ceo, thorsten, heins', 'significant', pl...  \n",
              "200849  [maria, sharapova, stunned, victoria, azarenka...  \n",
              "200850  [giants, patriots,, jets, colts, among, improb...  \n",
              "200851  [aldon, smith, arrested:, ers, linebacker, bus...  \n",
              "200852  [dwight, howard, rips, teammates, magic, loss,...  \n",
              "\n",
              "[200383 rows x 3 columns]"
            ],
            "text/html": [
              "\n",
              "  <div id=\"df-1b640ab9-1691-4038-bae9-4ecb2553d2c3\">\n",
              "    <div class=\"colab-df-container\">\n",
              "      <div>\n",
              "<style scoped>\n",
              "    .dataframe tbody tr th:only-of-type {\n",
              "        vertical-align: middle;\n",
              "    }\n",
              "\n",
              "    .dataframe tbody tr th {\n",
              "        vertical-align: top;\n",
              "    }\n",
              "\n",
              "    .dataframe thead th {\n",
              "        text-align: right;\n",
              "    }\n",
              "</style>\n",
              "<table border=\"1\" class=\"dataframe\">\n",
              "  <thead>\n",
              "    <tr style=\"text-align: right;\">\n",
              "      <th></th>\n",
              "      <th>category</th>\n",
              "      <th>text</th>\n",
              "      <th>text_cleaned</th>\n",
              "    </tr>\n",
              "  </thead>\n",
              "  <tbody>\n",
              "    <tr>\n",
              "      <th>0</th>\n",
              "      <td>CRIME</td>\n",
              "      <td>There Were 2 Mass Shootings In Texas Last Week...</td>\n",
              "      <td>[mass, shootings, texas, last, week,, tv, left...</td>\n",
              "    </tr>\n",
              "    <tr>\n",
              "      <th>1</th>\n",
              "      <td>ENTERTAINMENT</td>\n",
              "      <td>Will Smith Joins Diplo And Nicky Jam For The 2...</td>\n",
              "      <td>[smith, joins, diplo, nicky, jam, world, cup's...</td>\n",
              "    </tr>\n",
              "    <tr>\n",
              "      <th>2</th>\n",
              "      <td>ENTERTAINMENT</td>\n",
              "      <td>Hugh Grant Marries For The First Time At Age 5...</td>\n",
              "      <td>[hugh, grant, marries, first, time, age, actor...</td>\n",
              "    </tr>\n",
              "    <tr>\n",
              "      <th>3</th>\n",
              "      <td>ENTERTAINMENT</td>\n",
              "      <td>Jim Carrey Blasts 'Castrato' Adam Schiff And D...</td>\n",
              "      <td>[jim, carrey, blasts, 'castrato', adam, schiff...</td>\n",
              "    </tr>\n",
              "    <tr>\n",
              "      <th>4</th>\n",
              "      <td>ENTERTAINMENT</td>\n",
              "      <td>Julianna Margulies Uses Donald Trump Poop Bags...</td>\n",
              "      <td>[julianna, margulies, uses, donald, trump, poo...</td>\n",
              "    </tr>\n",
              "    <tr>\n",
              "      <th>...</th>\n",
              "      <td>...</td>\n",
              "      <td>...</td>\n",
              "      <td>...</td>\n",
              "    </tr>\n",
              "    <tr>\n",
              "      <th>200848</th>\n",
              "      <td>TECH</td>\n",
              "      <td>RIM CEO Thorsten Heins' 'Significant' Plans Fo...</td>\n",
              "      <td>[rim, ceo, thorsten, heins', 'significant', pl...</td>\n",
              "    </tr>\n",
              "    <tr>\n",
              "      <th>200849</th>\n",
              "      <td>SPORTS</td>\n",
              "      <td>Maria Sharapova Stunned By Victoria Azarenka I...</td>\n",
              "      <td>[maria, sharapova, stunned, victoria, azarenka...</td>\n",
              "    </tr>\n",
              "    <tr>\n",
              "      <th>200850</th>\n",
              "      <td>SPORTS</td>\n",
              "      <td>Giants Over Patriots, Jets Over Colts Among  M...</td>\n",
              "      <td>[giants, patriots,, jets, colts, among, improb...</td>\n",
              "    </tr>\n",
              "    <tr>\n",
              "      <th>200851</th>\n",
              "      <td>SPORTS</td>\n",
              "      <td>Aldon Smith Arrested: 49ers Linebacker Busted ...</td>\n",
              "      <td>[aldon, smith, arrested:, ers, linebacker, bus...</td>\n",
              "    </tr>\n",
              "    <tr>\n",
              "      <th>200852</th>\n",
              "      <td>SPORTS</td>\n",
              "      <td>Dwight Howard Rips Teammates After Magic Loss ...</td>\n",
              "      <td>[dwight, howard, rips, teammates, magic, loss,...</td>\n",
              "    </tr>\n",
              "  </tbody>\n",
              "</table>\n",
              "<p>200383 rows × 3 columns</p>\n",
              "</div>\n",
              "      <button class=\"colab-df-convert\" onclick=\"convertToInteractive('df-1b640ab9-1691-4038-bae9-4ecb2553d2c3')\"\n",
              "              title=\"Convert this dataframe to an interactive table.\"\n",
              "              style=\"display:none;\">\n",
              "        \n",
              "  <svg xmlns=\"http://www.w3.org/2000/svg\" height=\"24px\"viewBox=\"0 0 24 24\"\n",
              "       width=\"24px\">\n",
              "    <path d=\"M0 0h24v24H0V0z\" fill=\"none\"/>\n",
              "    <path d=\"M18.56 5.44l.94 2.06.94-2.06 2.06-.94-2.06-.94-.94-2.06-.94 2.06-2.06.94zm-11 1L8.5 8.5l.94-2.06 2.06-.94-2.06-.94L8.5 2.5l-.94 2.06-2.06.94zm10 10l.94 2.06.94-2.06 2.06-.94-2.06-.94-.94-2.06-.94 2.06-2.06.94z\"/><path d=\"M17.41 7.96l-1.37-1.37c-.4-.4-.92-.59-1.43-.59-.52 0-1.04.2-1.43.59L10.3 9.45l-7.72 7.72c-.78.78-.78 2.05 0 2.83L4 21.41c.39.39.9.59 1.41.59.51 0 1.02-.2 1.41-.59l7.78-7.78 2.81-2.81c.8-.78.8-2.07 0-2.86zM5.41 20L4 18.59l7.72-7.72 1.47 1.35L5.41 20z\"/>\n",
              "  </svg>\n",
              "      </button>\n",
              "      \n",
              "  <style>\n",
              "    .colab-df-container {\n",
              "      display:flex;\n",
              "      flex-wrap:wrap;\n",
              "      gap: 12px;\n",
              "    }\n",
              "\n",
              "    .colab-df-convert {\n",
              "      background-color: #E8F0FE;\n",
              "      border: none;\n",
              "      border-radius: 50%;\n",
              "      cursor: pointer;\n",
              "      display: none;\n",
              "      fill: #1967D2;\n",
              "      height: 32px;\n",
              "      padding: 0 0 0 0;\n",
              "      width: 32px;\n",
              "    }\n",
              "\n",
              "    .colab-df-convert:hover {\n",
              "      background-color: #E2EBFA;\n",
              "      box-shadow: 0px 1px 2px rgba(60, 64, 67, 0.3), 0px 1px 3px 1px rgba(60, 64, 67, 0.15);\n",
              "      fill: #174EA6;\n",
              "    }\n",
              "\n",
              "    [theme=dark] .colab-df-convert {\n",
              "      background-color: #3B4455;\n",
              "      fill: #D2E3FC;\n",
              "    }\n",
              "\n",
              "    [theme=dark] .colab-df-convert:hover {\n",
              "      background-color: #434B5C;\n",
              "      box-shadow: 0px 1px 3px 1px rgba(0, 0, 0, 0.15);\n",
              "      filter: drop-shadow(0px 1px 2px rgba(0, 0, 0, 0.3));\n",
              "      fill: #FFFFFF;\n",
              "    }\n",
              "  </style>\n",
              "\n",
              "      <script>\n",
              "        const buttonEl =\n",
              "          document.querySelector('#df-1b640ab9-1691-4038-bae9-4ecb2553d2c3 button.colab-df-convert');\n",
              "        buttonEl.style.display =\n",
              "          google.colab.kernel.accessAllowed ? 'block' : 'none';\n",
              "\n",
              "        async function convertToInteractive(key) {\n",
              "          const element = document.querySelector('#df-1b640ab9-1691-4038-bae9-4ecb2553d2c3');\n",
              "          const dataTable =\n",
              "            await google.colab.kernel.invokeFunction('convertToInteractive',\n",
              "                                                     [key], {});\n",
              "          if (!dataTable) return;\n",
              "\n",
              "          const docLinkHtml = 'Like what you see? Visit the ' +\n",
              "            '<a target=\"_blank\" href=https://colab.research.google.com/notebooks/data_table.ipynb>data table notebook</a>'\n",
              "            + ' to learn more about interactive tables.';\n",
              "          element.innerHTML = '';\n",
              "          dataTable['output_type'] = 'display_data';\n",
              "          await google.colab.output.renderOutput(dataTable, element);\n",
              "          const docLink = document.createElement('div');\n",
              "          docLink.innerHTML = docLinkHtml;\n",
              "          element.appendChild(docLink);\n",
              "        }\n",
              "      </script>\n",
              "    </div>\n",
              "  </div>\n",
              "  "
            ]
          },
          "metadata": {},
          "execution_count": 16
        }
      ]
    },
    {
      "cell_type": "markdown",
      "source": [
        "- Lemmatizer"
      ],
      "metadata": {
        "id": "oDIsPdcq6A7J"
      }
    },
    {
      "cell_type": "code",
      "source": [
        "def lemmatize_words(words):\n",
        "    lemmatizer = WordNetLemmatizer()\n",
        "    return [lemmatizer.lemmatize(word) for word in words]\n",
        "\n",
        "df['text_cleaned'] = df['text_cleaned'].apply(lemmatize_words)\n",
        "df"
      ],
      "metadata": {
        "colab": {
          "base_uri": "https://localhost:8080/",
          "height": 424
        },
        "id": "zVc8GUk4tBU_",
        "outputId": "3fde6930-7ccc-4aeb-962c-dc0dbae8a431"
      },
      "execution_count": 17,
      "outputs": [
        {
          "output_type": "execute_result",
          "data": {
            "text/plain": [
              "             category                                               text  \\\n",
              "0               CRIME  There Were 2 Mass Shootings In Texas Last Week...   \n",
              "1       ENTERTAINMENT  Will Smith Joins Diplo And Nicky Jam For The 2...   \n",
              "2       ENTERTAINMENT  Hugh Grant Marries For The First Time At Age 5...   \n",
              "3       ENTERTAINMENT  Jim Carrey Blasts 'Castrato' Adam Schiff And D...   \n",
              "4       ENTERTAINMENT  Julianna Margulies Uses Donald Trump Poop Bags...   \n",
              "...               ...                                                ...   \n",
              "200848           TECH  RIM CEO Thorsten Heins' 'Significant' Plans Fo...   \n",
              "200849         SPORTS  Maria Sharapova Stunned By Victoria Azarenka I...   \n",
              "200850         SPORTS  Giants Over Patriots, Jets Over Colts Among  M...   \n",
              "200851         SPORTS  Aldon Smith Arrested: 49ers Linebacker Busted ...   \n",
              "200852         SPORTS  Dwight Howard Rips Teammates After Magic Loss ...   \n",
              "\n",
              "                                             text_cleaned  \n",
              "0       [mass, shooting, texas, last, week,, tv, left,...  \n",
              "1       [smith, join, diplo, nicky, jam, world, cup's,...  \n",
              "2       [hugh, grant, marries, first, time, age, actor...  \n",
              "3       [jim, carrey, blast, 'castrato', adam, schiff,...  \n",
              "4       [julianna, margulies, us, donald, trump, poop,...  \n",
              "...                                                   ...  \n",
              "200848  [rim, ceo, thorsten, heins', 'significant', pl...  \n",
              "200849  [maria, sharapova, stunned, victoria, azarenka...  \n",
              "200850  [giant, patriots,, jet, colt, among, improbabl...  \n",
              "200851  [aldon, smith, arrested:, er, linebacker, bust...  \n",
              "200852  [dwight, howard, rip, teammate, magic, loss, h...  \n",
              "\n",
              "[200383 rows x 3 columns]"
            ],
            "text/html": [
              "\n",
              "  <div id=\"df-127ad343-8060-421a-92d0-b6c5735ff576\">\n",
              "    <div class=\"colab-df-container\">\n",
              "      <div>\n",
              "<style scoped>\n",
              "    .dataframe tbody tr th:only-of-type {\n",
              "        vertical-align: middle;\n",
              "    }\n",
              "\n",
              "    .dataframe tbody tr th {\n",
              "        vertical-align: top;\n",
              "    }\n",
              "\n",
              "    .dataframe thead th {\n",
              "        text-align: right;\n",
              "    }\n",
              "</style>\n",
              "<table border=\"1\" class=\"dataframe\">\n",
              "  <thead>\n",
              "    <tr style=\"text-align: right;\">\n",
              "      <th></th>\n",
              "      <th>category</th>\n",
              "      <th>text</th>\n",
              "      <th>text_cleaned</th>\n",
              "    </tr>\n",
              "  </thead>\n",
              "  <tbody>\n",
              "    <tr>\n",
              "      <th>0</th>\n",
              "      <td>CRIME</td>\n",
              "      <td>There Were 2 Mass Shootings In Texas Last Week...</td>\n",
              "      <td>[mass, shooting, texas, last, week,, tv, left,...</td>\n",
              "    </tr>\n",
              "    <tr>\n",
              "      <th>1</th>\n",
              "      <td>ENTERTAINMENT</td>\n",
              "      <td>Will Smith Joins Diplo And Nicky Jam For The 2...</td>\n",
              "      <td>[smith, join, diplo, nicky, jam, world, cup's,...</td>\n",
              "    </tr>\n",
              "    <tr>\n",
              "      <th>2</th>\n",
              "      <td>ENTERTAINMENT</td>\n",
              "      <td>Hugh Grant Marries For The First Time At Age 5...</td>\n",
              "      <td>[hugh, grant, marries, first, time, age, actor...</td>\n",
              "    </tr>\n",
              "    <tr>\n",
              "      <th>3</th>\n",
              "      <td>ENTERTAINMENT</td>\n",
              "      <td>Jim Carrey Blasts 'Castrato' Adam Schiff And D...</td>\n",
              "      <td>[jim, carrey, blast, 'castrato', adam, schiff,...</td>\n",
              "    </tr>\n",
              "    <tr>\n",
              "      <th>4</th>\n",
              "      <td>ENTERTAINMENT</td>\n",
              "      <td>Julianna Margulies Uses Donald Trump Poop Bags...</td>\n",
              "      <td>[julianna, margulies, us, donald, trump, poop,...</td>\n",
              "    </tr>\n",
              "    <tr>\n",
              "      <th>...</th>\n",
              "      <td>...</td>\n",
              "      <td>...</td>\n",
              "      <td>...</td>\n",
              "    </tr>\n",
              "    <tr>\n",
              "      <th>200848</th>\n",
              "      <td>TECH</td>\n",
              "      <td>RIM CEO Thorsten Heins' 'Significant' Plans Fo...</td>\n",
              "      <td>[rim, ceo, thorsten, heins', 'significant', pl...</td>\n",
              "    </tr>\n",
              "    <tr>\n",
              "      <th>200849</th>\n",
              "      <td>SPORTS</td>\n",
              "      <td>Maria Sharapova Stunned By Victoria Azarenka I...</td>\n",
              "      <td>[maria, sharapova, stunned, victoria, azarenka...</td>\n",
              "    </tr>\n",
              "    <tr>\n",
              "      <th>200850</th>\n",
              "      <td>SPORTS</td>\n",
              "      <td>Giants Over Patriots, Jets Over Colts Among  M...</td>\n",
              "      <td>[giant, patriots,, jet, colt, among, improbabl...</td>\n",
              "    </tr>\n",
              "    <tr>\n",
              "      <th>200851</th>\n",
              "      <td>SPORTS</td>\n",
              "      <td>Aldon Smith Arrested: 49ers Linebacker Busted ...</td>\n",
              "      <td>[aldon, smith, arrested:, er, linebacker, bust...</td>\n",
              "    </tr>\n",
              "    <tr>\n",
              "      <th>200852</th>\n",
              "      <td>SPORTS</td>\n",
              "      <td>Dwight Howard Rips Teammates After Magic Loss ...</td>\n",
              "      <td>[dwight, howard, rip, teammate, magic, loss, h...</td>\n",
              "    </tr>\n",
              "  </tbody>\n",
              "</table>\n",
              "<p>200383 rows × 3 columns</p>\n",
              "</div>\n",
              "      <button class=\"colab-df-convert\" onclick=\"convertToInteractive('df-127ad343-8060-421a-92d0-b6c5735ff576')\"\n",
              "              title=\"Convert this dataframe to an interactive table.\"\n",
              "              style=\"display:none;\">\n",
              "        \n",
              "  <svg xmlns=\"http://www.w3.org/2000/svg\" height=\"24px\"viewBox=\"0 0 24 24\"\n",
              "       width=\"24px\">\n",
              "    <path d=\"M0 0h24v24H0V0z\" fill=\"none\"/>\n",
              "    <path d=\"M18.56 5.44l.94 2.06.94-2.06 2.06-.94-2.06-.94-.94-2.06-.94 2.06-2.06.94zm-11 1L8.5 8.5l.94-2.06 2.06-.94-2.06-.94L8.5 2.5l-.94 2.06-2.06.94zm10 10l.94 2.06.94-2.06 2.06-.94-2.06-.94-.94-2.06-.94 2.06-2.06.94z\"/><path d=\"M17.41 7.96l-1.37-1.37c-.4-.4-.92-.59-1.43-.59-.52 0-1.04.2-1.43.59L10.3 9.45l-7.72 7.72c-.78.78-.78 2.05 0 2.83L4 21.41c.39.39.9.59 1.41.59.51 0 1.02-.2 1.41-.59l7.78-7.78 2.81-2.81c.8-.78.8-2.07 0-2.86zM5.41 20L4 18.59l7.72-7.72 1.47 1.35L5.41 20z\"/>\n",
              "  </svg>\n",
              "      </button>\n",
              "      \n",
              "  <style>\n",
              "    .colab-df-container {\n",
              "      display:flex;\n",
              "      flex-wrap:wrap;\n",
              "      gap: 12px;\n",
              "    }\n",
              "\n",
              "    .colab-df-convert {\n",
              "      background-color: #E8F0FE;\n",
              "      border: none;\n",
              "      border-radius: 50%;\n",
              "      cursor: pointer;\n",
              "      display: none;\n",
              "      fill: #1967D2;\n",
              "      height: 32px;\n",
              "      padding: 0 0 0 0;\n",
              "      width: 32px;\n",
              "    }\n",
              "\n",
              "    .colab-df-convert:hover {\n",
              "      background-color: #E2EBFA;\n",
              "      box-shadow: 0px 1px 2px rgba(60, 64, 67, 0.3), 0px 1px 3px 1px rgba(60, 64, 67, 0.15);\n",
              "      fill: #174EA6;\n",
              "    }\n",
              "\n",
              "    [theme=dark] .colab-df-convert {\n",
              "      background-color: #3B4455;\n",
              "      fill: #D2E3FC;\n",
              "    }\n",
              "\n",
              "    [theme=dark] .colab-df-convert:hover {\n",
              "      background-color: #434B5C;\n",
              "      box-shadow: 0px 1px 3px 1px rgba(0, 0, 0, 0.15);\n",
              "      filter: drop-shadow(0px 1px 2px rgba(0, 0, 0, 0.3));\n",
              "      fill: #FFFFFF;\n",
              "    }\n",
              "  </style>\n",
              "\n",
              "      <script>\n",
              "        const buttonEl =\n",
              "          document.querySelector('#df-127ad343-8060-421a-92d0-b6c5735ff576 button.colab-df-convert');\n",
              "        buttonEl.style.display =\n",
              "          google.colab.kernel.accessAllowed ? 'block' : 'none';\n",
              "\n",
              "        async function convertToInteractive(key) {\n",
              "          const element = document.querySelector('#df-127ad343-8060-421a-92d0-b6c5735ff576');\n",
              "          const dataTable =\n",
              "            await google.colab.kernel.invokeFunction('convertToInteractive',\n",
              "                                                     [key], {});\n",
              "          if (!dataTable) return;\n",
              "\n",
              "          const docLinkHtml = 'Like what you see? Visit the ' +\n",
              "            '<a target=\"_blank\" href=https://colab.research.google.com/notebooks/data_table.ipynb>data table notebook</a>'\n",
              "            + ' to learn more about interactive tables.';\n",
              "          element.innerHTML = '';\n",
              "          dataTable['output_type'] = 'display_data';\n",
              "          await google.colab.output.renderOutput(dataTable, element);\n",
              "          const docLink = document.createElement('div');\n",
              "          docLink.innerHTML = docLinkHtml;\n",
              "          element.appendChild(docLink);\n",
              "        }\n",
              "      </script>\n",
              "    </div>\n",
              "  </div>\n",
              "  "
            ]
          },
          "metadata": {},
          "execution_count": 17
        }
      ]
    },
    {
      "cell_type": "markdown",
      "source": [
        "## Modelling"
      ],
      "metadata": {
        "id": "pWCGzxicNZrX"
      }
    },
    {
      "cell_type": "code",
      "source": [
        "lens = df['text_cleaned'].apply(lambda x: len(x)) \n",
        "lens.hist()"
      ],
      "metadata": {
        "colab": {
          "base_uri": "https://localhost:8080/",
          "height": 282
        },
        "id": "H4iqSCKR8dW3",
        "outputId": "7fefe559-a58e-4ac1-ffe2-58f2d44307fc"
      },
      "execution_count": 19,
      "outputs": [
        {
          "output_type": "execute_result",
          "data": {
            "text/plain": [
              "<matplotlib.axes._subplots.AxesSubplot at 0x7fac411b0710>"
            ]
          },
          "metadata": {},
          "execution_count": 19
        },
        {
          "output_type": "display_data",
          "data": {
            "text/plain": [
              "<Figure size 432x288 with 1 Axes>"
            ],
            "image/png": "[encoded data removed]"
          },
          "metadata": {
            "needs_background": "light"
          }
        }
      ]
    },
    {
      "cell_type": "code",
      "source": [
        "max_sequence_len = 45\n",
        "df['text_cleaned'] = df['text_cleaned'] .apply(lambda sent: sent[:max_sequence_len])"
      ],
      "metadata": {
        "id": "dPDgTnFU8dc-"
      },
      "execution_count": 24,
      "outputs": []
    },
    {
      "cell_type": "code",
      "source": [
        "from sklearn.preprocessing import LabelEncoder\n",
        "label_encoder = LabelEncoder()\n",
        "\n",
        "df['category_encode']= label_encoder.fit_transform(df['category'])\n",
        "print(df['category_encode'].unique())\n",
        "# for double check\n",
        "print(df['category_encode'].value_counts().count())"
      ],
      "metadata": {
        "colab": {
          "base_uri": "https://localhost:8080/"
        },
        "id": "8GNl5e4BIgmz",
        "outputId": "3269b672-ff4b-46c0-ac02-ee7e90837c5c"
      },
      "execution_count": 26,
      "outputs": [
        {
          "output_type": "stream",
          "name": "stdout",
          "text": [
            "[ 6 10 39 18 24 36  2 38  5 25 28  3 34 20 32 26 27 19  9  4 23  1 29 15\n",
            " 31 16 33 14 40 12  0 37 22 17 30  8 35 13 21 11  7]\n",
            "41\n"
          ]
        }
      ]
    },
    {
      "cell_type": "code",
      "source": [
        "y = df['category_encode']"
      ],
      "metadata": {
        "id": "bz4IYV--OHKy"
      },
      "execution_count": 62,
      "outputs": []
    },
    {
      "cell_type": "code",
      "source": [
        "from tensorflow.keras.utils import to_categorical\n",
        "train_labels = to_categorical(y)\n",
        "print(train_labels.shape)"
      ],
      "metadata": {
        "colab": {
          "base_uri": "https://localhost:8080/"
        },
        "id": "_lY0GKO0JerS",
        "outputId": "33f6faa1-1d54-4d26-af84-53964892e7c9"
      },
      "execution_count": 63,
      "outputs": [
        {
          "output_type": "stream",
          "name": "stdout",
          "text": [
            "(200383, 41)\n"
          ]
        }
      ]
    },
    {
      "cell_type": "code",
      "source": [
        "text = df['text_cleaned'].values"
      ],
      "metadata": {
        "id": "daJktqcS8df2"
      },
      "execution_count": 64,
      "outputs": []
    },
    {
      "cell_type": "code",
      "source": [
        "tokenizer = Tokenizer(oov_token='UNK')\n",
        "tokenizer.fit_on_texts(text)\n",
        "vocab_size = len(tokenizer.word_index) + 1\n",
        "print('vocab size: ', vocab_size)\n",
        "sequences = tokenizer.texts_to_sequences(text)\n",
        "text_pad = pad_sequences(sequences, maxlen=max_sequence_len, truncating='post', padding='post')"
      ],
      "metadata": {
        "colab": {
          "base_uri": "https://localhost:8080/"
        },
        "id": "SPu-v0dwIUqh",
        "outputId": "697215f0-9b78-484a-c0ef-f11636ded626"
      },
      "execution_count": 65,
      "outputs": [
        {
          "output_type": "stream",
          "name": "stdout",
          "text": [
            "vocab size:  224160\n"
          ]
        }
      ]
    },
    {
      "cell_type": "code",
      "source": [
        "x_train, x_test, y_train, y_test = train_test_split(text_pad, train_labels, stratify=train_labels, test_size=0.2)\n",
        "\n",
        "print(x_train.shape, x_test.shape)\n",
        "print(y_train.shape, y_test.shape)"
      ],
      "metadata": {
        "colab": {
          "base_uri": "https://localhost:8080/"
        },
        "id": "hZzLBA1kJjUt",
        "outputId": "1de1edb2-af7e-41c2-fe83-2d0fa751f2b4"
      },
      "execution_count": 66,
      "outputs": [
        {
          "output_type": "stream",
          "name": "stdout",
          "text": [
            "(160306, 45) (40077, 45)\n",
            "(160306, 41) (40077, 41)\n"
          ]
        }
      ]
    },
    {
      "cell_type": "markdown",
      "source": [
        "- LSTM"
      ],
      "metadata": {
        "id": "EAOnbEnSQE_M"
      }
    },
    {
      "cell_type": "code",
      "source": [
        "model = models.Sequential()\n",
        "model.add(layers.Embedding(vocab_size, 128))\n",
        "model.add(layers.LSTM(100))\n",
        "model.add(layers.Dense(41, activation='softmax'))\n",
        "\n",
        "model.summary()"
      ],
      "metadata": {
        "colab": {
          "base_uri": "https://localhost:8080/"
        },
        "id": "oRWfo9SXIwE_",
        "outputId": "f6f81ace-cd58-4b50-ad17-6c6f22e92279"
      },
      "execution_count": 115,
      "outputs": [
        {
          "output_type": "stream",
          "name": "stdout",
          "text": [
            "Model: \"sequential_18\"\n",
            "_________________________________________________________________\n",
            " Layer (type)                Output Shape              Param #   \n",
            "=================================================================\n",
            " embedding_17 (Embedding)    (None, None, 128)         28692480  \n",
            "                                                                 \n",
            " lstm_16 (LSTM)              (None, 100)               91600     \n",
            "                                                                 \n",
            " dense_25 (Dense)            (None, 41)                4141      \n",
            "                                                                 \n",
            "=================================================================\n",
            "Total params: 28,788,221\n",
            "Trainable params: 28,788,221\n",
            "Non-trainable params: 0\n",
            "_________________________________________________________________\n"
          ]
        }
      ]
    },
    {
      "cell_type": "code",
      "source": [
        "model.compile(optimizer='adam', loss='categorical_crossentropy', metrics=['accuracy'])"
      ],
      "metadata": {
        "id": "rTmxrMnPIwHm"
      },
      "execution_count": 116,
      "outputs": []
    },
    {
      "cell_type": "code",
      "source": [
        "hist = model.fit(\n",
        "    x_train,\n",
        "    y_train,\n",
        "    epochs=5,\n",
        "    batch_size=256,\n",
        "    validation_split=0.15\n",
        ")"
      ],
      "metadata": {
        "colab": {
          "base_uri": "https://localhost:8080/"
        },
        "id": "PRSDgqnsJ29s",
        "outputId": "cb3f4f18-a2d2-41af-80d7-daffdb4219b8"
      },
      "execution_count": 117,
      "outputs": [
        {
          "output_type": "stream",
          "name": "stdout",
          "text": [
            "Epoch 1/5\n",
            "533/533 [==============================] - 15s 24ms/step - loss: 2.7984 - accuracy: 0.2733 - val_loss: 2.3384 - val_accuracy: 0.3705\n",
            "Epoch 2/5\n",
            "533/533 [==============================] - 12s 23ms/step - loss: 1.9526 - accuracy: 0.4707 - val_loss: 1.9506 - val_accuracy: 0.4878\n",
            "Epoch 3/5\n",
            "533/533 [==============================] - 13s 24ms/step - loss: 1.3852 - accuracy: 0.6177 - val_loss: 1.8587 - val_accuracy: 0.5175\n",
            "Epoch 4/5\n",
            "533/533 [==============================] - 12s 23ms/step - loss: 0.9919 - accuracy: 0.7228 - val_loss: 1.9538 - val_accuracy: 0.5158\n",
            "Epoch 5/5\n",
            "533/533 [==============================] - 12s 23ms/step - loss: 0.7058 - accuracy: 0.8038 - val_loss: 2.0962 - val_accuracy: 0.5141\n"
          ]
        }
      ]
    },
    {
      "cell_type": "code",
      "source": [
        "model.evaluate(x_test, y_test)"
      ],
      "metadata": {
        "colab": {
          "base_uri": "https://localhost:8080/"
        },
        "id": "XpWC7tNkJ3Hg",
        "outputId": "5466aa8d-c145-4741-8214-e85e76daddd4"
      },
      "execution_count": 118,
      "outputs": [
        {
          "output_type": "stream",
          "name": "stdout",
          "text": [
            "1253/1253 [==============================] - 5s 4ms/step - loss: 2.0724 - accuracy: 0.5217\n"
          ]
        },
        {
          "output_type": "execute_result",
          "data": {
            "text/plain": [
              "[2.0724403858184814, 0.5217456221580505]"
            ]
          },
          "metadata": {},
          "execution_count": 118
        }
      ]
    },
    {
      "cell_type": "markdown",
      "source": [
        "- GRU"
      ],
      "metadata": {
        "id": "tbnBew_0QHc6"
      }
    },
    {
      "cell_type": "code",
      "source": [
        "model = models.Sequential()\n",
        "#Non-trainable embeddidng layer\n",
        "model.add(layers.Embedding(vocab_size, 128, trainable=False))\n",
        "#LSTM \n",
        "model.add(GRU(64))\n",
        "model.add(Flatten())\n",
        "model.add(Dense(41, activation='softmax'))\n",
        "model.summary()"
      ],
      "metadata": {
        "colab": {
          "base_uri": "https://localhost:8080/"
        },
        "id": "ITVWnB3IIwKM",
        "outputId": "28162755-4163-4390-fc63-15e6604eb71a"
      },
      "execution_count": 94,
      "outputs": [
        {
          "output_type": "stream",
          "name": "stdout",
          "text": [
            "Model: \"sequential_15\"\n",
            "_________________________________________________________________\n",
            " Layer (type)                Output Shape              Param #   \n",
            "=================================================================\n",
            " embedding_14 (Embedding)    (None, None, 128)         28692480  \n",
            "                                                                 \n",
            " gru_3 (GRU)                 (None, 64)                37248     \n",
            "                                                                 \n",
            " flatten_3 (Flatten)         (None, 64)                0         \n",
            "                                                                 \n",
            " dense_20 (Dense)            (None, 41)                2665      \n",
            "                                                                 \n",
            "=================================================================\n",
            "Total params: 28,732,393\n",
            "Trainable params: 39,913\n",
            "Non-trainable params: 28,692,480\n",
            "_________________________________________________________________\n"
          ]
        }
      ]
    },
    {
      "cell_type": "code",
      "source": [
        "model.compile(optimizer='adam', loss='categorical_crossentropy', metrics=['accuracy'])\n",
        "hist = model.fit(\n",
        "    x_train,\n",
        "    y_train,\n",
        "    epochs=5,\n",
        "    batch_size=256,\n",
        "    validation_split=0.15\n",
        ")"
      ],
      "metadata": {
        "colab": {
          "base_uri": "https://localhost:8080/"
        },
        "id": "NP2f8tYFIwNh",
        "outputId": "ef2a6eb4-42ed-4a89-d7ab-20026f380f9b"
      },
      "execution_count": 95,
      "outputs": [
        {
          "output_type": "stream",
          "name": "stdout",
          "text": [
            "Epoch 1/5\n",
            "533/533 [==============================] - 6s 8ms/step - loss: 3.2828 - accuracy: 0.1649 - val_loss: 3.2210 - val_accuracy: 0.1728\n",
            "Epoch 2/5\n",
            "533/533 [==============================] - 3s 6ms/step - loss: 3.1595 - accuracy: 0.1802 - val_loss: 3.1348 - val_accuracy: 0.1881\n",
            "Epoch 3/5\n",
            "533/533 [==============================] - 3s 6ms/step - loss: 3.1057 - accuracy: 0.1948 - val_loss: 3.0834 - val_accuracy: 0.1952\n",
            "Epoch 4/5\n",
            "533/533 [==============================] - 3s 6ms/step - loss: 3.0352 - accuracy: 0.2149 - val_loss: 2.9984 - val_accuracy: 0.2255\n",
            "Epoch 5/5\n",
            "533/533 [==============================] - 3s 6ms/step - loss: 2.9653 - accuracy: 0.2323 - val_loss: 2.9738 - val_accuracy: 0.2279\n"
          ]
        }
      ]
    },
    {
      "cell_type": "code",
      "source": [
        "model.evaluate(x_test, y_test)"
      ],
      "metadata": {
        "colab": {
          "base_uri": "https://localhost:8080/"
        },
        "id": "tZVOepNEPXMs",
        "outputId": "09756132-2fe5-40bb-941f-ef95fff30a7c"
      },
      "execution_count": 96,
      "outputs": [
        {
          "output_type": "stream",
          "name": "stdout",
          "text": [
            "1253/1253 [==============================] - 5s 4ms/step - loss: 2.9728 - accuracy: 0.2270\n"
          ]
        },
        {
          "output_type": "execute_result",
          "data": {
            "text/plain": [
              "[2.9727895259857178, 0.2269631028175354]"
            ]
          },
          "metadata": {},
          "execution_count": 96
        }
      ]
    },
    {
      "cell_type": "code",
      "source": [
        ""
      ],
      "metadata": {
        "id": "whVp8v0QPXPQ"
      },
      "execution_count": null,
      "outputs": []
    },
    {
      "cell_type": "markdown",
      "source": [
        "- bidirectional"
      ],
      "metadata": {
        "id": "1ZPMvDefSU4l"
      }
    },
    {
      "cell_type": "code",
      "source": [
        "model = models.Sequential()\n",
        "#Non-trainable embeddidng layer\n",
        "model.add(layers.Embedding(vocab_size, 128, trainable=False))\n",
        "model.add(Dense(128, activation = 'relu'))\n",
        "model.add(Bidirectional(LSTM(200, return_sequences=True)))\n",
        "model.add(Dropout(0.4))\n",
        "model.add(Dense(64, activation = 'relu'))\n",
        "model.add(Bidirectional(LSTM(100)))\n",
        "model.add(Dense(41, activation = 'softmax'))\n",
        "\n",
        "model.summary()"
      ],
      "metadata": {
        "colab": {
          "base_uri": "https://localhost:8080/"
        },
        "id": "tJM8k5rZPXR8",
        "outputId": "4f03721e-1eba-4174-f9e9-fd593a73ce42"
      },
      "execution_count": 97,
      "outputs": [
        {
          "output_type": "stream",
          "name": "stdout",
          "text": [
            "Model: \"sequential_16\"\n",
            "_________________________________________________________________\n",
            " Layer (type)                Output Shape              Param #   \n",
            "=================================================================\n",
            " embedding_15 (Embedding)    (None, None, 128)         28692480  \n",
            "                                                                 \n",
            " dense_21 (Dense)            (None, None, 128)         16512     \n",
            "                                                                 \n",
            " bidirectional_6 (Bidirectio  (None, None, 400)        526400    \n",
            " nal)                                                            \n",
            "                                                                 \n",
            " dropout_3 (Dropout)         (None, None, 400)         0         \n",
            "                                                                 \n",
            " dense_22 (Dense)            (None, None, 64)          25664     \n",
            "                                                                 \n",
            " bidirectional_7 (Bidirectio  (None, 200)              132000    \n",
            " nal)                                                            \n",
            "                                                                 \n",
            " dense_23 (Dense)            (None, 41)                8241      \n",
            "                                                                 \n",
            "=================================================================\n",
            "Total params: 29,401,297\n",
            "Trainable params: 708,817\n",
            "Non-trainable params: 28,692,480\n",
            "_________________________________________________________________\n"
          ]
        }
      ]
    },
    {
      "cell_type": "code",
      "source": [
        "model.compile(optimizer='adam', loss='categorical_crossentropy', metrics=['accuracy'])\n",
        "hist = model.fit(\n",
        "    x_train,\n",
        "    y_train,\n",
        "    epochs=5,\n",
        "    batch_size=256,\n",
        "    validation_split=0.15\n",
        ")"
      ],
      "metadata": {
        "colab": {
          "base_uri": "https://localhost:8080/"
        },
        "id": "UI6w7jzTPXUj",
        "outputId": "d17108ca-8c98-4871-ac12-4d74b75a9d39"
      },
      "execution_count": 98,
      "outputs": [
        {
          "output_type": "stream",
          "name": "stdout",
          "text": [
            "Epoch 1/5\n",
            "533/533 [==============================] - 27s 40ms/step - loss: 3.0429 - accuracy: 0.2148 - val_loss: 2.8163 - val_accuracy: 0.2729\n",
            "Epoch 2/5\n",
            "533/533 [==============================] - 19s 36ms/step - loss: 2.6570 - accuracy: 0.3026 - val_loss: 2.5898 - val_accuracy: 0.3228\n",
            "Epoch 3/5\n",
            "533/533 [==============================] - 18s 34ms/step - loss: 2.4640 - accuracy: 0.3527 - val_loss: 2.4025 - val_accuracy: 0.3685\n",
            "Epoch 4/5\n",
            "533/533 [==============================] - 18s 34ms/step - loss: 2.2846 - accuracy: 0.3998 - val_loss: 2.2892 - val_accuracy: 0.3998\n",
            "Epoch 5/5\n",
            "533/533 [==============================] - 19s 36ms/step - loss: 2.1563 - accuracy: 0.4337 - val_loss: 2.1596 - val_accuracy: 0.4364\n"
          ]
        }
      ]
    },
    {
      "cell_type": "code",
      "source": [
        "model.evaluate(x_test, y_test)\n"
      ],
      "metadata": {
        "colab": {
          "base_uri": "https://localhost:8080/"
        },
        "id": "zC3Y4T5SPXW1",
        "outputId": "a1fb8806-71c0-4c05-d14c-8df9381b5ba7"
      },
      "execution_count": 99,
      "outputs": [
        {
          "output_type": "stream",
          "name": "stdout",
          "text": [
            "1253/1253 [==============================] - 11s 9ms/step - loss: 2.1486 - accuracy: 0.4409\n"
          ]
        },
        {
          "output_type": "execute_result",
          "data": {
            "text/plain": [
              "[2.1485533714294434, 0.4408513605594635]"
            ]
          },
          "metadata": {},
          "execution_count": 99
        }
      ]
    },
    {
      "cell_type": "markdown",
      "source": [
        "## Enhancement"
      ],
      "metadata": {
        "id": "f0IL7Mto5_V9"
      }
    },
    {
      "cell_type": "markdown",
      "source": [
        "- word2vec"
      ],
      "metadata": {
        "id": "N0X33D8g1AHp"
      }
    },
    {
      "cell_type": "code",
      "source": [
        "text = df['text_cleaned']"
      ],
      "metadata": {
        "id": "UywIQtuD1L3k"
      },
      "execution_count": 100,
      "outputs": []
    },
    {
      "cell_type": "code",
      "source": [
        "import gensim\n",
        "\n",
        "EMBEDDING_DIM = 100\n",
        "w2v_model = gensim.models.Word2Vec(sentences= text , size=EMBEDDING_DIM, window=1, min_count=1)\n"
      ],
      "metadata": {
        "id": "3_pjm4dv0_W7"
      },
      "execution_count": 101,
      "outputs": []
    },
    {
      "cell_type": "code",
      "source": [
        "len(w2v_model.wv.vocab)\n",
        "w2v_model.wv.vocab"
      ],
      "metadata": {
        "colab": {
          "base_uri": "https://localhost:8080/"
        },
        "id": "blRd6Veu0_aW",
        "outputId": "9b04989b-141b-4c7b-93d2-2689524d48fa"
      },
      "execution_count": 108,
      "outputs": [
        {
          "output_type": "execute_result",
          "data": {
            "text/plain": [
              "{'mass': <gensim.models.keyedvectors.Vocab at 0x7fac4c89eb10>,\n",
              " 'shooting': <gensim.models.keyedvectors.Vocab at 0x7fac4c1dae50>,\n",
              " 'texas': <gensim.models.keyedvectors.Vocab at 0x7fac470f0ed0>,\n",
              " 'last': <gensim.models.keyedvectors.Vocab at 0x7fac470f0c50>,\n",
              " 'week,': <gensim.models.keyedvectors.Vocab at 0x7fac4c0be8d0>,\n",
              " 'tv': <gensim.models.keyedvectors.Vocab at 0x7fac4729a590>,\n",
              " 'left': <gensim.models.keyedvectors.Vocab at 0x7fac4729a910>,\n",
              " 'husband.': <gensim.models.keyedvectors.Vocab at 0x7fac4729abd0>,\n",
              " 'killed': <gensim.models.keyedvectors.Vocab at 0x7fac4715dc50>,\n",
              " 'children.': <gensim.models.keyedvectors.Vocab at 0x7fac4703b4d0>,\n",
              " 'another': <gensim.models.keyedvectors.Vocab at 0x7fac4729a8d0>,\n",
              " 'day': <gensim.models.keyedvectors.Vocab at 0x7fac4729a6d0>,\n",
              " 'america.': <gensim.models.keyedvectors.Vocab at 0x7fac4729a190>,\n",
              " 'smith': <gensim.models.keyedvectors.Vocab at 0x7fac472f2b10>,\n",
              " 'join': <gensim.models.keyedvectors.Vocab at 0x7fac47038c50>,\n",
              " 'diplo': <gensim.models.keyedvectors.Vocab at 0x7fac470382d0>,\n",
              " 'nicky': <gensim.models.keyedvectors.Vocab at 0x7fac47038050>,\n",
              " 'jam': <gensim.models.keyedvectors.Vocab at 0x7fac47038e90>,\n",
              " 'world': <gensim.models.keyedvectors.Vocab at 0x7fac47038cd0>,\n",
              " \"cup's\": <gensim.models.keyedvectors.Vocab at 0x7fac47038090>,\n",
              " 'official': <gensim.models.keyedvectors.Vocab at 0x7fac470380d0>,\n",
              " 'song': <gensim.models.keyedvectors.Vocab at 0x7fac470388d0>,\n",
              " 'course': <gensim.models.keyedvectors.Vocab at 0x7fac47038a90>,\n",
              " 'song.': <gensim.models.keyedvectors.Vocab at 0x7fac47038d90>,\n",
              " 'hugh': <gensim.models.keyedvectors.Vocab at 0x7fac47038950>,\n",
              " 'grant': <gensim.models.keyedvectors.Vocab at 0x7fac470386d0>,\n",
              " 'marries': <gensim.models.keyedvectors.Vocab at 0x7fac470381d0>,\n",
              " 'first': <gensim.models.keyedvectors.Vocab at 0x7fac47038bd0>,\n",
              " 'time': <gensim.models.keyedvectors.Vocab at 0x7fac47038290>,\n",
              " 'age': <gensim.models.keyedvectors.Vocab at 0x7fac47038490>,\n",
              " 'actor': <gensim.models.keyedvectors.Vocab at 0x7fac470384d0>,\n",
              " 'longtime': <gensim.models.keyedvectors.Vocab at 0x7fac47038dd0>,\n",
              " 'girlfriend': <gensim.models.keyedvectors.Vocab at 0x7fac47038350>,\n",
              " 'anna': <gensim.models.keyedvectors.Vocab at 0x7fac47038510>,\n",
              " 'eberstein': <gensim.models.keyedvectors.Vocab at 0x7fac47038d10>,\n",
              " 'tied': <gensim.models.keyedvectors.Vocab at 0x7fac47038750>,\n",
              " 'knot': <gensim.models.keyedvectors.Vocab at 0x7fac47038fd0>,\n",
              " 'civil': <gensim.models.keyedvectors.Vocab at 0x7fac47038f10>,\n",
              " 'ceremony.': <gensim.models.keyedvectors.Vocab at 0x7fac470389d0>,\n",
              " 'jim': <gensim.models.keyedvectors.Vocab at 0x7fac47038110>,\n",
              " 'carrey': <gensim.models.keyedvectors.Vocab at 0x7fac47089f10>,\n",
              " 'blast': <gensim.models.keyedvectors.Vocab at 0x7fac47089490>,\n",
              " \"'castrato'\": <gensim.models.keyedvectors.Vocab at 0x7fac47089890>,\n",
              " 'adam': <gensim.models.keyedvectors.Vocab at 0x7fac47089810>,\n",
              " 'schiff': <gensim.models.keyedvectors.Vocab at 0x7fac47089110>,\n",
              " 'democrat': <gensim.models.keyedvectors.Vocab at 0x7fac47089d10>,\n",
              " 'new': <gensim.models.keyedvectors.Vocab at 0x7fac47089710>,\n",
              " 'artwork': <gensim.models.keyedvectors.Vocab at 0x7fac47089b90>,\n",
              " 'give': <gensim.models.keyedvectors.Vocab at 0x7fac47089c10>,\n",
              " 'dems': <gensim.models.keyedvectors.Vocab at 0x7fac47089c90>,\n",
              " 'ass-kicking': <gensim.models.keyedvectors.Vocab at 0x7fac47089f90>,\n",
              " 'fighting': <gensim.models.keyedvectors.Vocab at 0x7fac47089650>,\n",
              " 'hard': <gensim.models.keyedvectors.Vocab at 0x7fac47089990>,\n",
              " 'enough': <gensim.models.keyedvectors.Vocab at 0x7fac47089a10>,\n",
              " 'donald': <gensim.models.keyedvectors.Vocab at 0x7fac47089e10>,\n",
              " 'trump.': <gensim.models.keyedvectors.Vocab at 0x7fac47089390>,\n",
              " 'julianna': <gensim.models.keyedvectors.Vocab at 0x7fac470892d0>,\n",
              " 'margulies': <gensim.models.keyedvectors.Vocab at 0x7fac47089790>,\n",
              " 'us': <gensim.models.keyedvectors.Vocab at 0x7fac470896d0>,\n",
              " 'trump': <gensim.models.keyedvectors.Vocab at 0x7fac47089ed0>,\n",
              " 'poop': <gensim.models.keyedvectors.Vocab at 0x7fac47089610>,\n",
              " 'bag': <gensim.models.keyedvectors.Vocab at 0x7fac47089690>,\n",
              " 'pick': <gensim.models.keyedvectors.Vocab at 0x7fac47089fd0>,\n",
              " 'dog': <gensim.models.keyedvectors.Vocab at 0x7fac47089510>,\n",
              " '\"dietland\"': <gensim.models.keyedvectors.Vocab at 0x7fac47089250>,\n",
              " 'actress': <gensim.models.keyedvectors.Vocab at 0x7fac470890d0>,\n",
              " 'said': <gensim.models.keyedvectors.Vocab at 0x7fac47089150>,\n",
              " 'using': <gensim.models.keyedvectors.Vocab at 0x7fac47089310>,\n",
              " '\"really': <gensim.models.keyedvectors.Vocab at 0x7fac47160110>,\n",
              " 'cathartic,': <gensim.models.keyedvectors.Vocab at 0x7fac47160690>,\n",
              " 'therapeutic': <gensim.models.keyedvectors.Vocab at 0x7fac45d3bed0>,\n",
              " 'moment.\"': <gensim.models.keyedvectors.Vocab at 0x7fac45d3be90>,\n",
              " 'morgan': <gensim.models.keyedvectors.Vocab at 0x7fac45d3bf50>,\n",
              " 'freeman': <gensim.models.keyedvectors.Vocab at 0x7fac45d3b750>,\n",
              " \"'devastated'\": <gensim.models.keyedvectors.Vocab at 0x7fac45d3b0d0>,\n",
              " 'sexual': <gensim.models.keyedvectors.Vocab at 0x7fac45d3bc90>,\n",
              " 'harassment': <gensim.models.keyedvectors.Vocab at 0x7fac45d3bb50>,\n",
              " 'claim': <gensim.models.keyedvectors.Vocab at 0x7fac45d3b150>,\n",
              " 'could': <gensim.models.keyedvectors.Vocab at 0x7fac45d3b1d0>,\n",
              " 'undermine': <gensim.models.keyedvectors.Vocab at 0x7fac45d3b110>,\n",
              " 'legacy': <gensim.models.keyedvectors.Vocab at 0x7fac45d3b590>,\n",
              " '\"it': <gensim.models.keyedvectors.Vocab at 0x7fac45d3bad0>,\n",
              " 'right': <gensim.models.keyedvectors.Vocab at 0x7fac45d3bb10>,\n",
              " 'equate': <gensim.models.keyedvectors.Vocab at 0x7fac45d3b9d0>,\n",
              " 'horrific': <gensim.models.keyedvectors.Vocab at 0x7fac45d3be10>,\n",
              " 'incident': <gensim.models.keyedvectors.Vocab at 0x7fac45d3b250>,\n",
              " 'assault': <gensim.models.keyedvectors.Vocab at 0x7fac45d3b510>,\n",
              " 'misplaced': <gensim.models.keyedvectors.Vocab at 0x7fac45d3b090>,\n",
              " 'compliment': <gensim.models.keyedvectors.Vocab at 0x7fac45d3bd50>,\n",
              " 'humor,\"': <gensim.models.keyedvectors.Vocab at 0x7fac45d3bdd0>,\n",
              " 'statement.': <gensim.models.keyedvectors.Vocab at 0x7fac45d3b810>,\n",
              " \"lovin'\": <gensim.models.keyedvectors.Vocab at 0x7fac45d3b190>,\n",
              " \"mcdonald's\": <gensim.models.keyedvectors.Vocab at 0x7fac45d3b950>,\n",
              " 'jingle': <gensim.models.keyedvectors.Vocab at 0x7fac45d3b710>,\n",
              " \"'tonight\": <gensim.models.keyedvectors.Vocab at 0x7fac45d3b890>,\n",
              " \"show'\": <gensim.models.keyedvectors.Vocab at 0x7fac45d3bbd0>,\n",
              " 'bit': <gensim.models.keyedvectors.Vocab at 0x7fac45d3bf90>,\n",
              " 'catchy,': <gensim.models.keyedvectors.Vocab at 0x7fac45d3b910>,\n",
              " 'right.': <gensim.models.keyedvectors.Vocab at 0x7fac45d3b7d0>,\n",
              " 'watch': <gensim.models.keyedvectors.Vocab at 0x7fac45d3ba90>,\n",
              " 'amazon': <gensim.models.keyedvectors.Vocab at 0x7fac45d3bc10>,\n",
              " 'prime': <gensim.models.keyedvectors.Vocab at 0x7fac4c5f1910>,\n",
              " 'that’s': <gensim.models.keyedvectors.Vocab at 0x7fac42935390>,\n",
              " 'week': <gensim.models.keyedvectors.Vocab at 0x7fac42935690>,\n",
              " \"there's\": <gensim.models.keyedvectors.Vocab at 0x7fac429351d0>,\n",
              " 'great': <gensim.models.keyedvectors.Vocab at 0x7fac429352d0>,\n",
              " 'mini-series': <gensim.models.keyedvectors.Vocab at 0x7fac429357d0>,\n",
              " 'joining': <gensim.models.keyedvectors.Vocab at 0x7fac42935f50>,\n",
              " 'week.': <gensim.models.keyedvectors.Vocab at 0x7fac4cb73d90>,\n",
              " 'mike': <gensim.models.keyedvectors.Vocab at 0x7fac4c4fc2d0>,\n",
              " 'myers': <gensim.models.keyedvectors.Vocab at 0x7fac47065f50>,\n",
              " 'reveals': <gensim.models.keyedvectors.Vocab at 0x7fac47065e90>,\n",
              " \"he'd\": <gensim.models.keyedvectors.Vocab at 0x7fac4c4e10d0>,\n",
              " \"'like\": <gensim.models.keyedvectors.Vocab at 0x7fac4729a950>,\n",
              " \"to'\": <gensim.models.keyedvectors.Vocab at 0x7fac4729ae50>,\n",
              " 'fourth': <gensim.models.keyedvectors.Vocab at 0x7fac4729aa50>,\n",
              " 'austin': <gensim.models.keyedvectors.Vocab at 0x7fac4729ae10>,\n",
              " 'power': <gensim.models.keyedvectors.Vocab at 0x7fac4729a9d0>,\n",
              " 'film': <gensim.models.keyedvectors.Vocab at 0x7fac4729a050>,\n",
              " \"myer's\": <gensim.models.keyedvectors.Vocab at 0x7fac4729ac90>,\n",
              " 'kid': <gensim.models.keyedvectors.Vocab at 0x7fac4729a1d0>,\n",
              " 'may': <gensim.models.keyedvectors.Vocab at 0x7fac4729a290>,\n",
              " 'pushing': <gensim.models.keyedvectors.Vocab at 0x7fac4729a110>,\n",
              " '\"powers\"': <gensim.models.keyedvectors.Vocab at 0x7fac4729add0>,\n",
              " 'anyone.': <gensim.models.keyedvectors.Vocab at 0x7fac4729a550>,\n",
              " 'hulu': <gensim.models.keyedvectors.Vocab at 0x7fac4729ab50>,\n",
              " 'getting': <gensim.models.keyedvectors.Vocab at 0x7fac4729a490>,\n",
              " 'recent': <gensim.models.keyedvectors.Vocab at 0x7fac4729aa90>,\n",
              " 'academy': <gensim.models.keyedvectors.Vocab at 0x7fac4729ad50>,\n",
              " 'award-winning': <gensim.models.keyedvectors.Vocab at 0x7fac4729ad10>,\n",
              " 'movie.': <gensim.models.keyedvectors.Vocab at 0x7fac4729afd0>,\n",
              " 'justin': <gensim.models.keyedvectors.Vocab at 0x7fac4c10ea90>,\n",
              " 'timberlake': <gensim.models.keyedvectors.Vocab at 0x7fac4717f090>,\n",
              " 'visit': <gensim.models.keyedvectors.Vocab at 0x7fac4c624d50>,\n",
              " 'school': <gensim.models.keyedvectors.Vocab at 0x7fac4c3a81d0>,\n",
              " 'victim': <gensim.models.keyedvectors.Vocab at 0x7fac4c0840d0>,\n",
              " 'pop': <gensim.models.keyedvectors.Vocab at 0x7fac4c0846d0>,\n",
              " 'star': <gensim.models.keyedvectors.Vocab at 0x7fac4c500d90>,\n",
              " 'also': <gensim.models.keyedvectors.Vocab at 0x7fac4c500790>,\n",
              " 'wore': <gensim.models.keyedvectors.Vocab at 0x7fac4c500250>,\n",
              " '\"santa': <gensim.models.keyedvectors.Vocab at 0x7fac4c376a10>,\n",
              " 'fe': <gensim.models.keyedvectors.Vocab at 0x7fac46ff56d0>,\n",
              " 'strong\"': <gensim.models.keyedvectors.Vocab at 0x7fac4c295c10>,\n",
              " 'shirt': <gensim.models.keyedvectors.Vocab at 0x7fac4c1cead0>,\n",
              " 'show': <gensim.models.keyedvectors.Vocab at 0x7fac4c2b8ed0>,\n",
              " 'houston.': <gensim.models.keyedvectors.Vocab at 0x7fac4c11db50>,\n",
              " 'south': <gensim.models.keyedvectors.Vocab at 0x7fac4c11d510>,\n",
              " 'korean': <gensim.models.keyedvectors.Vocab at 0x7fac4c11d410>,\n",
              " 'president': <gensim.models.keyedvectors.Vocab at 0x7fac4c11d810>,\n",
              " 'meet': <gensim.models.keyedvectors.Vocab at 0x7fac4c11d150>,\n",
              " 'north': <gensim.models.keyedvectors.Vocab at 0x7fac4c11dc50>,\n",
              " \"korea's\": <gensim.models.keyedvectors.Vocab at 0x7fac4c11d690>,\n",
              " 'kim': <gensim.models.keyedvectors.Vocab at 0x7fac4c11d1d0>,\n",
              " 'jong': <gensim.models.keyedvectors.Vocab at 0x7fac4c11d7d0>,\n",
              " 'un': <gensim.models.keyedvectors.Vocab at 0x7fac4c11d090>,\n",
              " 'talk': <gensim.models.keyedvectors.Vocab at 0x7fac4c11d850>,\n",
              " 'summit': <gensim.models.keyedvectors.Vocab at 0x7fac4c11d390>,\n",
              " 'two': <gensim.models.keyedvectors.Vocab at 0x7fac4c11ddd0>,\n",
              " 'met': <gensim.models.keyedvectors.Vocab at 0x7fac4c11dc10>,\n",
              " 'pave': <gensim.models.keyedvectors.Vocab at 0x7fac4c11d710>,\n",
              " 'way': <gensim.models.keyedvectors.Vocab at 0x7fac4c51cb50>,\n",
              " 'u.s.': <gensim.models.keyedvectors.Vocab at 0x7fac4c51c350>,\n",
              " 'life': <gensim.models.keyedvectors.Vocab at 0x7fac4c51c910>,\n",
              " 'risk,': <gensim.models.keyedvectors.Vocab at 0x7fac4c51c6d0>,\n",
              " 'remote': <gensim.models.keyedvectors.Vocab at 0x7fac4c51ce50>,\n",
              " 'oyster-growing': <gensim.models.keyedvectors.Vocab at 0x7fac4c51c3d0>,\n",
              " 'region': <gensim.models.keyedvectors.Vocab at 0x7fac4c51cdd0>,\n",
              " 'called': <gensim.models.keyedvectors.Vocab at 0x7fac4c51cc90>,\n",
              " 'robot': <gensim.models.keyedvectors.Vocab at 0x7fac4707ac50>,\n",
              " 'revolution': <gensim.models.keyedvectors.Vocab at 0x7fac4707ae10>,\n",
              " 'coming': <gensim.models.keyedvectors.Vocab at 0x7fac4707a050>,\n",
              " 'rural': <gensim.models.keyedvectors.Vocab at 0x7fac4707a750>,\n",
              " 'brunswick.': <gensim.models.keyedvectors.Vocab at 0x7fac4707a8d0>,\n",
              " \"trump's\": <gensim.models.keyedvectors.Vocab at 0x7fac4707ad50>,\n",
              " 'crackdown': <gensim.models.keyedvectors.Vocab at 0x7fac4707a0d0>,\n",
              " 'immigrant': <gensim.models.keyedvectors.Vocab at 0x7fac4707a190>,\n",
              " 'parent': <gensim.models.keyedvectors.Vocab at 0x7fac4707a910>,\n",
              " 'put': <gensim.models.keyedvectors.Vocab at 0x7fac4707a6d0>,\n",
              " 'already': <gensim.models.keyedvectors.Vocab at 0x7fac4707aa90>,\n",
              " 'strained': <gensim.models.keyedvectors.Vocab at 0x7fac4707a690>,\n",
              " 'system': <gensim.models.keyedvectors.Vocab at 0x7fac4707a490>,\n",
              " 'month': <gensim.models.keyedvectors.Vocab at 0x7fac4707a990>,\n",
              " 'health': <gensim.models.keyedvectors.Vocab at 0x7fac4707a410>,\n",
              " 'human': <gensim.models.keyedvectors.Vocab at 0x7fac4707a7d0>,\n",
              " 'service': <gensim.models.keyedvectors.Vocab at 0x7fac4707a790>,\n",
              " 'revealed': <gensim.models.keyedvectors.Vocab at 0x7fac4707abd0>,\n",
              " 'government': <gensim.models.keyedvectors.Vocab at 0x7fac4707a150>,\n",
              " 'unable': <gensim.models.keyedvectors.Vocab at 0x7fac4707a5d0>,\n",
              " 'locate': <gensim.models.keyedvectors.Vocab at 0x7fac4707ad10>,\n",
              " 'nearly': <gensim.models.keyedvectors.Vocab at 0x7fac4707a2d0>,\n",
              " ',': <gensim.models.keyedvectors.Vocab at 0x7fac4707ac90>,\n",
              " 'child': <gensim.models.keyedvectors.Vocab at 0x7fac4707acd0>,\n",
              " 'released': <gensim.models.keyedvectors.Vocab at 0x7fac4707af50>,\n",
              " 'custody.': <gensim.models.keyedvectors.Vocab at 0x7fac4c3dab10>,\n",
              " \"'trump's\": <gensim.models.keyedvectors.Vocab at 0x7fac4c3da7d0>,\n",
              " 'son': <gensim.models.keyedvectors.Vocab at 0x7fac47188c10>,\n",
              " \"concerned':\": <gensim.models.keyedvectors.Vocab at 0x7fac47188510>,\n",
              " 'fbi': <gensim.models.keyedvectors.Vocab at 0x7fac47188650>,\n",
              " 'obtained': <gensim.models.keyedvectors.Vocab at 0x7fac47188490>,\n",
              " 'wiretap': <gensim.models.keyedvectors.Vocab at 0x7fac47188a50>,\n",
              " 'putin': <gensim.models.keyedvectors.Vocab at 0x7fac47188b50>,\n",
              " 'ally': <gensim.models.keyedvectors.Vocab at 0x7fac471885d0>,\n",
              " 'jr.': <gensim.models.keyedvectors.Vocab at 0x7fac47188f10>,\n",
              " 'feature': <gensim.models.keyedvectors.Vocab at 0x7fac47188750>,\n",
              " 'conversation': <gensim.models.keyedvectors.Vocab at 0x7fac47188990>,\n",
              " 'alexander': <gensim.models.keyedvectors.Vocab at 0x7fac47188e50>,\n",
              " 'torshin': <gensim.models.keyedvectors.Vocab at 0x7fac47188210>,\n",
              " 'romanov,': <gensim.models.keyedvectors.Vocab at 0x7fac47188d50>,\n",
              " 'convicted': <gensim.models.keyedvectors.Vocab at 0x7fac47188710>,\n",
              " 'russian': <gensim.models.keyedvectors.Vocab at 0x7fac47188f90>,\n",
              " 'money': <gensim.models.keyedvectors.Vocab at 0x7fac47188b10>,\n",
              " 'launderer.': <gensim.models.keyedvectors.Vocab at 0x7fac47188290>,\n",
              " 'edward': <gensim.models.keyedvectors.Vocab at 0x7fac471880d0>,\n",
              " 'snowden:': <gensim.models.keyedvectors.Vocab at 0x7fac47188250>,\n",
              " 'one': <gensim.models.keyedvectors.Vocab at 0x7fac47188450>,\n",
              " 'love': <gensim.models.keyedvectors.Vocab at 0x7fac47188850>,\n",
              " 'vladimir': <gensim.models.keyedvectors.Vocab at 0x7fac47188e90>,\n",
              " 'count': <gensim.models.keyedvectors.Vocab at 0x7fac47188d10>,\n",
              " 'robert': <gensim.models.keyedvectors.Vocab at 0x7fac47188a90>,\n",
              " 'mueller': <gensim.models.keyedvectors.Vocab at 0x7fac47188bd0>,\n",
              " 'nail': <gensim.models.keyedvectors.Vocab at 0x7fac47188150>,\n",
              " 'him,': <gensim.models.keyedvectors.Vocab at 0x7fac47188e10>,\n",
              " 'nsa': <gensim.models.keyedvectors.Vocab at 0x7fac47188390>,\n",
              " 'whistleblower': <gensim.models.keyedvectors.Vocab at 0x7fac47188f50>,\n",
              " 'warns.': <gensim.models.keyedvectors.Vocab at 0x7fac47188910>,\n",
              " 'booyah:': <gensim.models.keyedvectors.Vocab at 0x7fac47188410>,\n",
              " 'obama': <gensim.models.keyedvectors.Vocab at 0x7fac471884d0>,\n",
              " 'photographer': <gensim.models.keyedvectors.Vocab at 0x7fac47188ed0>,\n",
              " 'hilariously': <gensim.models.keyedvectors.Vocab at 0x7fac47188090>,\n",
              " 'troll': <gensim.models.keyedvectors.Vocab at 0x7fac47188950>,\n",
              " \"'spy'\": <gensim.models.keyedvectors.Vocab at 0x7fac47188d90>,\n",
              " 'peeping': <gensim.models.keyedvectors.Vocab at 0x7fac47188ad0>,\n",
              " 'minute.': <gensim.models.keyedvectors.Vocab at 0x7fac471e2090>,\n",
              " 'ireland': <gensim.models.keyedvectors.Vocab at 0x7fac471e2650>,\n",
              " 'vote': <gensim.models.keyedvectors.Vocab at 0x7fac471e2b50>,\n",
              " 'repeal': <gensim.models.keyedvectors.Vocab at 0x7fac471e2c50>,\n",
              " 'abortion': <gensim.models.keyedvectors.Vocab at 0x7fac471e24d0>,\n",
              " 'amendment': <gensim.models.keyedvectors.Vocab at 0x7fac471e2c10>,\n",
              " 'landslide': <gensim.models.keyedvectors.Vocab at 0x7fac471e2890>,\n",
              " 'referendum': <gensim.models.keyedvectors.Vocab at 0x7fac471e2590>,\n",
              " 'irish': <gensim.models.keyedvectors.Vocab at 0x7fac471e2e10>,\n",
              " 'woman': <gensim.models.keyedvectors.Vocab at 0x7fac471e2b90>,\n",
              " 'longer': <gensim.models.keyedvectors.Vocab at 0x7fac471e2910>,\n",
              " 'travel': <gensim.models.keyedvectors.Vocab at 0x7fac471e2d50>,\n",
              " 'united': <gensim.models.keyedvectors.Vocab at 0x7fac471e21d0>,\n",
              " 'kingdom': <gensim.models.keyedvectors.Vocab at 0x7fac471e2b10>,\n",
              " 'end': <gensim.models.keyedvectors.Vocab at 0x7fac471e2210>,\n",
              " 'pregnancies.': <gensim.models.keyedvectors.Vocab at 0x7fac471e2250>,\n",
              " 'ryan': <gensim.models.keyedvectors.Vocab at 0x7fac471e2f10>,\n",
              " 'zinke': <gensim.models.keyedvectors.Vocab at 0x7fac471e2310>,\n",
              " 'look': <gensim.models.keyedvectors.Vocab at 0x7fac471e2110>,\n",
              " 'reel': <gensim.models.keyedvectors.Vocab at 0x7fac471e2950>,\n",
              " 'back': <gensim.models.keyedvectors.Vocab at 0x7fac471e2610>,\n",
              " 'critic': <gensim.models.keyedvectors.Vocab at 0x7fac471e2a90>,\n",
              " \"'grand\": <gensim.models.keyedvectors.Vocab at 0x7fac471e2a50>,\n",
              " \"pivot'\": <gensim.models.keyedvectors.Vocab at 0x7fac471e2490>,\n",
              " 'conservation': <gensim.models.keyedvectors.Vocab at 0x7fac471e2cd0>,\n",
              " 'interior': <gensim.models.keyedvectors.Vocab at 0x7fac471e2390>,\n",
              " 'secretary': <gensim.models.keyedvectors.Vocab at 0x7fac471e2750>,\n",
              " 'attempt': <gensim.models.keyedvectors.Vocab at 0x7fac471e29d0>,\n",
              " 'damage': <gensim.models.keyedvectors.Vocab at 0x7fac471e27d0>,\n",
              " 'control': <gensim.models.keyedvectors.Vocab at 0x7fac471e25d0>,\n",
              " 'hunting': <gensim.models.keyedvectors.Vocab at 0x7fac470c3f50>,\n",
              " 'fishing': <gensim.models.keyedvectors.Vocab at 0x7fac470c38d0>,\n",
              " 'group': <gensim.models.keyedvectors.Vocab at 0x7fac470c3b10>,\n",
              " 'didn’t': <gensim.models.keyedvectors.Vocab at 0x7fac470c3290>,\n",
              " 'like': <gensim.models.keyedvectors.Vocab at 0x7fac470c3dd0>,\n",
              " 'fossil': <gensim.models.keyedvectors.Vocab at 0x7fac4cadff50>,\n",
              " 'fuel': <gensim.models.keyedvectors.Vocab at 0x7fac470944d0>,\n",
              " 'focus.': <gensim.models.keyedvectors.Vocab at 0x7fac47094390>,\n",
              " 'scottish': <gensim.models.keyedvectors.Vocab at 0x7fac47094250>,\n",
              " 'golf': <gensim.models.keyedvectors.Vocab at 0x7fac47094e90>,\n",
              " 'resort': <gensim.models.keyedvectors.Vocab at 0x7fac47094750>,\n",
              " 'pay': <gensim.models.keyedvectors.Vocab at 0x7fac47094290>,\n",
              " 'significantly': <gensim.models.keyedvectors.Vocab at 0x7fac47094890>,\n",
              " 'le': <gensim.models.keyedvectors.Vocab at 0x7fac47094850>,\n",
              " 'men:': <gensim.models.keyedvectors.Vocab at 0x7fac470940d0>,\n",
              " 'report': <gensim.models.keyedvectors.Vocab at 0x7fac47094c90>,\n",
              " 'four': <gensim.models.keyedvectors.Vocab at 0x7fac47094910>,\n",
              " 'many': <gensim.models.keyedvectors.Vocab at 0x7fac47094b50>,\n",
              " 'male': <gensim.models.keyedvectors.Vocab at 0x7fac470943d0>,\n",
              " 'female': <gensim.models.keyedvectors.Vocab at 0x7fac47094bd0>,\n",
              " 'executives.': <gensim.models.keyedvectors.Vocab at 0x7fac470941d0>,\n",
              " 'weird': <gensim.models.keyedvectors.Vocab at 0x7fac47094a10>,\n",
              " \"father's\": <gensim.models.keyedvectors.Vocab at 0x7fac47094510>,\n",
              " 'gift': <gensim.models.keyedvectors.Vocab at 0x7fac470942d0>,\n",
              " 'dad': <gensim.models.keyedvectors.Vocab at 0x7fac470945d0>,\n",
              " 'know': <gensim.models.keyedvectors.Vocab at 0x7fac47094f10>,\n",
              " 'want': <gensim.models.keyedvectors.Vocab at 0x7fac47094210>,\n",
              " '(but': <gensim.models.keyedvectors.Vocab at 0x7fac47094a90>,\n",
              " 'does)': <gensim.models.keyedvectors.Vocab at 0x7fac47094b10>,\n",
              " 'buy': <gensim.models.keyedvectors.Vocab at 0x7fac47094c50>,\n",
              " 'boring': <gensim.models.keyedvectors.Vocab at 0x7fac47094710>,\n",
              " 'tie': <gensim.models.keyedvectors.Vocab at 0x7fac47094650>,\n",
              " 'testicle': <gensim.models.keyedvectors.Vocab at 0x7fac47094f50>,\n",
              " 'plush': <gensim.models.keyedvectors.Vocab at 0x7fac47094490>,\n",
              " 'toys?': <gensim.models.keyedvectors.Vocab at 0x7fac47094690>,\n",
              " 'twitter': <gensim.models.keyedvectors.Vocab at 0x7fac470947d0>,\n",
              " 'putstarwarsinotherfilms': <gensim.models.keyedvectors.Vocab at 0x7fac47094590>,\n",
              " 'universally': <gensim.models.keyedvectors.Vocab at 0x7fac47094ad0>,\n",
              " 'entertaining': <gensim.models.keyedvectors.Vocab at 0x7fac47094c10>,\n",
              " 'thing': <gensim.models.keyedvectors.Vocab at 0x7fac4c607650>,\n",
              " 'much': <gensim.models.keyedvectors.Vocab at 0x7fac471e8b90>,\n",
              " '\"star': <gensim.models.keyedvectors.Vocab at 0x7fac471e8090>,\n",
              " 'wars.\"': <gensim.models.keyedvectors.Vocab at 0x7fac471e83d0>,\n",
              " 'mystery': <gensim.models.keyedvectors.Vocab at 0x7fac471e8690>,\n",
              " \"'wolf-like'\": <gensim.models.keyedvectors.Vocab at 0x7fac471e8a50>,\n",
              " 'animal': <gensim.models.keyedvectors.Vocab at 0x7fac471e8150>,\n",
              " 'reportedly': <gensim.models.keyedvectors.Vocab at 0x7fac471e8390>,\n",
              " 'shot': <gensim.models.keyedvectors.Vocab at 0x7fac471e8a10>,\n",
              " 'montana,': <gensim.models.keyedvectors.Vocab at 0x7fac471e8dd0>,\n",
              " 'baffle': <gensim.models.keyedvectors.Vocab at 0x7fac471e8350>,\n",
              " 'wildlife': <gensim.models.keyedvectors.Vocab at 0x7fac471e80d0>,\n",
              " '“we': <gensim.models.keyedvectors.Vocab at 0x7fac471e8850>,\n",
              " 'idea': <gensim.models.keyedvectors.Vocab at 0x7fac471e8550>,\n",
              " 'get': <gensim.models.keyedvectors.Vocab at 0x7fac471e8e90>,\n",
              " 'dna': <gensim.models.keyedvectors.Vocab at 0x7fac471e8f10>,\n",
              " 'back.\"': <gensim.models.keyedvectors.Vocab at 0x7fac471e8b10>,\n",
              " 'korea': <gensim.models.keyedvectors.Vocab at 0x7fac471e8450>,\n",
              " 'still': <gensim.models.keyedvectors.Vocab at 0x7fac471e8b50>,\n",
              " 'open': <gensim.models.keyedvectors.Vocab at 0x7fac471e8790>,\n",
              " 'cancel': <gensim.models.keyedvectors.Vocab at 0x7fac471e85d0>,\n",
              " 'trump’s': <gensim.models.keyedvectors.Vocab at 0x7fac471e8ed0>,\n",
              " 'announcement': <gensim.models.keyedvectors.Vocab at 0x7fac471e84d0>,\n",
              " 'came': <gensim.models.keyedvectors.Vocab at 0x7fac471e8190>,\n",
              " 'repeated': <gensim.models.keyedvectors.Vocab at 0x7fac471e8e50>,\n",
              " 'threat': <gensim.models.keyedvectors.Vocab at 0x7fac471e8d10>,\n",
              " 'pull': <gensim.models.keyedvectors.Vocab at 0x7fac471e87d0>,\n",
              " 'saw': <gensim.models.keyedvectors.Vocab at 0x7fac471e8710>,\n",
              " 'confrontational': <gensim.models.keyedvectors.Vocab at 0x7fac471e8950>,\n",
              " 'remark': <gensim.models.keyedvectors.Vocab at 0x7fac471e8bd0>,\n",
              " 'officials.': <gensim.models.keyedvectors.Vocab at 0x7fac471e8c50>,\n",
              " 'men': <gensim.models.keyedvectors.Vocab at 0x7fac471e89d0>,\n",
              " 'detonate': <gensim.models.keyedvectors.Vocab at 0x7fac471e8650>,\n",
              " 'bomb': <gensim.models.keyedvectors.Vocab at 0x7fac471e8890>,\n",
              " 'inside': <gensim.models.keyedvectors.Vocab at 0x7fac471e8210>,\n",
              " 'indian': <gensim.models.keyedvectors.Vocab at 0x7fac471e8590>,\n",
              " 'restaurant': <gensim.models.keyedvectors.Vocab at 0x7fac471e81d0>,\n",
              " 'near': <gensim.models.keyedvectors.Vocab at 0x7fac471e82d0>,\n",
              " 'toronto,': <gensim.models.keyedvectors.Vocab at 0x7fac471e8f90>,\n",
              " 'authority': <gensim.models.keyedvectors.Vocab at 0x7fac4ca6b990>,\n",
              " 'say': <gensim.models.keyedvectors.Vocab at 0x7fac471fd5d0>,\n",
              " 'fifteen': <gensim.models.keyedvectors.Vocab at 0x7fac471fd450>,\n",
              " 'people': <gensim.models.keyedvectors.Vocab at 0x7fac471fd6d0>,\n",
              " 'taken': <gensim.models.keyedvectors.Vocab at 0x7fac471fd290>,\n",
              " 'hospital,': <gensim.models.keyedvectors.Vocab at 0x7fac471fd350>,\n",
              " 'three': <gensim.models.keyedvectors.Vocab at 0x7fac471fd490>,\n",
              " 'critical': <gensim.models.keyedvectors.Vocab at 0x7fac471fdfd0>,\n",
              " 'injuries.': <gensim.models.keyedvectors.Vocab at 0x7fac471fd3d0>,\n",
              " 'thousand': <gensim.models.keyedvectors.Vocab at 0x7fac471fd050>,\n",
              " 'home': <gensim.models.keyedvectors.Vocab at 0x7fac471fd190>,\n",
              " 'access': <gensim.models.keyedvectors.Vocab at 0x7fac471fd7d0>,\n",
              " 'try': <gensim.models.keyedvectors.Vocab at 0x7fac471fdf50>,\n",
              " 'read': <gensim.models.keyedvectors.Vocab at 0x7fac471fd090>,\n",
              " 'hometovote': <gensim.models.keyedvectors.Vocab at 0x7fac471fd9d0>,\n",
              " 'tweet': <gensim.models.keyedvectors.Vocab at 0x7fac471fd510>,\n",
              " 'without': <gensim.models.keyedvectors.Vocab at 0x7fac471fd610>,\n",
              " 'crying.': <gensim.models.keyedvectors.Vocab at 0x7fac471fd650>,\n",
              " 'voter': <gensim.models.keyedvectors.Vocab at 0x7fac471fd790>,\n",
              " 'set': <gensim.models.keyedvectors.Vocab at 0x7fac471fd710>,\n",
              " 'liberalize': <gensim.models.keyedvectors.Vocab at 0x7fac471fdd90>,\n",
              " 'law': <gensim.models.keyedvectors.Vocab at 0x7fac471fdf10>,\n",
              " 'landslide,': <gensim.models.keyedvectors.Vocab at 0x7fac471fde50>,\n",
              " 'exit': <gensim.models.keyedvectors.Vocab at 0x7fac471fdc50>,\n",
              " 'poll': <gensim.models.keyedvectors.Vocab at 0x7fac471fda50>,\n",
              " 'signal': <gensim.models.keyedvectors.Vocab at 0x7fac471fd310>,\n",
              " 'counting': <gensim.models.keyedvectors.Vocab at 0x7fac471fd410>,\n",
              " 'begin': <gensim.models.keyedvectors.Vocab at 0x7fac471fd750>,\n",
              " 'saturday.': <gensim.models.keyedvectors.Vocab at 0x7fac471fd810>,\n",
              " 'warrior': <gensim.models.keyedvectors.Vocab at 0x7fac471fd150>,\n",
              " 'coach': <gensim.models.keyedvectors.Vocab at 0x7fac471fdc10>,\n",
              " 'steve': <gensim.models.keyedvectors.Vocab at 0x7fac471fdbd0>,\n",
              " 'kerr': <gensim.models.keyedvectors.Vocab at 0x7fac471fdcd0>,\n",
              " 'call': <gensim.models.keyedvectors.Vocab at 0x7fac471fdb10>,\n",
              " 'nfl': <gensim.models.keyedvectors.Vocab at 0x7fac471fd950>,\n",
              " 'ban': <gensim.models.keyedvectors.Vocab at 0x7fac471fda10>,\n",
              " 'protest': <gensim.models.keyedvectors.Vocab at 0x7fac46fef090>,\n",
              " \"'fake\": <gensim.models.keyedvectors.Vocab at 0x7fac46fefd90>,\n",
              " \"patriotism'\": <gensim.models.keyedvectors.Vocab at 0x7fac46fef810>,\n",
              " 'forbidding': <gensim.models.keyedvectors.Vocab at 0x7fac46fef450>,\n",
              " 'player': <gensim.models.keyedvectors.Vocab at 0x7fac46fef210>,\n",
              " 'take': <gensim.models.keyedvectors.Vocab at 0x7fac46fef850>,\n",
              " 'knee': <gensim.models.keyedvectors.Vocab at 0x7fac46fef790>,\n",
              " 'national': <gensim.models.keyedvectors.Vocab at 0x7fac46fefb90>,\n",
              " 'anthem': <gensim.models.keyedvectors.Vocab at 0x7fac46fef190>,\n",
              " '“idiotic,”': <gensim.models.keyedvectors.Vocab at 0x7fac46fef0d0>,\n",
              " 'said.': <gensim.models.keyedvectors.Vocab at 0x7fac46fef610>,\n",
              " 'historic': <gensim.models.keyedvectors.Vocab at 0x7fac46fefe50>,\n",
              " 'victory,': <gensim.models.keyedvectors.Vocab at 0x7fac46fefcd0>,\n",
              " 'barbados': <gensim.models.keyedvectors.Vocab at 0x7fac46fefc10>,\n",
              " 'elect': <gensim.models.keyedvectors.Vocab at 0x7fac46fefc50>,\n",
              " 'minister': <gensim.models.keyedvectors.Vocab at 0x7fac46fefa50>,\n",
              " 'mia': <gensim.models.keyedvectors.Vocab at 0x7fac46fefc90>,\n",
              " 'amor': <gensim.models.keyedvectors.Vocab at 0x7fac46fefed0>,\n",
              " 'mottley': <gensim.models.keyedvectors.Vocab at 0x7fac46fef390>,\n",
              " 'even': <gensim.models.keyedvectors.Vocab at 0x7fac46ffb590>,\n",
              " 'earned': <gensim.models.keyedvectors.Vocab at 0x7fac4706f310>,\n",
              " 'backing': <gensim.models.keyedvectors.Vocab at 0x7fac4706fed0>,\n",
              " \"country's\": <gensim.models.keyedvectors.Vocab at 0x7fac4706fb90>,\n",
              " 'recognizable': <gensim.models.keyedvectors.Vocab at 0x7fac4706f910>,\n",
              " 'national:': <gensim.models.keyedvectors.Vocab at 0x7fac4706f7d0>,\n",
              " 'rihanna.': <gensim.models.keyedvectors.Vocab at 0x7fac4706fcd0>,\n",
              " 'police': <gensim.models.keyedvectors.Vocab at 0x7fac4706f650>,\n",
              " 'least': <gensim.models.keyedvectors.Vocab at 0x7fac4706f190>,\n",
              " 'black': <gensim.models.keyedvectors.Vocab at 0x7fac46b32ad0>,\n",
              " 'american': <gensim.models.keyedvectors.Vocab at 0x7fac46b32510>,\n",
              " 'moment': <gensim.models.keyedvectors.Vocab at 0x7fac46b32450>,\n",
              " 'colin': <gensim.models.keyedvectors.Vocab at 0x7fac46b322d0>,\n",
              " 'kaepernick': <gensim.models.keyedvectors.Vocab at 0x7fac46b32bd0>,\n",
              " 'protested': <gensim.models.keyedvectors.Vocab at 0x7fac46b32f50>,\n",
              " 'deserve': <gensim.models.keyedvectors.Vocab at 0x7fac46b32e90>,\n",
              " 'statistic.': <gensim.models.keyedvectors.Vocab at 0x7fac46b32050>,\n",
              " 'jack': <gensim.models.keyedvectors.Vocab at 0x7fac46b32e10>,\n",
              " 'johnson': <gensim.models.keyedvectors.Vocab at 0x7fac46b32cd0>,\n",
              " 'pardoned,': <gensim.models.keyedvectors.Vocab at 0x7fac46b328d0>,\n",
              " 'taboo': <gensim.models.keyedvectors.Vocab at 0x7fac46b32110>,\n",
              " 'sex': <gensim.models.keyedvectors.Vocab at 0x7fac46b32a50>,\n",
              " 'criminalized': <gensim.models.keyedvectors.Vocab at 0x7fac46b32750>,\n",
              " 'fight': <gensim.models.keyedvectors.Vocab at 0x7fac46b32590>,\n",
              " 'trafficking': <gensim.models.keyedvectors.Vocab at 0x7fac46b32210>,\n",
              " 'target': <gensim.models.keyedvectors.Vocab at 0x7fac46b32650>,\n",
              " 'ostensibly': <gensim.models.keyedvectors.Vocab at 0x7fac46b32c90>,\n",
              " 'aim': <gensim.models.keyedvectors.Vocab at 0x7fac46b326d0>,\n",
              " 'protect.': <gensim.models.keyedvectors.Vocab at 0x7fac46b32890>,\n",
              " 'bet': <gensim.models.keyedvectors.Vocab at 0x7fac46b32350>,\n",
              " 'chairman': <gensim.models.keyedvectors.Vocab at 0x7fac46b32c10>,\n",
              " 'ceo': <gensim.models.keyedvectors.Vocab at 0x7fac46b32a10>,\n",
              " 'debra': <gensim.models.keyedvectors.Vocab at 0x7fac46b32690>,\n",
              " 'lee': <gensim.models.keyedvectors.Vocab at 0x7fac46b32f10>,\n",
              " 'stepping': <gensim.models.keyedvectors.Vocab at 0x7fac46b329d0>,\n",
              " 'brought': <gensim.models.keyedvectors.Vocab at 0x7fac46b32d90>,\n",
              " 'original': <gensim.models.keyedvectors.Vocab at 0x7fac46b32790>,\n",
              " 'entertainment': <gensim.models.keyedvectors.Vocab at 0x7fac46b32950>,\n",
              " 'network': <gensim.models.keyedvectors.Vocab at 0x7fac4c0a5110>,\n",
              " 'focused': <gensim.models.keyedvectors.Vocab at 0x7fac45e88390>,\n",
              " 'family': <gensim.models.keyedvectors.Vocab at 0x7fac45e88a90>,\n",
              " 'programming.': <gensim.models.keyedvectors.Vocab at 0x7fac45e88190>,\n",
              " 'rachel': <gensim.models.keyedvectors.Vocab at 0x7fac47375a50>,\n",
              " 'dolezal': <gensim.models.keyedvectors.Vocab at 0x7fac4720f390>,\n",
              " 'face': <gensim.models.keyedvectors.Vocab at 0x7fac4720f790>,\n",
              " 'felony': <gensim.models.keyedvectors.Vocab at 0x7fac4720f110>,\n",
              " 'charge': <gensim.models.keyedvectors.Vocab at 0x7fac4720fc50>,\n",
              " 'welfare': <gensim.models.keyedvectors.Vocab at 0x7fac4720fa10>,\n",
              " 'fraud': <gensim.models.keyedvectors.Vocab at 0x7fac4720ff90>,\n",
              " 'state': <gensim.models.keyedvectors.Vocab at 0x7fac4720f6d0>,\n",
              " 'prosecutor': <gensim.models.keyedvectors.Vocab at 0x7fac4720fb90>,\n",
              " 'almost': <gensim.models.keyedvectors.Vocab at 0x7fac4720fcd0>,\n",
              " '$,': <gensim.models.keyedvectors.Vocab at 0x7fac4720f750>,\n",
              " 'deposited': <gensim.models.keyedvectors.Vocab at 0x7fac4720f4d0>,\n",
              " 'bank': <gensim.models.keyedvectors.Vocab at 0x7fac4720fdd0>,\n",
              " 'account': <gensim.models.keyedvectors.Vocab at 0x7fac4720f3d0>,\n",
              " 'receiving': <gensim.models.keyedvectors.Vocab at 0x7fac4720f7d0>,\n",
              " 'public': <gensim.models.keyedvectors.Vocab at 0x7fac4720f210>,\n",
              " 'assistance.': <gensim.models.keyedvectors.Vocab at 0x7fac4720fd90>,\n",
              " 'bishop': <gensim.models.keyedvectors.Vocab at 0x7fac4720f2d0>,\n",
              " 'michael': <gensim.models.keyedvectors.Vocab at 0x7fac4720fb10>,\n",
              " 'curry': <gensim.models.keyedvectors.Vocab at 0x7fac4720f050>,\n",
              " 'christian': <gensim.models.keyedvectors.Vocab at 0x7fac4720ff50>,\n",
              " 'march': <gensim.models.keyedvectors.Vocab at 0x7fac4720f690>,\n",
              " 'white': <gensim.models.keyedvectors.Vocab at 0x7fac4720f990>,\n",
              " 'house': <gensim.models.keyedvectors.Vocab at 0x7fac4720fad0>,\n",
              " \"'reclaim\": <gensim.models.keyedvectors.Vocab at 0x7fac4720fc10>,\n",
              " \"jesus'\": <gensim.models.keyedvectors.Vocab at 0x7fac4720f1d0>,\n",
              " 'others,': <gensim.models.keyedvectors.Vocab at 0x7fac4720f9d0>,\n",
              " 'mean': <gensim.models.keyedvectors.Vocab at 0x7fac4720fa50>,\n",
              " 'rejecting': <gensim.models.keyedvectors.Vocab at 0x7fac4712df50>,\n",
              " 'nationalism': <gensim.models.keyedvectors.Vocab at 0x7fac4712d5d0>,\n",
              " 'misogyny,': <gensim.models.keyedvectors.Vocab at 0x7fac4712d310>,\n",
              " 'protecting': <gensim.models.keyedvectors.Vocab at 0x7fac4712de50>,\n",
              " 'immigrants,': <gensim.models.keyedvectors.Vocab at 0x7fac4712dcd0>,\n",
              " 'refugee': <gensim.models.keyedvectors.Vocab at 0x7fac4712dbd0>,\n",
              " 'poor.': <gensim.models.keyedvectors.Vocab at 0x7fac4712d790>,\n",
              " 'kanye': <gensim.models.keyedvectors.Vocab at 0x7fac4712d650>,\n",
              " 'west': <gensim.models.keyedvectors.Vocab at 0x7fac4712d590>,\n",
              " 'spent': <gensim.models.keyedvectors.Vocab at 0x7fac4712d2d0>,\n",
              " 'photo': <gensim.models.keyedvectors.Vocab at 0x7fac4712d3d0>,\n",
              " 'whitney': <gensim.models.keyedvectors.Vocab at 0x7fac4712d610>,\n",
              " \"houston's\": <gensim.models.keyedvectors.Vocab at 0x7fac4710f790>,\n",
              " 'bathroom': <gensim.models.keyedvectors.Vocab at 0x7fac47076750>,\n",
              " 'album': <gensim.models.keyedvectors.Vocab at 0x7fac47076790>,\n",
              " 'cover': <gensim.models.keyedvectors.Vocab at 0x7fac47076590>,\n",
              " 'pusha': <gensim.models.keyedvectors.Vocab at 0x7fac47076f10>,\n",
              " \"t's\": <gensim.models.keyedvectors.Vocab at 0x7fac47076890>,\n",
              " 'album,': <gensim.models.keyedvectors.Vocab at 0x7fac47076990>,\n",
              " 'produced': <gensim.models.keyedvectors.Vocab at 0x7fac47076e50>,\n",
              " 'west,': <gensim.models.keyedvectors.Vocab at 0x7fac47076390>,\n",
              " 'late': <gensim.models.keyedvectors.Vocab at 0x7fac470765d0>,\n",
              " \"singer's\": <gensim.models.keyedvectors.Vocab at 0x7fac47076050>,\n",
              " 'bathroom.': <gensim.models.keyedvectors.Vocab at 0x7fac47076090>,\n",
              " 'dropped': <gensim.models.keyedvectors.Vocab at 0x7fac470760d0>,\n",
              " 'marketing': <gensim.models.keyedvectors.Vocab at 0x7fac470763d0>,\n",
              " 'campaign': <gensim.models.keyedvectors.Vocab at 0x7fac47076350>,\n",
              " 'accusation': <gensim.models.keyedvectors.Vocab at 0x7fac47076fd0>,\n",
              " 'visa': <gensim.models.keyedvectors.Vocab at 0x7fac47076c10>,\n",
              " \"vancouver's\": <gensim.models.keyedvectors.Vocab at 0x7fac47076b10>,\n",
              " 'transit': <gensim.models.keyedvectors.Vocab at 0x7fac47076450>,\n",
              " 'suspended': <gensim.models.keyedvectors.Vocab at 0x7fac47076510>,\n",
              " 'work': <gensim.models.keyedvectors.Vocab at 0x7fac47076290>,\n",
              " 'him.': <gensim.models.keyedvectors.Vocab at 0x7fac47076210>,\n",
              " 'chinese': <gensim.models.keyedvectors.Vocab at 0x7fac47076810>,\n",
              " 'exclusion': <gensim.models.keyedvectors.Vocab at 0x7fac470766d0>,\n",
              " 'act': <gensim.models.keyedvectors.Vocab at 0x7fac4728b810>,\n",
              " 'help': <gensim.models.keyedvectors.Vocab at 0x7fac4728b650>,\n",
              " 'u': <gensim.models.keyedvectors.Vocab at 0x7fac4728bf50>,\n",
              " 'understand': <gensim.models.keyedvectors.Vocab at 0x7fac4728b910>,\n",
              " 'immigration': <gensim.models.keyedvectors.Vocab at 0x7fac4728b950>,\n",
              " 'politics': <gensim.models.keyedvectors.Vocab at 0x7fac4728ba50>,\n",
              " 'today': <gensim.models.keyedvectors.Vocab at 0x7fac4728b110>,\n",
              " 'barely': <gensim.models.keyedvectors.Vocab at 0x7fac4728bb10>,\n",
              " 'mentioned': <gensim.models.keyedvectors.Vocab at 0x7fac4728b550>,\n",
              " 'history': <gensim.models.keyedvectors.Vocab at 0x7fac4728bed0>,\n",
              " 'classes.': <gensim.models.keyedvectors.Vocab at 0x7fac4728b410>,\n",
              " 'pb': <gensim.models.keyedvectors.Vocab at 0x7fac4728b710>,\n",
              " 'documentary': <gensim.models.keyedvectors.Vocab at 0x7fac4728b1d0>,\n",
              " 'director': <gensim.models.keyedvectors.Vocab at 0x7fac4728b450>,\n",
              " 'ric': <gensim.models.keyedvectors.Vocab at 0x7fac4728bd50>,\n",
              " 'burn': <gensim.models.keyedvectors.Vocab at 0x7fac4728b190>,\n",
              " 'li-shin': <gensim.models.keyedvectors.Vocab at 0x7fac4728b8d0>,\n",
              " 'yu': <gensim.models.keyedvectors.Vocab at 0x7fac4728b6d0>,\n",
              " 'change': <gensim.models.keyedvectors.Vocab at 0x7fac4c15cd50>,\n",
              " 'that.': <gensim.models.keyedvectors.Vocab at 0x7fac4c288290>,\n",
              " \"'maga'-themed\": <gensim.models.keyedvectors.Vocab at 0x7fac4c089fd0>,\n",
              " 'swimwear': <gensim.models.keyedvectors.Vocab at 0x7fac4c2a5cd0>,\n",
              " 'sink': <gensim.models.keyedvectors.Vocab at 0x7fac4c0c9ad0>,\n",
              " '\"does': <gensim.models.keyedvectors.Vocab at 0x7fac4c11dbd0>,\n",
              " 'swimsuit': <gensim.models.keyedvectors.Vocab at 0x7fac4c11dd10>,\n",
              " 'make': <gensim.models.keyedvectors.Vocab at 0x7fac4c48f610>,\n",
              " 'racist?\"': <gensim.models.keyedvectors.Vocab at 0x7fac4c2d3c10>,\n",
              " 'seth': <gensim.models.keyedvectors.Vocab at 0x7fac4c51c4d0>,\n",
              " 'meyers': <gensim.models.keyedvectors.Vocab at 0x7fac4c51cfd0>,\n",
              " 'funny': <gensim.models.keyedvectors.Vocab at 0x7fac4c51c250>,\n",
              " 'regret': <gensim.models.keyedvectors.Vocab at 0x7fac45e88550>,\n",
              " 'go': <gensim.models.keyedvectors.Vocab at 0x7fac45e88c90>,\n",
              " 'token': <gensim.models.keyedvectors.Vocab at 0x7fac45e88290>,\n",
              " 'appreciation.': <gensim.models.keyedvectors.Vocab at 0x7fac45e88b90>,\n",
              " 'colbert': <gensim.models.keyedvectors.Vocab at 0x7fac45e88cd0>,\n",
              " 'turn': <gensim.models.keyedvectors.Vocab at 0x7fac45e88e10>,\n",
              " 'nyc': <gensim.models.keyedvectors.Vocab at 0x7fac45e88dd0>,\n",
              " 'subway': <gensim.models.keyedvectors.Vocab at 0x7fac45e88890>,\n",
              " 'ride': <gensim.models.keyedvectors.Vocab at 0x7fac45e88150>,\n",
              " 'terrible': <gensim.models.keyedvectors.Vocab at 0x7fac45e88850>,\n",
              " 'punishment': <gensim.models.keyedvectors.Vocab at 0x7fac45e88450>,\n",
              " '\"late': <gensim.models.keyedvectors.Vocab at 0x7fac45e88750>,\n",
              " 'show\"': <gensim.models.keyedvectors.Vocab at 0x7fac45e88fd0>,\n",
              " 'host': <gensim.models.keyedvectors.Vocab at 0x7fac45e88ad0>,\n",
              " 'cohen': <gensim.models.keyedvectors.Vocab at 0x7fac45e88b10>,\n",
              " '\"taxi': <gensim.models.keyedvectors.Vocab at 0x7fac45e88ed0>,\n",
              " 'king\"': <gensim.models.keyedvectors.Vocab at 0x7fac45e88590>,\n",
              " 'business': <gensim.models.keyedvectors.Vocab at 0x7fac45e886d0>,\n",
              " 'partner.': <gensim.models.keyedvectors.Vocab at 0x7fac45e88090>,\n",
              " 'man': <gensim.models.keyedvectors.Vocab at 0x7fac4c137b50>,\n",
              " 'pulling': <gensim.models.keyedvectors.Vocab at 0x7fac4c137090>,\n",
              " 'knife,': <gensim.models.keyedvectors.Vocab at 0x7fac471d97d0>,\n",
              " 'stun': <gensim.models.keyedvectors.Vocab at 0x7fac46ffb910>,\n",
              " 'gun': <gensim.models.keyedvectors.Vocab at 0x7fac46ffbcd0>,\n",
              " 'muslim': <gensim.models.keyedvectors.Vocab at 0x7fac46ffbe90>,\n",
              " 'student': <gensim.models.keyedvectors.Vocab at 0x7fac46ffbb10>,\n",
              " 'thought': <gensim.models.keyedvectors.Vocab at 0x7fac46ffb9d0>,\n",
              " 'going': <gensim.models.keyedvectors.Vocab at 0x7fac46ffbb90>,\n",
              " 'die,\"': <gensim.models.keyedvectors.Vocab at 0x7fac46ffba90>,\n",
              " 'jimmy': <gensim.models.keyedvectors.Vocab at 0x7fac46ffb110>,\n",
              " 'kimmel': <gensim.models.keyedvectors.Vocab at 0x7fac46ffb890>,\n",
              " \"iran's\": <gensim.models.keyedvectors.Vocab at 0x7fac46ffbc50>,\n",
              " 'supreme': <gensim.models.keyedvectors.Vocab at 0x7fac46ffb050>,\n",
              " 'leader': <gensim.models.keyedvectors.Vocab at 0x7fac46ffb850>,\n",
              " \"'tom\": <gensim.models.keyedvectors.Vocab at 0x7fac46ffb0d0>,\n",
              " \"jerry'\": <gensim.models.keyedvectors.Vocab at 0x7fac46ffb310>,\n",
              " 'reimagined': <gensim.models.keyedvectors.Vocab at 0x7fac46ffb1d0>,\n",
              " 'cartoon': <gensim.models.keyedvectors.Vocab at 0x7fac46ffba50>,\n",
              " 'ayatollah': <gensim.models.keyedvectors.Vocab at 0x7fac46ffbad0>,\n",
              " 'ali': <gensim.models.keyedvectors.Vocab at 0x7fac46ffb690>,\n",
              " 'khamenei': <gensim.models.keyedvectors.Vocab at 0x7fac46ffb610>,\n",
              " 'cat': <gensim.models.keyedvectors.Vocab at 0x7fac46ffbf90>,\n",
              " 'mouse': <gensim.models.keyedvectors.Vocab at 0x7fac46ffbdd0>,\n",
              " 'defiance': <gensim.models.keyedvectors.Vocab at 0x7fac46ffb2d0>,\n",
              " 'threats.': <gensim.models.keyedvectors.Vocab at 0x7fac46ffb510>,\n",
              " 'injured': <gensim.models.keyedvectors.Vocab at 0x7fac46ffbed0>,\n",
              " 'indiana': <gensim.models.keyedvectors.Vocab at 0x7fac46ffbd50>,\n",
              " 'student,': <gensim.models.keyedvectors.Vocab at 0x7fac4c4ee390>,\n",
              " 'believed': <gensim.models.keyedvectors.Vocab at 0x7fac4c4ee550>,\n",
              " 'suspect,': <gensim.models.keyedvectors.Vocab at 0x7fac4c4eefd0>,\n",
              " 'detained,': <gensim.models.keyedvectors.Vocab at 0x7fac4cb73650>,\n",
              " 'according': <gensim.models.keyedvectors.Vocab at 0x7fac4cb73710>,\n",
              " 'police.': <gensim.models.keyedvectors.Vocab at 0x7fac4cb73250>,\n",
              " 'rattled': <gensim.models.keyedvectors.Vocab at 0x7fac4c287590>,\n",
              " 'nigerian': <gensim.models.keyedvectors.Vocab at 0x7fac4709e950>,\n",
              " 'chadwick': <gensim.models.keyedvectors.Vocab at 0x7fac4709e750>,\n",
              " 'boseman': <gensim.models.keyedvectors.Vocab at 0x7fac4709e6d0>,\n",
              " 'suleiman': <gensim.models.keyedvectors.Vocab at 0x7fac4709e8d0>,\n",
              " 'abdulfatai': <gensim.models.keyedvectors.Vocab at 0x7fac4709ef10>,\n",
              " \"actor's\": <gensim.models.keyedvectors.Vocab at 0x7fac4709eb10>,\n",
              " 'long-lost': <gensim.models.keyedvectors.Vocab at 0x7fac4709e690>,\n",
              " 'brother.': <gensim.models.keyedvectors.Vocab at 0x7fac4709e5d0>,\n",
              " 'david': <gensim.models.keyedvectors.Vocab at 0x7fac4709ea50>,\n",
              " 'cross': <gensim.models.keyedvectors.Vocab at 0x7fac4709e410>,\n",
              " 'prof': <gensim.models.keyedvectors.Vocab at 0x7fac4709ea10>,\n",
              " 'yet': <gensim.models.keyedvectors.Vocab at 0x7fac4709ee50>,\n",
              " 'he’s': <gensim.models.keyedvectors.Vocab at 0x7fac4709e9d0>,\n",
              " 'apologizing': <gensim.models.keyedvectors.Vocab at 0x7fac4709e290>,\n",
              " 'comedian': <gensim.models.keyedvectors.Vocab at 0x7fac4709e150>,\n",
              " 'suggested': <gensim.models.keyedvectors.Vocab at 0x7fac4709efd0>,\n",
              " 'jessica': <gensim.models.keyedvectors.Vocab at 0x7fac4709e4d0>,\n",
              " 'walter': <gensim.models.keyedvectors.Vocab at 0x7fac4709ef50>,\n",
              " 'abusive': <gensim.models.keyedvectors.Vocab at 0x7fac4709ef90>,\n",
              " 'saying': <gensim.models.keyedvectors.Vocab at 0x7fac4709edd0>,\n",
              " 'he’d': <gensim.models.keyedvectors.Vocab at 0x7fac4709e390>,\n",
              " 'apologize': <gensim.models.keyedvectors.Vocab at 0x7fac4709e190>,\n",
              " 'defending': <gensim.models.keyedvectors.Vocab at 0x7fac4709e3d0>,\n",
              " 'jeffrey': <gensim.models.keyedvectors.Vocab at 0x7fac4709e250>,\n",
              " 'tambor.': <gensim.models.keyedvectors.Vocab at 0x7fac4709e490>,\n",
              " \"'sesame\": <gensim.models.keyedvectors.Vocab at 0x7fac4709ec50>,\n",
              " \"street'\": <gensim.models.keyedvectors.Vocab at 0x7fac4709e450>,\n",
              " 'creator': <gensim.models.keyedvectors.Vocab at 0x7fac4709ee10>,\n",
              " 'sue': <gensim.models.keyedvectors.Vocab at 0x7fac4709e310>,\n",
              " 'maker': <gensim.models.keyedvectors.Vocab at 0x7fac4709e650>,\n",
              " 'upcoming': <gensim.models.keyedvectors.Vocab at 0x7fac4709e610>,\n",
              " 'adult-themed': <gensim.models.keyedvectors.Vocab at 0x7fac4709ed10>,\n",
              " 'puppet': <gensim.models.keyedvectors.Vocab at 0x7fac4703b7d0>,\n",
              " '“the': <gensim.models.keyedvectors.Vocab at 0x7fac4703b290>,\n",
              " 'happytime': <gensim.models.keyedvectors.Vocab at 0x7fac4703ba90>,\n",
              " 'murders”': <gensim.models.keyedvectors.Vocab at 0x7fac4703b9d0>,\n",
              " 'refers': <gensim.models.keyedvectors.Vocab at 0x7fac4703ba50>,\n",
              " 'classic': <gensim.models.keyedvectors.Vocab at 0x7fac4703b510>,\n",
              " 'tagline.': <gensim.models.keyedvectors.Vocab at 0x7fac4703b210>,\n",
              " 'missed': <gensim.models.keyedvectors.Vocab at 0x7fac4703bc90>,\n",
              " 'saddest': <gensim.models.keyedvectors.Vocab at 0x7fac4703b150>,\n",
              " 'death': <gensim.models.keyedvectors.Vocab at 0x7fac4703bd10>,\n",
              " \"'avengers:\": <gensim.models.keyedvectors.Vocab at 0x7fac4703b110>,\n",
              " 'infinity': <gensim.models.keyedvectors.Vocab at 0x7fac4703b550>,\n",
              " \"war'\": <gensim.models.keyedvectors.Vocab at 0x7fac4703b990>,\n",
              " 'joe': <gensim.models.keyedvectors.Vocab at 0x7fac4703b610>,\n",
              " 'anthony': <gensim.models.keyedvectors.Vocab at 0x7fac4703b350>,\n",
              " 'russo': <gensim.models.keyedvectors.Vocab at 0x7fac4703b890>,\n",
              " 'answer': <gensim.models.keyedvectors.Vocab at 0x7fac4703b3d0>,\n",
              " 'pressing': <gensim.models.keyedvectors.Vocab at 0x7fac4703bf10>,\n",
              " 'questions.': <gensim.models.keyedvectors.Vocab at 0x7fac4703bdd0>,\n",
              " 'george': <gensim.models.keyedvectors.Vocab at 0x7fac4703b5d0>,\n",
              " 'takei': <gensim.models.keyedvectors.Vocab at 0x7fac4703b390>,\n",
              " 'accuser': <gensim.models.keyedvectors.Vocab at 0x7fac4703b810>,\n",
              " 'walk': <gensim.models.keyedvectors.Vocab at 0x7fac4703b0d0>,\n",
              " 'story': <gensim.models.keyedvectors.Vocab at 0x7fac4703be10>,\n",
              " 'drugging': <gensim.models.keyedvectors.Vocab at 0x7fac4703bed0>,\n",
              " 'trek\"': <gensim.models.keyedvectors.Vocab at 0x7fac4703b8d0>,\n",
              " 'accused': <gensim.models.keyedvectors.Vocab at 0x7fac4703bb50>,\n",
              " 'groping': <gensim.models.keyedvectors.Vocab at 0x7fac4703b450>,\n",
              " 'model': <gensim.models.keyedvectors.Vocab at 0x7fac4703b1d0>,\n",
              " 'year': <gensim.models.keyedvectors.Vocab at 0x7fac4703b050>,\n",
              " 'ago.': <gensim.models.keyedvectors.Vocab at 0x7fac4703b710>,\n",
              " 'samantha': <gensim.models.keyedvectors.Vocab at 0x7fac4703b690>,\n",
              " \"bee's\": <gensim.models.keyedvectors.Vocab at 0x7fac4c44e210>,\n",
              " 'think': <gensim.models.keyedvectors.Vocab at 0x7fac4c44e690>,\n",
              " 'america': <gensim.models.keyedvectors.Vocab at 0x7fac4c168ed0>,\n",
              " 'basically': <gensim.models.keyedvectors.Vocab at 0x7fac4c1da990>,\n",
              " 'war': <gensim.models.keyedvectors.Vocab at 0x7fac4717f1d0>,\n",
              " 'zone': <gensim.models.keyedvectors.Vocab at 0x7fac4717ffd0>,\n",
              " 'sent': <gensim.models.keyedvectors.Vocab at 0x7fac4717fdd0>,\n",
              " 'kevlar': <gensim.models.keyedvectors.Vocab at 0x7fac4717f050>,\n",
              " 'vest.': <gensim.models.keyedvectors.Vocab at 0x7fac4717f210>,\n",
              " 'pete': <gensim.models.keyedvectors.Vocab at 0x7fac4717fb90>,\n",
              " 'davidson': <gensim.models.keyedvectors.Vocab at 0x7fac4717f710>,\n",
              " 'mental': <gensim.models.keyedvectors.Vocab at 0x7fac4717f8d0>,\n",
              " 'illness': <gensim.models.keyedvectors.Vocab at 0x7fac4717fad0>,\n",
              " 'ruin': <gensim.models.keyedvectors.Vocab at 0x7fac4c0d8b90>,\n",
              " 'romance': <gensim.models.keyedvectors.Vocab at 0x7fac4c0e2fd0>,\n",
              " '\"snl\"': <gensim.models.keyedvectors.Vocab at 0x7fac4c0d38d0>,\n",
              " 'reacted': <gensim.models.keyedvectors.Vocab at 0x7fac4c318f50>,\n",
              " 'criticism': <gensim.models.keyedvectors.Vocab at 0x7fac4c36e310>,\n",
              " 'date': <gensim.models.keyedvectors.Vocab at 0x7fac4c36a590>,\n",
              " 'ariana': <gensim.models.keyedvectors.Vocab at 0x7fac4c36a250>,\n",
              " 'grande': <gensim.models.keyedvectors.Vocab at 0x7fac4c36a610>,\n",
              " 'borderline': <gensim.models.keyedvectors.Vocab at 0x7fac4c1365d0>,\n",
              " 'personality': <gensim.models.keyedvectors.Vocab at 0x7fac470e3210>,\n",
              " 'disorder.': <gensim.models.keyedvectors.Vocab at 0x7fac4c500490>,\n",
              " 'james': <gensim.models.keyedvectors.Vocab at 0x7fac4c3a8c90>,\n",
              " 'corden': <gensim.models.keyedvectors.Vocab at 0x7fac4c40e210>,\n",
              " 'levine': <gensim.models.keyedvectors.Vocab at 0x7fac4c10a610>,\n",
              " 'pulled': <gensim.models.keyedvectors.Vocab at 0x7fac471c0550>,\n",
              " \"'carpool\": <gensim.models.keyedvectors.Vocab at 0x7fac471c0b50>,\n",
              " \"karaoke'\": <gensim.models.keyedvectors.Vocab at 0x7fac471c0910>,\n",
              " 'bound': <gensim.models.keyedvectors.Vocab at 0x7fac471c0dd0>,\n",
              " 'happen.': <gensim.models.keyedvectors.Vocab at 0x7fac471c0f10>,\n",
              " 'emilia': <gensim.models.keyedvectors.Vocab at 0x7fac471c0190>,\n",
              " 'clarke': <gensim.models.keyedvectors.Vocab at 0x7fac471c0bd0>,\n",
              " 'dish': <gensim.models.keyedvectors.Vocab at 0x7fac471c0690>,\n",
              " 'final': <gensim.models.keyedvectors.Vocab at 0x7fac471c0e10>,\n",
              " \"'game\": <gensim.models.keyedvectors.Vocab at 0x7fac471c0590>,\n",
              " \"thrones'\": <gensim.models.keyedvectors.Vocab at 0x7fac471c0fd0>,\n",
              " 'scene': <gensim.models.keyedvectors.Vocab at 0x7fac471c0810>,\n",
              " \"we're\": <gensim.models.keyedvectors.Vocab at 0x7fac471c02d0>,\n",
              " 'really': <gensim.models.keyedvectors.Vocab at 0x7fac471c0850>,\n",
              " 'curious': <gensim.models.keyedvectors.Vocab at 0x7fac471c05d0>,\n",
              " 'farewell': <gensim.models.keyedvectors.Vocab at 0x7fac471c0710>,\n",
              " 'season.': <gensim.models.keyedvectors.Vocab at 0x7fac471c0110>,\n",
              " 'hollywood': <gensim.models.keyedvectors.Vocab at 0x7fac471c0a90>,\n",
              " 'need': <gensim.models.keyedvectors.Vocab at 0x7fac471c0d50>,\n",
              " \"'difficult'\": <gensim.models.keyedvectors.Vocab at 0x7fac471c0c90>,\n",
              " '\"crazy': <gensim.models.keyedvectors.Vocab at 0x7fac471c0310>,\n",
              " 'ex-girlfriend\\'s\"': <gensim.models.keyedvectors.Vocab at 0x7fac471c0b10>,\n",
              " 'vella': <gensim.models.keyedvectors.Vocab at 0x7fac471c0f50>,\n",
              " 'lovell': <gensim.models.keyedvectors.Vocab at 0x7fac471c0090>,\n",
              " 'push': <gensim.models.keyedvectors.Vocab at 0x7fac471c04d0>,\n",
              " 'old-school': <gensim.models.keyedvectors.Vocab at 0x7fac471c0950>,\n",
              " 'see': <gensim.models.keyedvectors.Vocab at 0x7fac47111550>,\n",
              " '\"norm.\"': <gensim.models.keyedvectors.Vocab at 0x7fac47111c10>,\n",
              " 'harvey': <gensim.models.keyedvectors.Vocab at 0x7fac47111a90>,\n",
              " 'weinstein': <gensim.models.keyedvectors.Vocab at 0x7fac47111410>,\n",
              " 'never': <gensim.models.keyedvectors.Vocab at 0x7fac47111a10>,\n",
              " 'would': <gensim.models.keyedvectors.Vocab at 0x7fac471116d0>,\n",
              " 'arrested': <gensim.models.keyedvectors.Vocab at 0x7fac47111c90>,\n",
              " 'forward': <gensim.models.keyedvectors.Vocab at 0x7fac471117d0>,\n",
              " 'powerful': <gensim.models.keyedvectors.Vocab at 0x7fac471114d0>,\n",
              " 'mogul': <gensim.models.keyedvectors.Vocab at 0x7fac47111910>,\n",
              " 'responded': <gensim.models.keyedvectors.Vocab at 0x7fac47111cd0>,\n",
              " 'surprise': <gensim.models.keyedvectors.Vocab at 0x7fac47111fd0>,\n",
              " 'relief.': <gensim.models.keyedvectors.Vocab at 0x7fac47111f50>,\n",
              " 'alleged': <gensim.models.keyedvectors.Vocab at 0x7fac47111950>,\n",
              " 'crime': <gensim.models.keyedvectors.Vocab at 0x7fac47111a50>,\n",
              " 'bombshell': <gensim.models.keyedvectors.Vocab at 0x7fac47111e10>,\n",
              " 'sparked': <gensim.models.keyedvectors.Vocab at 0x7fac47111d90>,\n",
              " 'movement.': <gensim.models.keyedvectors.Vocab at 0x7fac47111990>,\n",
              " 'john': <gensim.models.keyedvectors.Vocab at 0x7fac471111d0>,\n",
              " \"mayer's\": <gensim.models.keyedvectors.Vocab at 0x7fac47111f10>,\n",
              " 'low-budget': <gensim.models.keyedvectors.Vocab at 0x7fac47111b90>,\n",
              " 'video': <gensim.models.keyedvectors.Vocab at 0x7fac47111250>,\n",
              " 'meme-worthy': <gensim.models.keyedvectors.Vocab at 0x7fac47111350>,\n",
              " 'masterpiece': <gensim.models.keyedvectors.Vocab at 0x7fac47111750>,\n",
              " 'strange': <gensim.models.keyedvectors.Vocab at 0x7fac47111490>,\n",
              " '\"new': <gensim.models.keyedvectors.Vocab at 0x7fac47111e90>,\n",
              " 'light\"': <gensim.models.keyedvectors.Vocab at 0x7fac47111690>,\n",
              " 'spell': <gensim.models.keyedvectors.Vocab at 0x7fac47111850>,\n",
              " 'name': <gensim.models.keyedvectors.Vocab at 0x7fac47111d10>,\n",
              " 'wrong.': <gensim.models.keyedvectors.Vocab at 0x7fac470312d0>,\n",
              " 'boba': <gensim.models.keyedvectors.Vocab at 0x7fac47031310>,\n",
              " 'fett': <gensim.models.keyedvectors.Vocab at 0x7fac47031bd0>,\n",
              " \"'star\": <gensim.models.keyedvectors.Vocab at 0x7fac47031190>,\n",
              " \"wars'\": <gensim.models.keyedvectors.Vocab at 0x7fac47031210>,\n",
              " 'movie': <gensim.models.keyedvectors.Vocab at 0x7fac47031a50>,\n",
              " 'obi-wan': <gensim.models.keyedvectors.Vocab at 0x7fac470317d0>,\n",
              " 'kenobi': <gensim.models.keyedvectors.Vocab at 0x7fac470310d0>,\n",
              " 'development.': <gensim.models.keyedvectors.Vocab at 0x7fac47031d50>,\n",
              " 'suggests': <gensim.models.keyedvectors.Vocab at 0x7fac47031850>,\n",
              " 'happen': <gensim.models.keyedvectors.Vocab at 0x7fac47031290>,\n",
              " 'canceled': <gensim.models.keyedvectors.Vocab at 0x7fac47031dd0>,\n",
              " 'planned': <gensim.models.keyedvectors.Vocab at 0x7fac47031690>,\n",
              " 'june': <gensim.models.keyedvectors.Vocab at 0x7fac470314d0>,\n",
              " 'earlier.': <gensim.models.keyedvectors.Vocab at 0x7fac47031b10>,\n",
              " 'roger': <gensim.models.keyedvectors.Vocab at 0x7fac47031150>,\n",
              " 'stone': <gensim.models.keyedvectors.Vocab at 0x7fac47031450>,\n",
              " 'pressed': <gensim.models.keyedvectors.Vocab at 0x7fac47031e50>,\n",
              " 'damaging': <gensim.models.keyedvectors.Vocab at 0x7fac47031b90>,\n",
              " 'email': <gensim.models.keyedvectors.Vocab at 0x7fac47031a90>,\n",
              " 'hillary': <gensim.models.keyedvectors.Vocab at 0x7fac47031990>,\n",
              " 'clinton': <gensim.models.keyedvectors.Vocab at 0x7fac47031650>,\n",
              " 'wikileaks:': <gensim.models.keyedvectors.Vocab at 0x7fac47031f90>,\n",
              " \"stone's\": <gensim.models.keyedvectors.Vocab at 0x7fac47031790>,\n",
              " 'contact': <gensim.models.keyedvectors.Vocab at 0x7fac47031ad0>,\n",
              " 'julian': <gensim.models.keyedvectors.Vocab at 0x7fac47031c50>,\n",
              " 'assange': <gensim.models.keyedvectors.Vocab at 0x7fac47031710>,\n",
              " 'told': <gensim.models.keyedvectors.Vocab at 0x7fac47031390>,\n",
              " 'ask': <gensim.models.keyedvectors.Vocab at 0x7fac47031810>,\n",
              " 'wikileaks': <gensim.models.keyedvectors.Vocab at 0x7fac47375c10>,\n",
              " 'favor': <gensim.models.keyedvectors.Vocab at 0x7fac47375410>,\n",
              " '\"every': <gensim.models.keyedvectors.Vocab at 0x7fac47375210>,\n",
              " 'day.\"': <gensim.models.keyedvectors.Vocab at 0x7fac47375550>,\n",
              " 'publix': <gensim.models.keyedvectors.Vocab at 0x7fac47375090>,\n",
              " 'suspends': <gensim.models.keyedvectors.Vocab at 0x7fac47375c90>,\n",
              " 'contribution': <gensim.models.keyedvectors.Vocab at 0x7fac47375b90>,\n",
              " 'nra-backed': <gensim.models.keyedvectors.Vocab at 0x7fac47375b10>,\n",
              " 'politician': <gensim.models.keyedvectors.Vocab at 0x7fac473750d0>,\n",
              " 'amid': <gensim.models.keyedvectors.Vocab at 0x7fac47375750>,\n",
              " '\"publix': <gensim.models.keyedvectors.Vocab at 0x7fac47375d10>,\n",
              " 'away,\"': <gensim.models.keyedvectors.Vocab at 0x7fac47375890>,\n",
              " 'gun-control': <gensim.models.keyedvectors.Vocab at 0x7fac47375690>,\n",
              " 'activist': <gensim.models.keyedvectors.Vocab at 0x7fac47375f10>,\n",
              " 'bot': <gensim.models.keyedvectors.Vocab at 0x7fac47375710>,\n",
              " 'delivered': <gensim.models.keyedvectors.Vocab at 0x7fac47375dd0>,\n",
              " 'research': <gensim.models.keyedvectors.Vocab at 0x7fac47375f50>,\n",
              " 'paper': <gensim.models.keyedvectors.Vocab at 0x7fac47375b50>,\n",
              " '“our': <gensim.models.keyedvectors.Vocab at 0x7fac47375bd0>,\n",
              " 'result': <gensim.models.keyedvectors.Vocab at 0x7fac47375ed0>,\n",
              " 'suggest': <gensim.models.keyedvectors.Vocab at 0x7fac47375250>,\n",
              " 'that,': <gensim.models.keyedvectors.Vocab at 0x7fac47375cd0>,\n",
              " 'given': <gensim.models.keyedvectors.Vocab at 0x7fac47375650>,\n",
              " 'narrow': <gensim.models.keyedvectors.Vocab at 0x7fac473755d0>,\n",
              " 'margin': <gensim.models.keyedvectors.Vocab at 0x7fac473759d0>,\n",
              " 'victory': <gensim.models.keyedvectors.Vocab at 0x7fac47375150>,\n",
              " 'vote,': <gensim.models.keyedvectors.Vocab at 0x7fac473752d0>,\n",
              " 'bots’': <gensim.models.keyedvectors.Vocab at 0x7fac47375610>,\n",
              " 'effect': <gensim.models.keyedvectors.Vocab at 0x7fac47375810>,\n",
              " 'likely': <gensim.models.keyedvectors.Vocab at 0x7fac470c36d0>,\n",
              " 'marginal': <gensim.models.keyedvectors.Vocab at 0x7fac470c35d0>,\n",
              " 'possibly': <gensim.models.keyedvectors.Vocab at 0x7fac470c3390>,\n",
              " 'large': <gensim.models.keyedvectors.Vocab at 0x7fac470c3350>,\n",
              " 'affect': <gensim.models.keyedvectors.Vocab at 0x7fac470c33d0>,\n",
              " 'outcomes.\"': <gensim.models.keyedvectors.Vocab at 0x7fac470c3ed0>,\n",
              " 'wet': <gensim.models.keyedvectors.Vocab at 0x7fac470c3cd0>,\n",
              " 'sock': <gensim.models.keyedvectors.Vocab at 0x7fac470c3690>,\n",
              " 'apparently': <gensim.models.keyedvectors.Vocab at 0x7fac470c3090>,\n",
              " 'living': <gensim.models.keyedvectors.Vocab at 0x7fac470c3490>,\n",
              " 'press': <gensim.models.keyedvectors.Vocab at 0x7fac470c3510>,\n",
              " 'briefing': <gensim.models.keyedvectors.Vocab at 0x7fac470c3d90>,\n",
              " 'room': <gensim.models.keyedvectors.Vocab at 0x7fac470c3850>,\n",
              " '\"the': <gensim.models.keyedvectors.Vocab at 0x7fac470c3b90>,\n",
              " 'formerly': <gensim.models.keyedvectors.Vocab at 0x7fac47160e90>,\n",
              " 'socks...': <gensim.models.keyedvectors.Vocab at 0x7fac47160390>,\n",
              " 'become': <gensim.models.keyedvectors.Vocab at 0x7fac47160810>,\n",
              " 'crusty,\"': <gensim.models.keyedvectors.Vocab at 0x7fac47160b10>,\n",
              " 'tweeted': <gensim.models.keyedvectors.Vocab at 0x7fac471604d0>,\n",
              " 'reporter': <gensim.models.keyedvectors.Vocab at 0x7fac471609d0>,\n",
              " 'thrice': <gensim.models.keyedvectors.Vocab at 0x7fac471602d0>,\n",
              " 'spotted': <gensim.models.keyedvectors.Vocab at 0x7fac471605d0>,\n",
              " 'socks.': <gensim.models.keyedvectors.Vocab at 0x7fac47160d10>,\n",
              " 'member': <gensim.models.keyedvectors.Vocab at 0x7fac47160c10>,\n",
              " 'far-right': <gensim.models.keyedvectors.Vocab at 0x7fac47160550>,\n",
              " 'proud': <gensim.models.keyedvectors.Vocab at 0x7fac47160750>,\n",
              " 'boy': <gensim.models.keyedvectors.Vocab at 0x7fac47160210>,\n",
              " 'menaced': <gensim.models.keyedvectors.Vocab at 0x7fac47160490>,\n",
              " 'user': <gensim.models.keyedvectors.Vocab at 0x7fac47160710>,\n",
              " 'doorstep': <gensim.models.keyedvectors.Vocab at 0x7fac47160790>,\n",
              " 'videographer': <gensim.models.keyedvectors.Vocab at 0x7fac47160b50>,\n",
              " 'made': <gensim.models.keyedvectors.Vocab at 0x7fac470f0bd0>,\n",
              " 'fun': <gensim.models.keyedvectors.Vocab at 0x7fac470f0990>,\n",
              " 'extremist': <gensim.models.keyedvectors.Vocab at 0x7fac470f0c90>,\n",
              " 'online,': <gensim.models.keyedvectors.Vocab at 0x7fac470f06d0>,\n",
              " 'showed': <gensim.models.keyedvectors.Vocab at 0x7fac470f0950>,\n",
              " 'house.': <gensim.models.keyedvectors.Vocab at 0x7fac470f0ad0>,\n",
              " 'nra': <gensim.models.keyedvectors.Vocab at 0x7fac470f0d10>,\n",
              " 'blamed': <gensim.models.keyedvectors.Vocab at 0x7fac470f0f50>,\n",
              " 'godlessness.': <gensim.models.keyedvectors.Vocab at 0x7fac470f0b90>,\n",
              " 'door': <gensim.models.keyedvectors.Vocab at 0x7fac470f0a50>,\n",
              " 'schools.': <gensim.models.keyedvectors.Vocab at 0x7fac470f0250>,\n",
              " 'ritalin.': <gensim.models.keyedvectors.Vocab at 0x7fac470f03d0>,\n",
              " 'guess': <gensim.models.keyedvectors.Vocab at 0x7fac470f0e50>,\n",
              " \"what's\": <gensim.models.keyedvectors.Vocab at 0x7fac470f0490>,\n",
              " 'list?': <gensim.models.keyedvectors.Vocab at 0x7fac470f07d0>,\n",
              " \"here's\": <gensim.models.keyedvectors.Vocab at 0x7fac470f0410>,\n",
              " 'happens': <gensim.models.keyedvectors.Vocab at 0x7fac470f0a10>,\n",
              " 'catholic': <gensim.models.keyedvectors.Vocab at 0x7fac470f0850>,\n",
              " 'hospital': <gensim.models.keyedvectors.Vocab at 0x7fac470f0e90>,\n",
              " 'save': <gensim.models.keyedvectors.Vocab at 0x7fac470f0750>,\n",
              " 'expand': <gensim.models.keyedvectors.Vocab at 0x7fac470f0d90>,\n",
              " '“conscience': <gensim.models.keyedvectors.Vocab at 0x7fac4715d5d0>,\n",
              " 'rights”': <gensim.models.keyedvectors.Vocab at 0x7fac4715ded0>,\n",
              " '–': <gensim.models.keyedvectors.Vocab at 0x7fac4715d790>,\n",
              " 'though': <gensim.models.keyedvectors.Vocab at 0x7fac4715d850>,\n",
              " 'faith-based': <gensim.models.keyedvectors.Vocab at 0x7fac4715d810>,\n",
              " 'medicine': <gensim.models.keyedvectors.Vocab at 0x7fac4715d0d0>,\n",
              " 'patients.': <gensim.models.keyedvectors.Vocab at 0x7fac4715de10>,\n",
              " 'executive': <gensim.models.keyedvectors.Vocab at 0x7fac4715d6d0>,\n",
              " 'order': <gensim.models.keyedvectors.Vocab at 0x7fac4715d110>,\n",
              " 'easier': <gensim.models.keyedvectors.Vocab at 0x7fac4715d510>,\n",
              " 'fire': <gensim.models.keyedvectors.Vocab at 0x7fac4715df50>,\n",
              " 'federal': <gensim.models.keyedvectors.Vocab at 0x7fac4715de90>,\n",
              " 'worker': <gensim.models.keyedvectors.Vocab at 0x7fac4715da50>,\n",
              " 'union': <gensim.models.keyedvectors.Vocab at 0x7fac4715d590>,\n",
              " 'denounced': <gensim.models.keyedvectors.Vocab at 0x7fac4715d7d0>,\n",
              " \"president's\": <gensim.models.keyedvectors.Vocab at 0x7fac4715d2d0>,\n",
              " 'action': <gensim.models.keyedvectors.Vocab at 0x7fac4715d390>,\n",
              " '“assault': <gensim.models.keyedvectors.Vocab at 0x7fac4715db10>,\n",
              " 'democracy.”': <gensim.models.keyedvectors.Vocab at 0x7fac4715d990>,\n",
              " 'monsanto': <gensim.models.keyedvectors.Vocab at 0x7fac4715d610>,\n",
              " 'bayer': <gensim.models.keyedvectors.Vocab at 0x7fac4715d4d0>,\n",
              " 'merge.': <gensim.models.keyedvectors.Vocab at 0x7fac4715d050>,\n",
              " 'care.': <gensim.models.keyedvectors.Vocab at 0x7fac4715df90>,\n",
              " '“together': <gensim.models.keyedvectors.Vocab at 0x7fac4715db50>,\n",
              " 'influence': <gensim.models.keyedvectors.Vocab at 0x7fac4715d410>,\n",
              " 'market': <gensim.models.keyedvectors.Vocab at 0x7fac4715dad0>,\n",
              " 'scale': <gensim.models.keyedvectors.Vocab at 0x7fac4715db90>,\n",
              " 'we’ve': <gensim.models.keyedvectors.Vocab at 0x7fac4715da10>,\n",
              " 'seen': <gensim.models.keyedvectors.Vocab at 0x7fac4715d450>,\n",
              " 'before.”': <gensim.models.keyedvectors.Vocab at 0x7fac4715d710>,\n",
              " 'joy': <gensim.models.keyedvectors.Vocab at 0x7fac4715d1d0>,\n",
              " 'watching': <gensim.models.keyedvectors.Vocab at 0x7fac4715dd10>,\n",
              " 'weinstein’s': <gensim.models.keyedvectors.Vocab at 0x7fac4715d910>,\n",
              " 'perp': <gensim.models.keyedvectors.Vocab at 0x7fac4715d8d0>,\n",
              " 'delicious': <gensim.models.keyedvectors.Vocab at 0x7fac4715dd90>,\n",
              " 'schadenfreude': <gensim.models.keyedvectors.Vocab at 0x7fac47088c90>,\n",
              " 'seeing': <gensim.models.keyedvectors.Vocab at 0x7fac47088a50>,\n",
              " 'abuser': <gensim.models.keyedvectors.Vocab at 0x7fac47088790>,\n",
              " 'finally': <gensim.models.keyedvectors.Vocab at 0x7fac47088710>,\n",
              " 'held': <gensim.models.keyedvectors.Vocab at 0x7fac47088850>,\n",
              " 'accountable.': <gensim.models.keyedvectors.Vocab at 0x7fac47088f50>,\n",
              " 'funniest': <gensim.models.keyedvectors.Vocab at 0x7fac47088250>,\n",
              " '\"welcome': <gensim.models.keyedvectors.Vocab at 0x7fac47088d90>,\n",
              " 'adulthood.': <gensim.models.keyedvectors.Vocab at 0x7fac470884d0>,\n",
              " 'favorite': <gensim.models.keyedvectors.Vocab at 0x7fac470887d0>,\n",
              " 'spatula': <gensim.models.keyedvectors.Vocab at 0x7fac47088750>,\n",
              " 'now.\"': <gensim.models.keyedvectors.Vocab at 0x7fac47088950>,\n",
              " \"'queer\": <gensim.models.keyedvectors.Vocab at 0x7fac47088ed0>,\n",
              " \"eye'\": <gensim.models.keyedvectors.Vocab at 0x7fac47088910>,\n",
              " 'bobby': <gensim.models.keyedvectors.Vocab at 0x7fac47088410>,\n",
              " 'berk': <gensim.models.keyedvectors.Vocab at 0x7fac47088dd0>,\n",
              " 'gave': <gensim.models.keyedvectors.Vocab at 0x7fac47088690>,\n",
              " 'desk': <gensim.models.keyedvectors.Vocab at 0x7fac47088450>,\n",
              " 'makeover': <gensim.models.keyedvectors.Vocab at 0x7fac47088f90>,\n",
              " '--': <gensim.models.keyedvectors.Vocab at 0x7fac47088890>,\n",
              " 'incredible': <gensim.models.keyedvectors.Vocab at 0x7fac47088bd0>,\n",
              " 'believe?': <gensim.models.keyedvectors.Vocab at 0x7fac47088550>,\n",
              " 'older': <gensim.models.keyedvectors.Vocab at 0x7fac47088610>,\n",
              " 'gay': <gensim.models.keyedvectors.Vocab at 0x7fac47088b10>,\n",
              " \"'new\": <gensim.models.keyedvectors.Vocab at 0x7fac470881d0>,\n",
              " \"gay'\": <gensim.models.keyedvectors.Vocab at 0x7fac470886d0>,\n",
              " 'slang': <gensim.models.keyedvectors.Vocab at 0x7fac47088290>,\n",
              " 'hilarious': <gensim.models.keyedvectors.Vocab at 0x7fac470880d0>,\n",
              " '“you': <gensim.models.keyedvectors.Vocab at 0x7fac47088050>,\n",
              " 'guy': <gensim.models.keyedvectors.Vocab at 0x7fac47088c10>,\n",
              " 'rupaul.”': <gensim.models.keyedvectors.Vocab at 0x7fac470885d0>,\n",
              " \"'rupaul’s\": <gensim.models.keyedvectors.Vocab at 0x7fac47088310>,\n",
              " 'drag': <gensim.models.keyedvectors.Vocab at 0x7fac470883d0>,\n",
              " \"race'\": <gensim.models.keyedvectors.Vocab at 0x7fac47088fd0>,\n",
              " 'teaching': <gensim.models.keyedvectors.Vocab at 0x7fac47088150>,\n",
              " 'straight': <gensim.models.keyedvectors.Vocab at 0x7fac47088590>,\n",
              " 'queer': <gensim.models.keyedvectors.Vocab at 0x7fac47088a90>,\n",
              " 'culture': <gensim.models.keyedvectors.Vocab at 0x7fac4712d210>,\n",
              " 'mainstream': <gensim.models.keyedvectors.Vocab at 0x7fac4712dc90>,\n",
              " 'isn’t': <gensim.models.keyedvectors.Vocab at 0x7fac4712d050>,\n",
              " 'potentially': <gensim.models.keyedvectors.Vocab at 0x7fac4712dd90>,\n",
              " 'benefit': <gensim.models.keyedvectors.Vocab at 0x7fac4712dad0>,\n",
              " 'show’s': <gensim.models.keyedvectors.Vocab at 0x7fac4712d910>,\n",
              " 'continued': <gensim.models.keyedvectors.Vocab at 0x7fac4712de10>,\n",
              " 'prominence.': <gensim.models.keyedvectors.Vocab at 0x7fac4712d950>,\n",
              " 'fish': <gensim.models.keyedvectors.Vocab at 0x7fac4712d990>,\n",
              " 'freedom': <gensim.models.keyedvectors.Vocab at 0x7fac4712db90>,\n",
              " 'fred': <gensim.models.keyedvectors.Vocab at 0x7fac4712dd50>,\n",
              " '-pound': <gensim.models.keyedvectors.Vocab at 0x7fac4712d0d0>,\n",
              " 'octopus': <gensim.models.keyedvectors.Vocab at 0x7fac4712d150>,\n",
              " 'owner': <gensim.models.keyedvectors.Vocab at 0x7fac4712dc50>,\n",
              " 'sell': <gensim.models.keyedvectors.Vocab at 0x7fac471bb050>,\n",
              " 'product': <gensim.models.keyedvectors.Vocab at 0x7fac471bb450>,\n",
              " 'playing': <gensim.models.keyedvectors.Vocab at 0x7fac471bba10>,\n",
              " 'hide-and-seek': <gensim.models.keyedvectors.Vocab at 0x7fac471bbb50>,\n",
              " 'friendly': <gensim.models.keyedvectors.Vocab at 0x7fac471bbb90>,\n",
              " 'cephalopod.': <gensim.models.keyedvectors.Vocab at 0x7fac471bb510>,\n",
              " 'threatens': <gensim.models.keyedvectors.Vocab at 0x7fac471bb2d0>,\n",
              " 'summit,': <gensim.models.keyedvectors.Vocab at 0x7fac471bba90>,\n",
              " 'warns': <gensim.models.keyedvectors.Vocab at 0x7fac471bbf10>,\n",
              " '‘nuclear': <gensim.models.keyedvectors.Vocab at 0x7fac471bb550>,\n",
              " 'showdown’': <gensim.models.keyedvectors.Vocab at 0x7fac471bb190>,\n",
              " 'top': <gensim.models.keyedvectors.Vocab at 0x7fac471bb8d0>,\n",
              " 'pyongyang': <gensim.models.keyedvectors.Vocab at 0x7fac471bbd50>,\n",
              " 'lambasted': <gensim.models.keyedvectors.Vocab at 0x7fac471bb150>,\n",
              " '\"political': <gensim.models.keyedvectors.Vocab at 0x7fac471bbc50>,\n",
              " 'dummy\"': <gensim.models.keyedvectors.Vocab at 0x7fac471bbed0>,\n",
              " 'penny': <gensim.models.keyedvectors.Vocab at 0x7fac471bb650>,\n",
              " 'cautioned': <gensim.models.keyedvectors.Vocab at 0x7fac471bb5d0>,\n",
              " 'making': <gensim.models.keyedvectors.Vocab at 0x7fac471bb6d0>,\n",
              " '\"ignorant\"': <gensim.models.keyedvectors.Vocab at 0x7fac471bb4d0>,\n",
              " 'remarks.': <gensim.models.keyedvectors.Vocab at 0x7fac471bb590>,\n",
              " 'investigation': <gensim.models.keyedvectors.Vocab at 0x7fac471bb910>,\n",
              " 'find': <gensim.models.keyedvectors.Vocab at 0x7fac471bbe50>,\n",
              " 'missile': <gensim.models.keyedvectors.Vocab at 0x7fac471bbc10>,\n",
              " 'flight': <gensim.models.keyedvectors.Vocab at 0x7fac471bb710>,\n",
              " 'mh': <gensim.models.keyedvectors.Vocab at 0x7fac471bbc90>,\n",
              " 'clear': <gensim.models.keyedvectors.Vocab at 0x7fac471bb210>,\n",
              " 'operating': <gensim.models.keyedvectors.Vocab at 0x7fac471bb410>,\n",
              " 'hit': <gensim.models.keyedvectors.Vocab at 0x7fac471bbdd0>,\n",
              " 'plane': <gensim.models.keyedvectors.Vocab at 0x7fac471bb810>,\n",
              " 'eastern': <gensim.models.keyedvectors.Vocab at 0x7fac471bb990>,\n",
              " 'ukraine': <gensim.models.keyedvectors.Vocab at 0x7fac471bbf90>,\n",
              " 'killing': <gensim.models.keyedvectors.Vocab at 0x7fac471bb790>,\n",
              " 'people.': <gensim.models.keyedvectors.Vocab at 0x7fac471bbbd0>,\n",
              " 'demolishes': <gensim.models.keyedvectors.Vocab at 0x7fac471f8a50>,\n",
              " 'tunnel': <gensim.models.keyedvectors.Vocab at 0x7fac471f8550>,\n",
              " 'nuclear': <gensim.models.keyedvectors.Vocab at 0x7fac471f8510>,\n",
              " 'test': <gensim.models.keyedvectors.Vocab at 0x7fac471f8ad0>,\n",
              " 'site,': <gensim.models.keyedvectors.Vocab at 0x7fac471f8910>,\n",
              " 'conducted': <gensim.models.keyedvectors.Vocab at 0x7fac471f8690>,\n",
              " 'six': <gensim.models.keyedvectors.Vocab at 0x7fac471f8c90>,\n",
              " 'punggye-ri': <gensim.models.keyedvectors.Vocab at 0x7fac471f87d0>,\n",
              " 'site.': <gensim.models.keyedvectors.Vocab at 0x7fac471f8e90>,\n",
              " '‘baited’': <gensim.models.keyedvectors.Vocab at 0x7fac471f85d0>,\n",
              " 'canceling': <gensim.models.keyedvectors.Vocab at 0x7fac471f8d50>,\n",
              " 'slapdash': <gensim.models.keyedvectors.Vocab at 0x7fac471f8150>,\n",
              " 'negotiation': <gensim.models.keyedvectors.Vocab at 0x7fac471f8b10>,\n",
              " 'isolated': <gensim.models.keyedvectors.Vocab at 0x7fac471f82d0>,\n",
              " 'asian': <gensim.models.keyedvectors.Vocab at 0x7fac471f8c10>,\n",
              " 'allies.': <gensim.models.keyedvectors.Vocab at 0x7fac471f8790>,\n",
              " 'michelle': <gensim.models.keyedvectors.Vocab at 0x7fac471f8810>,\n",
              " 'memoir': <gensim.models.keyedvectors.Vocab at 0x7fac471f86d0>,\n",
              " \"'becoming'\": <gensim.models.keyedvectors.Vocab at 0x7fac471f8f10>,\n",
              " 'process': <gensim.models.keyedvectors.Vocab at 0x7fac471f8350>,\n",
              " 'writing': <gensim.models.keyedvectors.Vocab at 0x7fac471f8f50>,\n",
              " 'book': <gensim.models.keyedvectors.Vocab at 0x7fac471f8390>,\n",
              " 'personally': <gensim.models.keyedvectors.Vocab at 0x7fac471f8d90>,\n",
              " 'meaningful': <gensim.models.keyedvectors.Vocab at 0x7fac471f80d0>,\n",
              " 'illuminating': <gensim.models.keyedvectors.Vocab at 0x7fac471f8610>,\n",
              " 'me.\"': <gensim.models.keyedvectors.Vocab at 0x7fac47255b10>,\n",
              " \"'late\": <gensim.models.keyedvectors.Vocab at 0x7fac47255f50>,\n",
              " \"night'\": <gensim.models.keyedvectors.Vocab at 0x7fac47255050>,\n",
              " \"writer's\": <gensim.models.keyedvectors.Vocab at 0x7fac47255e10>,\n",
              " 'breathless': <gensim.models.keyedvectors.Vocab at 0x7fac47255810>,\n",
              " 'royal': <gensim.models.keyedvectors.Vocab at 0x7fac47255e50>,\n",
              " 'wedding': <gensim.models.keyedvectors.Vocab at 0x7fac47255490>,\n",
              " 'recap': <gensim.models.keyedvectors.Vocab at 0x7fac47255f10>,\n",
              " '“then': <gensim.models.keyedvectors.Vocab at 0x7fac472552d0>,\n",
              " 'bite': <gensim.models.keyedvectors.Vocab at 0x7fac47255750>,\n",
              " 'lip,': <gensim.models.keyedvectors.Vocab at 0x7fac47255910>,\n",
              " 'like,': <gensim.models.keyedvectors.Vocab at 0x7fac47255950>,\n",
              " '‘hmm,': <gensim.models.keyedvectors.Vocab at 0x7fac47255250>,\n",
              " 'girl.’”': <gensim.models.keyedvectors.Vocab at 0x7fac47255a90>,\n",
              " ...}"
            ]
          },
          "metadata": {},
          "execution_count": 108
        }
      ]
    },
    {
      "cell_type": "code",
      "source": [
        "w2v_model.wv.most_similar(\"killing\")\n"
      ],
      "metadata": {
        "colab": {
          "base_uri": "https://localhost:8080/"
        },
        "id": "NUi7HFO90_jB",
        "outputId": "83cee4fb-2240-4846-d6ec-082bbf695c9f"
      },
      "execution_count": 109,
      "outputs": [
        {
          "output_type": "execute_result",
          "data": {
            "text/plain": [
              "[('wounded', 0.938124418258667),\n",
              " ('injured', 0.9250953793525696),\n",
              " ('killed,', 0.9237625002861023),\n",
              " ('wounding', 0.9206181764602661),\n",
              " ('killed', 0.9187870025634766),\n",
              " ('injuring', 0.9186465740203857),\n",
              " ('suspected', 0.9068102836608887),\n",
              " ('injured,', 0.9065996408462524),\n",
              " ('arrested', 0.9048048257827759),\n",
              " ('charged', 0.9021996855735779)]"
            ]
          },
          "metadata": {},
          "execution_count": 109
        }
      ]
    },
    {
      "cell_type": "markdown",
      "source": [
        "- tokenizer"
      ],
      "metadata": {
        "id": "ktv3t54s1hpH"
      }
    },
    {
      "cell_type": "code",
      "source": [
        "word_index = tokenizer.word_index\n",
        "for word, num in word_index.items():\n",
        "    print(f\"{word} -> {num}\")\n",
        "    if num == 3:\n",
        "        break "
      ],
      "metadata": {
        "colab": {
          "base_uri": "https://localhost:8080/"
        },
        "id": "Zdv1qJtw1g5v",
        "outputId": "eed2f91b-7d0d-46e3-9f7c-aef20f3f8ac5"
      },
      "execution_count": 111,
      "outputs": [
        {
          "output_type": "stream",
          "name": "stdout",
          "text": [
            "UNK -> 1\n",
            "new -> 2\n",
            "one -> 3\n"
          ]
        }
      ]
    },
    {
      "cell_type": "code",
      "source": [
        "vocab_size = len(tokenizer.word_index) + 1\n",
        "def get_weight_matrix(model, vocab):\n",
        "    vocab_size = len(vocab) + 1\n",
        "    weight_matrix = np.zeros((vocab_size, EMBEDDING_DIM))\n",
        "    for word, i in vocab.items():\n",
        "      try:\n",
        "        weight_matrix[i] = model[word]\n",
        "      except:\n",
        "        pass\n",
        "    return weight_matrix"
      ],
      "metadata": {
        "id": "E6shneGk2e8F"
      },
      "execution_count": 105,
      "outputs": []
    },
    {
      "cell_type": "code",
      "source": [
        "embedding_vectors = get_weight_matrix(w2v_model, word_index)"
      ],
      "metadata": {
        "colab": {
          "base_uri": "https://localhost:8080/"
        },
        "id": "3RNJcnDh23vX",
        "outputId": "b20b366d-dae8-44d9-fba5-8c77da6bfecd"
      },
      "execution_count": 106,
      "outputs": [
        {
          "output_type": "stream",
          "name": "stderr",
          "text": [
            "/usr/local/lib/python3.7/dist-packages/ipykernel_launcher.py:7: DeprecationWarning: Call to deprecated `__getitem__` (Method will be removed in 4.0.0, use self.wv.__getitem__() instead).\n",
            "  import sys\n"
          ]
        }
      ]
    },
    {
      "cell_type": "code",
      "source": [
        "embedding_vectors.shape"
      ],
      "metadata": {
        "colab": {
          "base_uri": "https://localhost:8080/"
        },
        "id": "MV82fmUx46Mz",
        "outputId": "5c1d881c-6a07-4ca5-abfc-085821458fc3"
      },
      "execution_count": 107,
      "outputs": [
        {
          "output_type": "execute_result",
          "data": {
            "text/plain": [
              "(224160, 100)"
            ]
          },
          "metadata": {},
          "execution_count": 107
        }
      ]
    },
    {
      "cell_type": "code",
      "source": [
        "x_train, x_test, y_train, y_test = train_test_split(text_pad, train_labels, stratify=train_labels, test_size=0.2)\n",
        "\n",
        "print(x_train.shape, x_test.shape)\n",
        "print(y_train.shape, y_test.shape)"
      ],
      "metadata": {
        "colab": {
          "base_uri": "https://localhost:8080/"
        },
        "id": "Bfxq5t3uCzLY",
        "outputId": "8f1ef247-18ef-4083-924a-0f241d970159"
      },
      "execution_count": 57,
      "outputs": [
        {
          "output_type": "stream",
          "name": "stdout",
          "text": [
            "(160306, 45) (40077, 45)\n",
            "(160306, 41) (40077, 41)\n"
          ]
        }
      ]
    },
    {
      "cell_type": "code",
      "source": [
        "model = Sequential()\n",
        "#Non-trainable embeddidng layer\n",
        "model.add(Embedding(vocab_size, output_dim=EMBEDDING_DIM, weights=[embedding_vectors], trainable=False))\n",
        "#LSTM \n",
        "model.add(LSTM(units=128))\n",
        "model.add(layers.Dense(41, activation='softmax'))\n",
        "model.compile(optimizer='adam', loss='categorical_crossentropy', metrics=['accuracy'])"
      ],
      "metadata": {
        "id": "01XQTTJrMEQ0"
      },
      "execution_count": 119,
      "outputs": []
    },
    {
      "cell_type": "code",
      "source": [
        "hist = model.fit(\n",
        "    x_train,\n",
        "    y_train,\n",
        "    epochs=5,\n",
        "    batch_size=256,\n",
        "    validation_split=0.15\n",
        ")"
      ],
      "metadata": {
        "colab": {
          "base_uri": "https://localhost:8080/"
        },
        "id": "WDlc-RdbMpHO",
        "outputId": "2fe52ee9-4fb3-453b-fcc4-4ace824303c4"
      },
      "execution_count": 120,
      "outputs": [
        {
          "output_type": "stream",
          "name": "stdout",
          "text": [
            "Epoch 1/5\n",
            "533/533 [==============================] - 6s 9ms/step - loss: 2.6031 - accuracy: 0.3319 - val_loss: 2.1623 - val_accuracy: 0.4246\n",
            "Epoch 2/5\n",
            "533/533 [==============================] - 4s 7ms/step - loss: 2.0029 - accuracy: 0.4638 - val_loss: 1.8974 - val_accuracy: 0.4865\n",
            "Epoch 3/5\n",
            "533/533 [==============================] - 4s 8ms/step - loss: 1.8107 - accuracy: 0.5089 - val_loss: 1.7659 - val_accuracy: 0.5159\n",
            "Epoch 4/5\n",
            "533/533 [==============================] - 4s 7ms/step - loss: 1.7117 - accuracy: 0.5316 - val_loss: 1.7079 - val_accuracy: 0.5294\n",
            "Epoch 5/5\n",
            "533/533 [==============================] - 4s 8ms/step - loss: 1.6490 - accuracy: 0.5466 - val_loss: 1.6749 - val_accuracy: 0.5346\n"
          ]
        }
      ]
    },
    {
      "cell_type": "code",
      "source": [
        "model.evaluate(x_test, y_test)\n"
      ],
      "metadata": {
        "colab": {
          "base_uri": "https://localhost:8080/"
        },
        "id": "XBFNI3_NMpKs",
        "outputId": "7c32fb6f-5009-41a8-f508-622ba7e358e4"
      },
      "execution_count": 121,
      "outputs": [
        {
          "output_type": "stream",
          "name": "stdout",
          "text": [
            "1253/1253 [==============================] - 5s 4ms/step - loss: 1.6716 - accuracy: 0.5364\n"
          ]
        },
        {
          "output_type": "execute_result",
          "data": {
            "text/plain": [
              "[1.67155122756958, 0.5363674759864807]"
            ]
          },
          "metadata": {},
          "execution_count": 121
        }
      ]
    },
    {
      "cell_type": "markdown",
      "source": [
        "-----"
      ],
      "metadata": {
        "id": "ZDRNX242CTvu"
      }
    },
    {
      "cell_type": "markdown",
      "source": [
        "- word2vec & bidirectional"
      ],
      "metadata": {
        "id": "ShcaWt4MXyS3"
      }
    },
    {
      "cell_type": "code",
      "source": [
        "model = Sequential()\n",
        "#Non-trainable embeddidng layer\n",
        "model.add(Embedding(vocab_size, output_dim=EMBEDDING_DIM, weights=[embedding_vectors], trainable=False))\n",
        "model.add(Dense(128, activation = 'relu'))\n",
        "model.add(Bidirectional(LSTM(200, return_sequences=True)))\n",
        "model.add(Dropout(0.4))\n",
        "model.add(Dense(64, activation = 'relu'))\n",
        "model.add(Bidirectional(LSTM(100)))\n",
        "model.add(Dense(41, activation = 'softmax'))\n",
        "\n",
        "model.summary()"
      ],
      "metadata": {
        "colab": {
          "base_uri": "https://localhost:8080/"
        },
        "id": "1MuYkiIzCIss",
        "outputId": "ed56ef32-2409-4151-81a3-c9fbb77c4e5c"
      },
      "execution_count": 133,
      "outputs": [
        {
          "output_type": "stream",
          "name": "stdout",
          "text": [
            "Model: \"sequential_25\"\n",
            "_________________________________________________________________\n",
            " Layer (type)                Output Shape              Param #   \n",
            "=================================================================\n",
            " embedding_26 (Embedding)    (None, None, 100)         22416000  \n",
            "                                                                 \n",
            " dense_34 (Dense)            (None, None, 128)         12928     \n",
            "                                                                 \n",
            " bidirectional_10 (Bidirecti  (None, None, 400)        526400    \n",
            " onal)                                                           \n",
            "                                                                 \n",
            " dropout_5 (Dropout)         (None, None, 400)         0         \n",
            "                                                                 \n",
            " dense_35 (Dense)            (None, None, 64)          25664     \n",
            "                                                                 \n",
            " bidirectional_11 (Bidirecti  (None, 200)              132000    \n",
            " onal)                                                           \n",
            "                                                                 \n",
            " dense_36 (Dense)            (None, 41)                8241      \n",
            "                                                                 \n",
            "=================================================================\n",
            "Total params: 23,121,233\n",
            "Trainable params: 705,233\n",
            "Non-trainable params: 22,416,000\n",
            "_________________________________________________________________\n"
          ]
        }
      ]
    },
    {
      "cell_type": "code",
      "source": [
        "model.compile(optimizer='adam', loss='categorical_crossentropy', metrics=['accuracy'])"
      ],
      "metadata": {
        "id": "Qpeo5To3WUJC"
      },
      "execution_count": 134,
      "outputs": []
    },
    {
      "cell_type": "code",
      "source": [
        "hist = model.fit(\n",
        "    x_train,\n",
        "    y_train,\n",
        "    epochs=5,\n",
        "    batch_size=256,\n",
        "    validation_split=0.15\n",
        ")"
      ],
      "metadata": {
        "colab": {
          "base_uri": "https://localhost:8080/"
        },
        "id": "_dKJPCmqCIvb",
        "outputId": "e81e226c-2833-4d02-e108-f8671a59e2b7"
      },
      "execution_count": 135,
      "outputs": [
        {
          "output_type": "stream",
          "name": "stdout",
          "text": [
            "Epoch 1/5\n",
            "533/533 [==============================] - 27s 39ms/step - loss: 2.2407 - accuracy: 0.4101 - val_loss: 1.9216 - val_accuracy: 0.4791\n",
            "Epoch 2/5\n",
            "533/533 [==============================] - 18s 34ms/step - loss: 1.7864 - accuracy: 0.5144 - val_loss: 1.7086 - val_accuracy: 0.5320\n",
            "Epoch 3/5\n",
            "533/533 [==============================] - 18s 34ms/step - loss: 1.6506 - accuracy: 0.5453 - val_loss: 1.6286 - val_accuracy: 0.5466\n",
            "Epoch 4/5\n",
            "533/533 [==============================] - 19s 35ms/step - loss: 1.5651 - accuracy: 0.5663 - val_loss: 1.5958 - val_accuracy: 0.5559\n",
            "Epoch 5/5\n",
            "533/533 [==============================] - 22s 41ms/step - loss: 1.4973 - accuracy: 0.5814 - val_loss: 1.5311 - val_accuracy: 0.5711\n"
          ]
        }
      ]
    },
    {
      "cell_type": "markdown",
      "source": [
        "- remove dropout"
      ],
      "metadata": {
        "id": "IpB3OGx6Y44e"
      }
    },
    {
      "cell_type": "code",
      "source": [
        "model = Sequential()\n",
        "#Non-trainable embeddidng layer\n",
        "model.add(Embedding(vocab_size, output_dim=EMBEDDING_DIM, weights=[embedding_vectors], trainable=False))\n",
        "model.add(Dense(128, activation = 'relu'))\n",
        "model.add(Bidirectional(LSTM(200, return_sequences=True)))\n",
        "model.add(Dense(64, activation = 'relu'))\n",
        "model.add(Bidirectional(LSTM(100)))\n",
        "model.add(Dense(41, activation = 'softmax'))\n",
        "\n",
        "model.summary()"
      ],
      "metadata": {
        "colab": {
          "base_uri": "https://localhost:8080/"
        },
        "id": "2yoXRQRnYazt",
        "outputId": "0e9015fc-3a7f-4db0-d7f7-ef5f7493dee9"
      },
      "execution_count": 138,
      "outputs": [
        {
          "output_type": "stream",
          "name": "stdout",
          "text": [
            "Model: \"sequential_26\"\n",
            "_________________________________________________________________\n",
            " Layer (type)                Output Shape              Param #   \n",
            "=================================================================\n",
            " embedding_27 (Embedding)    (None, None, 100)         22416000  \n",
            "                                                                 \n",
            " dense_37 (Dense)            (None, None, 128)         12928     \n",
            "                                                                 \n",
            " bidirectional_12 (Bidirecti  (None, None, 400)        526400    \n",
            " onal)                                                           \n",
            "                                                                 \n",
            " dense_38 (Dense)            (None, None, 64)          25664     \n",
            "                                                                 \n",
            " bidirectional_13 (Bidirecti  (None, 200)              132000    \n",
            " onal)                                                           \n",
            "                                                                 \n",
            " dense_39 (Dense)            (None, 41)                8241      \n",
            "                                                                 \n",
            "=================================================================\n",
            "Total params: 23,121,233\n",
            "Trainable params: 705,233\n",
            "Non-trainable params: 22,416,000\n",
            "_________________________________________________________________\n"
          ]
        }
      ]
    },
    {
      "cell_type": "code",
      "source": [
        "model.compile(optimizer='adam', loss='categorical_crossentropy', metrics=['accuracy'])"
      ],
      "metadata": {
        "id": "moTbCfKuYdcf"
      },
      "execution_count": 139,
      "outputs": []
    },
    {
      "cell_type": "code",
      "source": [
        "hist2 = model.fit(\n",
        "    x_train,\n",
        "    y_train,\n",
        "    epochs=5,\n",
        "    batch_size=256,\n",
        "    validation_split=0.15\n",
        ")"
      ],
      "metadata": {
        "colab": {
          "base_uri": "https://localhost:8080/"
        },
        "id": "Jw86lAFmYfMI",
        "outputId": "149ae3e6-67bd-4a70-89b5-2b6f8d66d00e"
      },
      "execution_count": 140,
      "outputs": [
        {
          "output_type": "stream",
          "name": "stdout",
          "text": [
            "Epoch 1/5\n",
            "533/533 [==============================] - 26s 38ms/step - loss: 2.2067 - accuracy: 0.4185 - val_loss: 1.9161 - val_accuracy: 0.4820\n",
            "Epoch 2/5\n",
            "533/533 [==============================] - 18s 34ms/step - loss: 1.7706 - accuracy: 0.5173 - val_loss: 1.7283 - val_accuracy: 0.5250\n",
            "Epoch 3/5\n",
            "533/533 [==============================] - 18s 34ms/step - loss: 1.6302 - accuracy: 0.5506 - val_loss: 1.6221 - val_accuracy: 0.5488\n",
            "Epoch 4/5\n",
            "533/533 [==============================] - 18s 33ms/step - loss: 1.5436 - accuracy: 0.5697 - val_loss: 1.5611 - val_accuracy: 0.5610\n",
            "Epoch 5/5\n",
            "533/533 [==============================] - 19s 36ms/step - loss: 1.4725 - accuracy: 0.5853 - val_loss: 1.5461 - val_accuracy: 0.5665\n"
          ]
        }
      ]
    },
    {
      "cell_type": "code",
      "source": [
        "model.evaluate(x_test, y_test)"
      ],
      "metadata": {
        "colab": {
          "base_uri": "https://localhost:8080/"
        },
        "id": "nmGjsq7QCIyZ",
        "outputId": "09ae310f-95f9-4915-996f-6165d2351a67"
      },
      "execution_count": 136,
      "outputs": [
        {
          "output_type": "stream",
          "name": "stdout",
          "text": [
            "1253/1253 [==============================] - 13s 11ms/step - loss: 1.5208 - accuracy: 0.5753\n"
          ]
        },
        {
          "output_type": "execute_result",
          "data": {
            "text/plain": [
              "[1.5207856893539429, 0.5752925872802734]"
            ]
          },
          "metadata": {},
          "execution_count": 136
        }
      ]
    },
    {
      "cell_type": "code",
      "source": [
        ""
      ],
      "metadata": {
        "id": "Z1j9jT5hYD63"
      },
      "execution_count": null,
      "outputs": []
    },
    {
      "cell_type": "code",
      "source": [
        ""
      ],
      "metadata": {
        "id": "9qJ288qqYD-Q"
      },
      "execution_count": null,
      "outputs": []
    },
    {
      "cell_type": "code",
      "source": [
        ""
      ],
      "metadata": {
        "id": "KV4_9Gl1AWCW"
      },
      "execution_count": null,
      "outputs": []
    },
    {
      "cell_type": "code",
      "source": [
        ""
      ],
      "metadata": {
        "id": "vA18wZHM6BTl"
      },
      "execution_count": null,
      "outputs": []
    },
    {
      "cell_type": "code",
      "source": [
        ""
      ],
      "metadata": {
        "id": "Bb80U7r_6DSh"
      },
      "execution_count": null,
      "outputs": []
    },
    {
      "cell_type": "code",
      "source": [
        ""
      ],
      "metadata": {
        "id": "RuE6E17W6DuV"
      },
      "execution_count": null,
      "outputs": []
    },
    {
      "cell_type": "markdown",
      "source": [
        "## Final Results and Conclusion"
      ],
      "metadata": {
        "id": "20Av1Qnr6Exd"
      }
    },
    {
      "cell_type": "markdown",
      "source": [
        "this result of word2vec & bidirectional"
      ],
      "metadata": {
        "id": "cnKLR9xHYIc6"
      }
    },
    {
      "cell_type": "code",
      "source": [
        "model.evaluate(x_test, y_test)"
      ],
      "metadata": {
        "id": "1yFOIlYX6EZd",
        "colab": {
          "base_uri": "https://localhost:8080/"
        },
        "outputId": "e630866a-3c74-478f-cbde-237719725d15"
      },
      "execution_count": 141,
      "outputs": [
        {
          "output_type": "stream",
          "name": "stdout",
          "text": [
            "1253/1253 [==============================] - 11s 9ms/step - loss: 1.5411 - accuracy: 0.5700\n"
          ]
        },
        {
          "output_type": "execute_result",
          "data": {
            "text/plain": [
              "[1.541053056716919, 0.5700277090072632]"
            ]
          },
          "metadata": {},
          "execution_count": 141
        }
      ]
    },
    {
      "cell_type": "code",
      "source": [
        "acc = hist.history['accuracy']\n",
        "val_acc = hist.history['val_accuracy']\n",
        "loss = hist.history['loss']\n",
        "val_loss = hist.history['val_loss']\n",
        "\n",
        "epochs = range(len(acc))\n",
        "\n",
        "plt.plot(epochs, acc, 'bo', label='Training acc')\n",
        "plt.plot(epochs, val_acc, 'b', label='Validation acc')\n",
        "plt.title('Training and validation accuracy')\n",
        "plt.legend()\n",
        "\n",
        "plt.figure()\n",
        "\n",
        "plt.plot(epochs, loss, 'bo', label='Training loss')\n",
        "plt.plot(epochs, val_loss, 'b', label='Validation loss')\n",
        "plt.title('Training and validation loss')\n",
        "plt.legend()\n",
        "\n",
        "plt.show()"
      ],
      "metadata": {
        "colab": {
          "base_uri": "https://localhost:8080/",
          "height": 545
        },
        "id": "1paEqeGaCI0-",
        "outputId": "3bde7e6d-a10e-4d2d-fa0b-9edd249b3397"
      },
      "execution_count": 142,
      "outputs": [
        {
          "output_type": "display_data",
          "data": {
            "text/plain": [
              "<Figure size 432x288 with 1 Axes>"
            ],
            "image/png": "[encoded data removed]"
          },
          "metadata": {
            "needs_background": "light"
          }
        },
        {
          "output_type": "display_data",
          "data": {
            "text/plain": [
              "<Figure size 432x288 with 1 Axes>"
            ],
            "image/png": "[encoded data removed]"
          },
          "metadata": {
            "needs_background": "light"
          }
        }
      ]
    },
    {
      "cell_type": "code",
      "source": [
        ""
      ],
      "metadata": {
        "id": "L9qtOqBB6J8c"
      },
      "execution_count": null,
      "outputs": []
    },
    {
      "cell_type": "markdown",
      "source": [
        "## Best Wishes\n",
        "\n",
        "\n",
        "## Again: Delivery through this [form](https://forms.gle/PshJQw2bTa48Ligz7)"
      ],
      "metadata": {
        "id": "n6bbwZcA6Kcy"
      }
    }
  ],
  "metadata": {
    "kernelspec": {
      "display_name": "Python 3",
      "language": "python",
      "name": "python3"
    },
    "language_info": {
      "codemirror_mode": {
        "name": "ipython",
        "version": 3
      },
      "file_extension": ".py",
      "mimetype": "text/x-python",
      "name": "python",
      "nbconvert_exporter": "python",
      "pygments_lexer": "ipython3",
      "version": "3.8.5"
    },
    "colab": {
      "name": "2_Smart_Mehraiel_Mina.ipynb",
      "provenance": [],
      "collapsed_sections": []
    },
    "accelerator": "GPU",
    "gpuClass": "standard"
  },
  "nbformat": 4,
  "nbformat_minor": 0
}